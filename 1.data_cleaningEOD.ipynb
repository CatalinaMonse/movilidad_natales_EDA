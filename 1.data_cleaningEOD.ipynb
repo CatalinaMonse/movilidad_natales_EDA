{
 "cells": [
  {
   "cell_type": "markdown",
   "id": "e93bcf8e-b969-4582-abfd-0cc84998e41a",
   "metadata": {},
   "source": [
    "**Encuesta Origen Destino, Natales, 2024 - Limpieza de Datos**\n",
    "\n",
    "Este notebook contiene el proceso completo de limpieza de los datos de la Encuesta Origen Destino 2024.\n",
    "Aquí se corrigen tipos de datos, se manejan valores nulos, se renombran columnas y se mapean códigos a descripciones legibles.\n",
    "\n",
    "*Este archivo es parte del portafolio de proyectos de análisis de datos de CatalinaMonse*"
   ]
  },
  {
   "cell_type": "code",
   "execution_count": 1,
   "id": "feed91b2-3d9b-4566-a837-5215cf11532e",
   "metadata": {},
   "outputs": [],
   "source": [
    "#librery\n",
    "import pandas as pd"
   ]
  },
  {
   "cell_type": "code",
   "execution_count": 2,
   "id": "e3f894f4-6bb9-4555-ba78-0c30046411ef",
   "metadata": {},
   "outputs": [],
   "source": [
    "#Cargar datos \n",
    "hogar = pd.read_csv(\"data_hogar.csv\", encoding=\"latin1\")\n",
    "persona = pd.read_csv(\"data_persona.csv\", encoding=\"latin1\")\n",
    "viaje = pd.read_csv(\"data_viaje.csv\", encoding=\"latin1\")\n",
    "etapa = pd.read_csv(\"data_etapa.csv\", encoding=\"latin1\")\n",
    "vehiculo = pd.read_csv(\"data_vehiculo.csv\", encoding=\"latin1\")\n",
    "bicicleta = pd.read_csv(\"data_bicicleta.csv\", encoding=\"latin1\")\n",
    "localizacion = pd.read_csv(\"data_lochogar.csv\", encoding=\"latin1\")"
   ]
  },
  {
   "cell_type": "markdown",
   "id": "93c54c57-d939-4bb6-93c4-7d2aebec3b0c",
   "metadata": {
    "jp-MarkdownHeadingCollapsed": true
   },
   "source": [
    "### Exploración inicial del dataset"
   ]
  },
  {
   "cell_type": "code",
   "execution_count": 3,
   "id": "a64f3a75-f94d-449a-8bdb-2f68a45f6b9e",
   "metadata": {},
   "outputs": [
    {
     "data": {
      "text/html": [
       "<div>\n",
       "<style scoped>\n",
       "    .dataframe tbody tr th:only-of-type {\n",
       "        vertical-align: middle;\n",
       "    }\n",
       "\n",
       "    .dataframe tbody tr th {\n",
       "        vertical-align: top;\n",
       "    }\n",
       "\n",
       "    .dataframe thead th {\n",
       "        text-align: right;\n",
       "    }\n",
       "</style>\n",
       "<table border=\"1\" class=\"dataframe\">\n",
       "  <thead>\n",
       "    <tr style=\"text-align: right;\">\n",
       "      <th></th>\n",
       "      <th>Folio</th>\n",
       "      <th>DireccionCalle</th>\n",
       "      <th>DireccionComuna</th>\n",
       "      <th>Zona_Hogar</th>\n",
       "      <th>Sector_Hogar</th>\n",
       "      <th>DiaEntrevista</th>\n",
       "      <th>MesEntrevista</th>\n",
       "      <th>HoraEntrevista</th>\n",
       "      <th>MinutoEntrevista</th>\n",
       "      <th>DiaRegistroViaje</th>\n",
       "      <th>...</th>\n",
       "      <th>Sector</th>\n",
       "      <th>FactorExpansionH</th>\n",
       "      <th>codConexionInternet</th>\n",
       "      <th>codDisponibilidadVehiculo</th>\n",
       "      <th>codHanVividoSiempreAqui</th>\n",
       "      <th>codSituacionVivienda</th>\n",
       "      <th>codTipoVivienda</th>\n",
       "      <th>codTipoViviendaAnterior</th>\n",
       "      <th>codTramoIngresoHogar</th>\n",
       "      <th>codTramoVehiculo</th>\n",
       "    </tr>\n",
       "  </thead>\n",
       "  <tbody>\n",
       "    <tr>\n",
       "      <th>0</th>\n",
       "      <td>10011</td>\n",
       "      <td>BARROS ARANA</td>\n",
       "      <td>NATALES</td>\n",
       "      <td>1</td>\n",
       "      <td>4.Borde Costero</td>\n",
       "      <td>15</td>\n",
       "      <td>6</td>\n",
       "      <td>18</td>\n",
       "      <td>50</td>\n",
       "      <td>16</td>\n",
       "      <td>...</td>\n",
       "      <td>4.Borde Costero</td>\n",
       "      <td>14,889</td>\n",
       "      <td>NaN</td>\n",
       "      <td>NaN</td>\n",
       "      <td>NaN</td>\n",
       "      <td>NaN</td>\n",
       "      <td>NaN</td>\n",
       "      <td>NaN</td>\n",
       "      <td>NaN</td>\n",
       "      <td>NaN</td>\n",
       "    </tr>\n",
       "    <tr>\n",
       "      <th>1</th>\n",
       "      <td>10012</td>\n",
       "      <td>CARLOS BORIES</td>\n",
       "      <td>NATALES</td>\n",
       "      <td>1</td>\n",
       "      <td>4.Borde Costero</td>\n",
       "      <td>15</td>\n",
       "      <td>6</td>\n",
       "      <td>18</td>\n",
       "      <td>30</td>\n",
       "      <td>16</td>\n",
       "      <td>...</td>\n",
       "      <td>4.Borde Costero</td>\n",
       "      <td>5,489</td>\n",
       "      <td>NaN</td>\n",
       "      <td>NaN</td>\n",
       "      <td>NaN</td>\n",
       "      <td>NaN</td>\n",
       "      <td>NaN</td>\n",
       "      <td>NaN</td>\n",
       "      <td>NaN</td>\n",
       "      <td>NaN</td>\n",
       "    </tr>\n",
       "    <tr>\n",
       "      <th>2</th>\n",
       "      <td>10021</td>\n",
       "      <td>TOMAS ROGERS</td>\n",
       "      <td>NATALES</td>\n",
       "      <td>3</td>\n",
       "      <td>3.Centro</td>\n",
       "      <td>15</td>\n",
       "      <td>6</td>\n",
       "      <td>14</td>\n",
       "      <td>0</td>\n",
       "      <td>16</td>\n",
       "      <td>...</td>\n",
       "      <td>3.Centro</td>\n",
       "      <td>7,85</td>\n",
       "      <td>NaN</td>\n",
       "      <td>NaN</td>\n",
       "      <td>NaN</td>\n",
       "      <td>NaN</td>\n",
       "      <td>NaN</td>\n",
       "      <td>NaN</td>\n",
       "      <td>NaN</td>\n",
       "      <td>NaN</td>\n",
       "    </tr>\n",
       "    <tr>\n",
       "      <th>3</th>\n",
       "      <td>10022</td>\n",
       "      <td>MAGALLANES</td>\n",
       "      <td>NATALES</td>\n",
       "      <td>3</td>\n",
       "      <td>3.Centro</td>\n",
       "      <td>18</td>\n",
       "      <td>6</td>\n",
       "      <td>14</td>\n",
       "      <td>0</td>\n",
       "      <td>19</td>\n",
       "      <td>...</td>\n",
       "      <td>3.Centro</td>\n",
       "      <td>16,558</td>\n",
       "      <td>NaN</td>\n",
       "      <td>NaN</td>\n",
       "      <td>NaN</td>\n",
       "      <td>NaN</td>\n",
       "      <td>NaN</td>\n",
       "      <td>NaN</td>\n",
       "      <td>NaN</td>\n",
       "      <td>NaN</td>\n",
       "    </tr>\n",
       "    <tr>\n",
       "      <th>4</th>\n",
       "      <td>10031</td>\n",
       "      <td>AVENIDA LIBERTAD</td>\n",
       "      <td>NATALES</td>\n",
       "      <td>7</td>\n",
       "      <td>1.Residencial Norte</td>\n",
       "      <td>17</td>\n",
       "      <td>5</td>\n",
       "      <td>20</td>\n",
       "      <td>0</td>\n",
       "      <td>18</td>\n",
       "      <td>...</td>\n",
       "      <td>1.Residencial Norte</td>\n",
       "      <td>24,803</td>\n",
       "      <td>NaN</td>\n",
       "      <td>NaN</td>\n",
       "      <td>NaN</td>\n",
       "      <td>NaN</td>\n",
       "      <td>NaN</td>\n",
       "      <td>NaN</td>\n",
       "      <td>NaN</td>\n",
       "      <td>NaN</td>\n",
       "    </tr>\n",
       "  </tbody>\n",
       "</table>\n",
       "<p>5 rows × 50 columns</p>\n",
       "</div>"
      ],
      "text/plain": [
       "   Folio    DireccionCalle DireccionComuna  Zona_Hogar         Sector_Hogar  \\\n",
       "0  10011      BARROS ARANA         NATALES           1      4.Borde Costero   \n",
       "1  10012     CARLOS BORIES         NATALES           1      4.Borde Costero   \n",
       "2  10021      TOMAS ROGERS         NATALES           3             3.Centro   \n",
       "3  10022        MAGALLANES         NATALES           3             3.Centro   \n",
       "4  10031  AVENIDA LIBERTAD         NATALES           7  1.Residencial Norte   \n",
       "\n",
       "   DiaEntrevista  MesEntrevista  HoraEntrevista  MinutoEntrevista  \\\n",
       "0             15              6              18                50   \n",
       "1             15              6              18                30   \n",
       "2             15              6              14                 0   \n",
       "3             18              6              14                 0   \n",
       "4             17              5              20                 0   \n",
       "\n",
       "   DiaRegistroViaje  ...               Sector  FactorExpansionH  \\\n",
       "0                16  ...      4.Borde Costero            14,889   \n",
       "1                16  ...      4.Borde Costero             5,489   \n",
       "2                16  ...             3.Centro              7,85   \n",
       "3                19  ...             3.Centro            16,558   \n",
       "4                18  ...  1.Residencial Norte            24,803   \n",
       "\n",
       "   codConexionInternet codDisponibilidadVehiculo  codHanVividoSiempreAqui  \\\n",
       "0                  NaN                       NaN                      NaN   \n",
       "1                  NaN                       NaN                      NaN   \n",
       "2                  NaN                       NaN                      NaN   \n",
       "3                  NaN                       NaN                      NaN   \n",
       "4                  NaN                       NaN                      NaN   \n",
       "\n",
       "   codSituacionVivienda  codTipoVivienda  codTipoViviendaAnterior  \\\n",
       "0                   NaN              NaN                      NaN   \n",
       "1                   NaN              NaN                      NaN   \n",
       "2                   NaN              NaN                      NaN   \n",
       "3                   NaN              NaN                      NaN   \n",
       "4                   NaN              NaN                      NaN   \n",
       "\n",
       "   codTramoIngresoHogar  codTramoVehiculo  \n",
       "0                   NaN               NaN  \n",
       "1                   NaN               NaN  \n",
       "2                   NaN               NaN  \n",
       "3                   NaN               NaN  \n",
       "4                   NaN               NaN  \n",
       "\n",
       "[5 rows x 50 columns]"
      ]
     },
     "execution_count": 3,
     "metadata": {},
     "output_type": "execute_result"
    }
   ],
   "source": [
    "hogar.head()"
   ]
  },
  {
   "cell_type": "code",
   "execution_count": 4,
   "id": "20161792-2730-47ec-bcac-b6608e8278c2",
   "metadata": {},
   "outputs": [
    {
     "data": {
      "text/plain": [
       "(518, 50)"
      ]
     },
     "execution_count": 4,
     "metadata": {},
     "output_type": "execute_result"
    }
   ],
   "source": [
    "hogar.shape"
   ]
  },
  {
   "cell_type": "code",
   "execution_count": 5,
   "id": "10f88c06-c217-41b5-83d8-0525a02e785a",
   "metadata": {},
   "outputs": [
    {
     "data": {
      "text/html": [
       "<div>\n",
       "<style scoped>\n",
       "    .dataframe tbody tr th:only-of-type {\n",
       "        vertical-align: middle;\n",
       "    }\n",
       "\n",
       "    .dataframe tbody tr th {\n",
       "        vertical-align: top;\n",
       "    }\n",
       "\n",
       "    .dataframe thead th {\n",
       "        text-align: right;\n",
       "    }\n",
       "</style>\n",
       "<table border=\"1\" class=\"dataframe\">\n",
       "  <thead>\n",
       "    <tr style=\"text-align: right;\">\n",
       "      <th></th>\n",
       "      <th>Folio</th>\n",
       "      <th>ordenpersona</th>\n",
       "      <th>DiaEntrevista</th>\n",
       "      <th>MesEntrevista</th>\n",
       "      <th>HoraEntrevista</th>\n",
       "      <th>MinutoEntrevista</th>\n",
       "      <th>Sexo</th>\n",
       "      <th>Parentesco</th>\n",
       "      <th>MesNacimiento</th>\n",
       "      <th>AgnoNacimiento</th>\n",
       "      <th>...</th>\n",
       "      <th>codMotivoNoViaje</th>\n",
       "      <th>codOcupacionPrincipal</th>\n",
       "      <th>codParentesco</th>\n",
       "      <th>codPercepcionIngresos</th>\n",
       "      <th>codRealizoViaje</th>\n",
       "      <th>codSexo</th>\n",
       "      <th>codTenenciaLicenciaConducir</th>\n",
       "      <th>codTenenciaTNE</th>\n",
       "      <th>codTenenciaTarjetaAdultoMayor</th>\n",
       "      <th>codTramoIngresoPersonal</th>\n",
       "    </tr>\n",
       "  </thead>\n",
       "  <tbody>\n",
       "    <tr>\n",
       "      <th>0</th>\n",
       "      <td>10011</td>\n",
       "      <td>1</td>\n",
       "      <td>17</td>\n",
       "      <td>6</td>\n",
       "      <td>18</td>\n",
       "      <td>0</td>\n",
       "      <td>1</td>\n",
       "      <td>1</td>\n",
       "      <td>3</td>\n",
       "      <td>1935</td>\n",
       "      <td>...</td>\n",
       "      <td>NaN</td>\n",
       "      <td>NaN</td>\n",
       "      <td>NaN</td>\n",
       "      <td>NaN</td>\n",
       "      <td>NaN</td>\n",
       "      <td>NaN</td>\n",
       "      <td>NaN</td>\n",
       "      <td>NaN</td>\n",
       "      <td>NaN</td>\n",
       "      <td>NaN</td>\n",
       "    </tr>\n",
       "    <tr>\n",
       "      <th>1</th>\n",
       "      <td>10011</td>\n",
       "      <td>2</td>\n",
       "      <td>17</td>\n",
       "      <td>6</td>\n",
       "      <td>18</td>\n",
       "      <td>10</td>\n",
       "      <td>2</td>\n",
       "      <td>2</td>\n",
       "      <td>8</td>\n",
       "      <td>1944</td>\n",
       "      <td>...</td>\n",
       "      <td>NaN</td>\n",
       "      <td>NaN</td>\n",
       "      <td>NaN</td>\n",
       "      <td>NaN</td>\n",
       "      <td>NaN</td>\n",
       "      <td>NaN</td>\n",
       "      <td>NaN</td>\n",
       "      <td>NaN</td>\n",
       "      <td>NaN</td>\n",
       "      <td>NaN</td>\n",
       "    </tr>\n",
       "    <tr>\n",
       "      <th>2</th>\n",
       "      <td>10011</td>\n",
       "      <td>3</td>\n",
       "      <td>17</td>\n",
       "      <td>6</td>\n",
       "      <td>20</td>\n",
       "      <td>0</td>\n",
       "      <td>2</td>\n",
       "      <td>3</td>\n",
       "      <td>6</td>\n",
       "      <td>1971</td>\n",
       "      <td>...</td>\n",
       "      <td>NaN</td>\n",
       "      <td>NaN</td>\n",
       "      <td>NaN</td>\n",
       "      <td>NaN</td>\n",
       "      <td>NaN</td>\n",
       "      <td>NaN</td>\n",
       "      <td>NaN</td>\n",
       "      <td>NaN</td>\n",
       "      <td>NaN</td>\n",
       "      <td>NaN</td>\n",
       "    </tr>\n",
       "    <tr>\n",
       "      <th>3</th>\n",
       "      <td>10012</td>\n",
       "      <td>1</td>\n",
       "      <td>17</td>\n",
       "      <td>6</td>\n",
       "      <td>17</td>\n",
       "      <td>0</td>\n",
       "      <td>2</td>\n",
       "      <td>1</td>\n",
       "      <td>1</td>\n",
       "      <td>1945</td>\n",
       "      <td>...</td>\n",
       "      <td>NaN</td>\n",
       "      <td>NaN</td>\n",
       "      <td>NaN</td>\n",
       "      <td>NaN</td>\n",
       "      <td>NaN</td>\n",
       "      <td>NaN</td>\n",
       "      <td>NaN</td>\n",
       "      <td>NaN</td>\n",
       "      <td>NaN</td>\n",
       "      <td>NaN</td>\n",
       "    </tr>\n",
       "    <tr>\n",
       "      <th>4</th>\n",
       "      <td>10021</td>\n",
       "      <td>1</td>\n",
       "      <td>17</td>\n",
       "      <td>6</td>\n",
       "      <td>20</td>\n",
       "      <td>30</td>\n",
       "      <td>2</td>\n",
       "      <td>1</td>\n",
       "      <td>5</td>\n",
       "      <td>1986</td>\n",
       "      <td>...</td>\n",
       "      <td>NaN</td>\n",
       "      <td>NaN</td>\n",
       "      <td>NaN</td>\n",
       "      <td>NaN</td>\n",
       "      <td>NaN</td>\n",
       "      <td>NaN</td>\n",
       "      <td>NaN</td>\n",
       "      <td>NaN</td>\n",
       "      <td>NaN</td>\n",
       "      <td>NaN</td>\n",
       "    </tr>\n",
       "  </tbody>\n",
       "</table>\n",
       "<p>5 rows × 121 columns</p>\n",
       "</div>"
      ],
      "text/plain": [
       "   Folio  ordenpersona  DiaEntrevista  MesEntrevista  HoraEntrevista  \\\n",
       "0  10011             1             17              6              18   \n",
       "1  10011             2             17              6              18   \n",
       "2  10011             3             17              6              20   \n",
       "3  10012             1             17              6              17   \n",
       "4  10021             1             17              6              20   \n",
       "\n",
       "   MinutoEntrevista  Sexo  Parentesco  MesNacimiento  AgnoNacimiento  ...  \\\n",
       "0                 0     1           1              3            1935  ...   \n",
       "1                10     2           2              8            1944  ...   \n",
       "2                 0     2           3              6            1971  ...   \n",
       "3                 0     2           1              1            1945  ...   \n",
       "4                30     2           1              5            1986  ...   \n",
       "\n",
       "   codMotivoNoViaje  codOcupacionPrincipal  codParentesco  \\\n",
       "0               NaN                    NaN            NaN   \n",
       "1               NaN                    NaN            NaN   \n",
       "2               NaN                    NaN            NaN   \n",
       "3               NaN                    NaN            NaN   \n",
       "4               NaN                    NaN            NaN   \n",
       "\n",
       "   codPercepcionIngresos  codRealizoViaje  codSexo  \\\n",
       "0                    NaN              NaN      NaN   \n",
       "1                    NaN              NaN      NaN   \n",
       "2                    NaN              NaN      NaN   \n",
       "3                    NaN              NaN      NaN   \n",
       "4                    NaN              NaN      NaN   \n",
       "\n",
       "   codTenenciaLicenciaConducir  codTenenciaTNE  codTenenciaTarjetaAdultoMayor  \\\n",
       "0                          NaN             NaN                            NaN   \n",
       "1                          NaN             NaN                            NaN   \n",
       "2                          NaN             NaN                            NaN   \n",
       "3                          NaN             NaN                            NaN   \n",
       "4                          NaN             NaN                            NaN   \n",
       "\n",
       "   codTramoIngresoPersonal  \n",
       "0                      NaN  \n",
       "1                      NaN  \n",
       "2                      NaN  \n",
       "3                      NaN  \n",
       "4                      NaN  \n",
       "\n",
       "[5 rows x 121 columns]"
      ]
     },
     "execution_count": 5,
     "metadata": {},
     "output_type": "execute_result"
    }
   ],
   "source": [
    "persona.head()"
   ]
  },
  {
   "cell_type": "code",
   "execution_count": 6,
   "id": "ae401bdd-b330-41c3-b254-df5a97fe1139",
   "metadata": {},
   "outputs": [
    {
     "data": {
      "text/plain": [
       "(1000, 121)"
      ]
     },
     "execution_count": 6,
     "metadata": {},
     "output_type": "execute_result"
    }
   ],
   "source": [
    "persona.shape"
   ]
  },
  {
   "cell_type": "code",
   "execution_count": 7,
   "id": "39fb9ba1-50d0-4081-b13b-6ef5d92c43ed",
   "metadata": {},
   "outputs": [
    {
     "data": {
      "text/html": [
       "<div>\n",
       "<style scoped>\n",
       "    .dataframe tbody tr th:only-of-type {\n",
       "        vertical-align: middle;\n",
       "    }\n",
       "\n",
       "    .dataframe tbody tr th {\n",
       "        vertical-align: top;\n",
       "    }\n",
       "\n",
       "    .dataframe thead th {\n",
       "        text-align: right;\n",
       "    }\n",
       "</style>\n",
       "<table border=\"1\" class=\"dataframe\">\n",
       "  <thead>\n",
       "    <tr style=\"text-align: right;\">\n",
       "      <th></th>\n",
       "      <th>Folio</th>\n",
       "      <th>ordenpersona</th>\n",
       "      <th>ordenviaje</th>\n",
       "      <th>Proposito</th>\n",
       "      <th>PropositoVC</th>\n",
       "      <th>Proposito_e</th>\n",
       "      <th>OrigenActividadComuna</th>\n",
       "      <th>OrigenActividadCalle</th>\n",
       "      <th>OrigenActividadNumero</th>\n",
       "      <th>OrigenActividadInterCalle</th>\n",
       "      <th>...</th>\n",
       "      <th>PropositoAgregado</th>\n",
       "      <th>FactorExpansionV</th>\n",
       "      <th>codActividadEmpresa</th>\n",
       "      <th>codModoEtapa1</th>\n",
       "      <th>codModoEtapa2</th>\n",
       "      <th>codModoEtapa3</th>\n",
       "      <th>codModoEtapa4</th>\n",
       "      <th>codModoEtapa5</th>\n",
       "      <th>codPeriodo</th>\n",
       "      <th>codProposito</th>\n",
       "    </tr>\n",
       "  </thead>\n",
       "  <tbody>\n",
       "    <tr>\n",
       "      <th>0</th>\n",
       "      <td>10011</td>\n",
       "      <td>3</td>\n",
       "      <td>1</td>\n",
       "      <td>1</td>\n",
       "      <td>NaN</td>\n",
       "      <td>NaN</td>\n",
       "      <td>NATALES</td>\n",
       "      <td>BARROS ARANA</td>\n",
       "      <td>93</td>\n",
       "      <td>.</td>\n",
       "      <td>...</td>\n",
       "      <td>1</td>\n",
       "      <td>8,531</td>\n",
       "      <td>NaN</td>\n",
       "      <td>NaN</td>\n",
       "      <td>NaN</td>\n",
       "      <td>NaN</td>\n",
       "      <td>NaN</td>\n",
       "      <td>NaN</td>\n",
       "      <td>NaN</td>\n",
       "      <td>NaN</td>\n",
       "    </tr>\n",
       "    <tr>\n",
       "      <th>1</th>\n",
       "      <td>10011</td>\n",
       "      <td>3</td>\n",
       "      <td>2</td>\n",
       "      <td>7</td>\n",
       "      <td>1.0</td>\n",
       "      <td>NaN</td>\n",
       "      <td>NATALES</td>\n",
       "      <td>MANUEL BULNES</td>\n",
       "      <td>674</td>\n",
       "      <td>BAQUEDANO Y B. ENCALADA</td>\n",
       "      <td>...</td>\n",
       "      <td>3</td>\n",
       "      <td>8,531</td>\n",
       "      <td>NaN</td>\n",
       "      <td>NaN</td>\n",
       "      <td>NaN</td>\n",
       "      <td>NaN</td>\n",
       "      <td>NaN</td>\n",
       "      <td>NaN</td>\n",
       "      <td>NaN</td>\n",
       "      <td>NaN</td>\n",
       "    </tr>\n",
       "    <tr>\n",
       "      <th>2</th>\n",
       "      <td>10011</td>\n",
       "      <td>3</td>\n",
       "      <td>3</td>\n",
       "      <td>1</td>\n",
       "      <td>NaN</td>\n",
       "      <td>NaN</td>\n",
       "      <td>NATALES</td>\n",
       "      <td>BARROS ARANA</td>\n",
       "      <td>93</td>\n",
       "      <td>.</td>\n",
       "      <td>...</td>\n",
       "      <td>1</td>\n",
       "      <td>8,531</td>\n",
       "      <td>NaN</td>\n",
       "      <td>NaN</td>\n",
       "      <td>NaN</td>\n",
       "      <td>NaN</td>\n",
       "      <td>NaN</td>\n",
       "      <td>NaN</td>\n",
       "      <td>NaN</td>\n",
       "      <td>NaN</td>\n",
       "    </tr>\n",
       "    <tr>\n",
       "      <th>3</th>\n",
       "      <td>10011</td>\n",
       "      <td>3</td>\n",
       "      <td>4</td>\n",
       "      <td>7</td>\n",
       "      <td>1.0</td>\n",
       "      <td>NaN</td>\n",
       "      <td>NATALES</td>\n",
       "      <td>MANUEL BULNES</td>\n",
       "      <td>674</td>\n",
       "      <td>BAQUEDANO Y B. ENCALADA</td>\n",
       "      <td>...</td>\n",
       "      <td>3</td>\n",
       "      <td>8,531</td>\n",
       "      <td>NaN</td>\n",
       "      <td>NaN</td>\n",
       "      <td>NaN</td>\n",
       "      <td>NaN</td>\n",
       "      <td>NaN</td>\n",
       "      <td>NaN</td>\n",
       "      <td>NaN</td>\n",
       "      <td>NaN</td>\n",
       "    </tr>\n",
       "    <tr>\n",
       "      <th>4</th>\n",
       "      <td>10012</td>\n",
       "      <td>1</td>\n",
       "      <td>1</td>\n",
       "      <td>11</td>\n",
       "      <td>NaN</td>\n",
       "      <td>NaN</td>\n",
       "      <td>NATALES</td>\n",
       "      <td>CARLOS BORIES</td>\n",
       "      <td>148</td>\n",
       "      <td>.</td>\n",
       "      <td>...</td>\n",
       "      <td>3</td>\n",
       "      <td>3,879</td>\n",
       "      <td>NaN</td>\n",
       "      <td>NaN</td>\n",
       "      <td>NaN</td>\n",
       "      <td>NaN</td>\n",
       "      <td>NaN</td>\n",
       "      <td>NaN</td>\n",
       "      <td>NaN</td>\n",
       "      <td>NaN</td>\n",
       "    </tr>\n",
       "  </tbody>\n",
       "</table>\n",
       "<p>5 rows × 53 columns</p>\n",
       "</div>"
      ],
      "text/plain": [
       "   Folio  ordenpersona  ordenviaje  Proposito  PropositoVC Proposito_e  \\\n",
       "0  10011             3           1          1          NaN         NaN   \n",
       "1  10011             3           2          7          1.0         NaN   \n",
       "2  10011             3           3          1          NaN         NaN   \n",
       "3  10011             3           4          7          1.0         NaN   \n",
       "4  10012             1           1         11          NaN         NaN   \n",
       "\n",
       "  OrigenActividadComuna OrigenActividadCalle OrigenActividadNumero  \\\n",
       "0               NATALES         BARROS ARANA                    93   \n",
       "1               NATALES        MANUEL BULNES                   674   \n",
       "2               NATALES         BARROS ARANA                    93   \n",
       "3               NATALES        MANUEL BULNES                   674   \n",
       "4               NATALES        CARLOS BORIES                   148   \n",
       "\n",
       "  OrigenActividadInterCalle  ... PropositoAgregado FactorExpansionV  \\\n",
       "0                         .  ...                 1            8,531   \n",
       "1   BAQUEDANO Y B. ENCALADA  ...                 3            8,531   \n",
       "2                         .  ...                 1            8,531   \n",
       "3   BAQUEDANO Y B. ENCALADA  ...                 3            8,531   \n",
       "4                         .  ...                 3            3,879   \n",
       "\n",
       "  codActividadEmpresa codModoEtapa1 codModoEtapa2 codModoEtapa3  \\\n",
       "0                 NaN           NaN           NaN           NaN   \n",
       "1                 NaN           NaN           NaN           NaN   \n",
       "2                 NaN           NaN           NaN           NaN   \n",
       "3                 NaN           NaN           NaN           NaN   \n",
       "4                 NaN           NaN           NaN           NaN   \n",
       "\n",
       "   codModoEtapa4  codModoEtapa5  codPeriodo  codProposito  \n",
       "0            NaN            NaN         NaN           NaN  \n",
       "1            NaN            NaN         NaN           NaN  \n",
       "2            NaN            NaN         NaN           NaN  \n",
       "3            NaN            NaN         NaN           NaN  \n",
       "4            NaN            NaN         NaN           NaN  \n",
       "\n",
       "[5 rows x 53 columns]"
      ]
     },
     "execution_count": 7,
     "metadata": {},
     "output_type": "execute_result"
    }
   ],
   "source": [
    "viaje.head()"
   ]
  },
  {
   "cell_type": "code",
   "execution_count": 8,
   "id": "b5431353-b233-41b4-93a3-9cbf2a61dbeb",
   "metadata": {},
   "outputs": [
    {
     "data": {
      "text/plain": [
       "array([ 1,  2,  3,  4,  5,  6,  7,  8,  9, 10, 11, 12, 13, 14, 15, 16, 17,\n",
       "       18])"
      ]
     },
     "execution_count": 8,
     "metadata": {},
     "output_type": "execute_result"
    }
   ],
   "source": [
    "viaje[\"ordenviaje\"].unique()"
   ]
  },
  {
   "cell_type": "code",
   "execution_count": 9,
   "id": "d55d36fc-eb64-4110-b4e1-106aeeed7eb7",
   "metadata": {},
   "outputs": [
    {
     "data": {
      "text/plain": [
       "(1000, 53)"
      ]
     },
     "execution_count": 9,
     "metadata": {},
     "output_type": "execute_result"
    }
   ],
   "source": [
    "viaje.shape"
   ]
  },
  {
   "cell_type": "code",
   "execution_count": 10,
   "id": "318755fe-b189-4054-b713-5614472cc525",
   "metadata": {},
   "outputs": [
    {
     "data": {
      "text/html": [
       "<div>\n",
       "<style scoped>\n",
       "    .dataframe tbody tr th:only-of-type {\n",
       "        vertical-align: middle;\n",
       "    }\n",
       "\n",
       "    .dataframe tbody tr th {\n",
       "        vertical-align: top;\n",
       "    }\n",
       "\n",
       "    .dataframe thead th {\n",
       "        text-align: right;\n",
       "    }\n",
       "</style>\n",
       "<table border=\"1\" class=\"dataframe\">\n",
       "  <thead>\n",
       "    <tr style=\"text-align: right;\">\n",
       "      <th></th>\n",
       "      <th>Folio</th>\n",
       "      <th>OrdenPersona</th>\n",
       "      <th>OrdenViaje</th>\n",
       "      <th>OrdenEtapa</th>\n",
       "      <th>ModoEtapa</th>\n",
       "      <th>CuadrasCaminadasAntes</th>\n",
       "      <th>MinutosCaminadosAntes</th>\n",
       "      <th>TipoAsiento</th>\n",
       "      <th>OrdenVehiculoViaje</th>\n",
       "      <th>SituacionBicicleta</th>\n",
       "      <th>...</th>\n",
       "      <th>codLugarEstacionoVehiculo</th>\n",
       "      <th>codModoEtapa</th>\n",
       "      <th>codMotivoNoUsoCiclovia</th>\n",
       "      <th>codPagoTarifaViaje</th>\n",
       "      <th>codSituacionBicicleta</th>\n",
       "      <th>codTipoAsiento</th>\n",
       "      <th>codTipoPagoEstacionamiento</th>\n",
       "      <th>codUsoClicloVia</th>\n",
       "      <th>codUsoHabitualBicicleta</th>\n",
       "      <th>codVehiculosNoUso</th>\n",
       "    </tr>\n",
       "  </thead>\n",
       "  <tbody>\n",
       "    <tr>\n",
       "      <th>0</th>\n",
       "      <td>10011</td>\n",
       "      <td>3</td>\n",
       "      <td>1</td>\n",
       "      <td>1</td>\n",
       "      <td>13</td>\n",
       "      <td>NaN</td>\n",
       "      <td>NaN</td>\n",
       "      <td>NaN</td>\n",
       "      <td>NaN</td>\n",
       "      <td>NaN</td>\n",
       "      <td>...</td>\n",
       "      <td>NaN</td>\n",
       "      <td>NaN</td>\n",
       "      <td>NaN</td>\n",
       "      <td>NaN</td>\n",
       "      <td>NaN</td>\n",
       "      <td>NaN</td>\n",
       "      <td>NaN</td>\n",
       "      <td>NaN</td>\n",
       "      <td>NaN</td>\n",
       "      <td>NaN</td>\n",
       "    </tr>\n",
       "    <tr>\n",
       "      <th>1</th>\n",
       "      <td>10011</td>\n",
       "      <td>3</td>\n",
       "      <td>2</td>\n",
       "      <td>1</td>\n",
       "      <td>13</td>\n",
       "      <td>NaN</td>\n",
       "      <td>NaN</td>\n",
       "      <td>NaN</td>\n",
       "      <td>NaN</td>\n",
       "      <td>NaN</td>\n",
       "      <td>...</td>\n",
       "      <td>NaN</td>\n",
       "      <td>NaN</td>\n",
       "      <td>NaN</td>\n",
       "      <td>NaN</td>\n",
       "      <td>NaN</td>\n",
       "      <td>NaN</td>\n",
       "      <td>NaN</td>\n",
       "      <td>NaN</td>\n",
       "      <td>NaN</td>\n",
       "      <td>NaN</td>\n",
       "    </tr>\n",
       "    <tr>\n",
       "      <th>2</th>\n",
       "      <td>10011</td>\n",
       "      <td>3</td>\n",
       "      <td>3</td>\n",
       "      <td>1</td>\n",
       "      <td>13</td>\n",
       "      <td>NaN</td>\n",
       "      <td>NaN</td>\n",
       "      <td>NaN</td>\n",
       "      <td>NaN</td>\n",
       "      <td>NaN</td>\n",
       "      <td>...</td>\n",
       "      <td>NaN</td>\n",
       "      <td>NaN</td>\n",
       "      <td>NaN</td>\n",
       "      <td>NaN</td>\n",
       "      <td>NaN</td>\n",
       "      <td>NaN</td>\n",
       "      <td>NaN</td>\n",
       "      <td>NaN</td>\n",
       "      <td>NaN</td>\n",
       "      <td>NaN</td>\n",
       "    </tr>\n",
       "    <tr>\n",
       "      <th>3</th>\n",
       "      <td>10011</td>\n",
       "      <td>3</td>\n",
       "      <td>4</td>\n",
       "      <td>1</td>\n",
       "      <td>13</td>\n",
       "      <td>NaN</td>\n",
       "      <td>NaN</td>\n",
       "      <td>NaN</td>\n",
       "      <td>NaN</td>\n",
       "      <td>NaN</td>\n",
       "      <td>...</td>\n",
       "      <td>NaN</td>\n",
       "      <td>NaN</td>\n",
       "      <td>NaN</td>\n",
       "      <td>NaN</td>\n",
       "      <td>NaN</td>\n",
       "      <td>NaN</td>\n",
       "      <td>NaN</td>\n",
       "      <td>NaN</td>\n",
       "      <td>NaN</td>\n",
       "      <td>NaN</td>\n",
       "    </tr>\n",
       "    <tr>\n",
       "      <th>4</th>\n",
       "      <td>10012</td>\n",
       "      <td>1</td>\n",
       "      <td>1</td>\n",
       "      <td>1</td>\n",
       "      <td>1</td>\n",
       "      <td>0.0</td>\n",
       "      <td>1.0</td>\n",
       "      <td>1.0</td>\n",
       "      <td>1.0</td>\n",
       "      <td>NaN</td>\n",
       "      <td>...</td>\n",
       "      <td>NaN</td>\n",
       "      <td>NaN</td>\n",
       "      <td>NaN</td>\n",
       "      <td>NaN</td>\n",
       "      <td>NaN</td>\n",
       "      <td>NaN</td>\n",
       "      <td>NaN</td>\n",
       "      <td>NaN</td>\n",
       "      <td>NaN</td>\n",
       "      <td>NaN</td>\n",
       "    </tr>\n",
       "  </tbody>\n",
       "</table>\n",
       "<p>5 rows × 48 columns</p>\n",
       "</div>"
      ],
      "text/plain": [
       "   Folio  OrdenPersona  OrdenViaje  OrdenEtapa  ModoEtapa  \\\n",
       "0  10011             3           1           1         13   \n",
       "1  10011             3           2           1         13   \n",
       "2  10011             3           3           1         13   \n",
       "3  10011             3           4           1         13   \n",
       "4  10012             1           1           1          1   \n",
       "\n",
       "   CuadrasCaminadasAntes  MinutosCaminadosAntes  TipoAsiento  \\\n",
       "0                    NaN                    NaN          NaN   \n",
       "1                    NaN                    NaN          NaN   \n",
       "2                    NaN                    NaN          NaN   \n",
       "3                    NaN                    NaN          NaN   \n",
       "4                    0.0                    1.0          1.0   \n",
       "\n",
       "   OrdenVehiculoViaje  SituacionBicicleta  ...  codLugarEstacionoVehiculo  \\\n",
       "0                 NaN                 NaN  ...                        NaN   \n",
       "1                 NaN                 NaN  ...                        NaN   \n",
       "2                 NaN                 NaN  ...                        NaN   \n",
       "3                 NaN                 NaN  ...                        NaN   \n",
       "4                 1.0                 NaN  ...                        NaN   \n",
       "\n",
       "   codModoEtapa  codMotivoNoUsoCiclovia  codPagoTarifaViaje  \\\n",
       "0           NaN                     NaN                 NaN   \n",
       "1           NaN                     NaN                 NaN   \n",
       "2           NaN                     NaN                 NaN   \n",
       "3           NaN                     NaN                 NaN   \n",
       "4           NaN                     NaN                 NaN   \n",
       "\n",
       "   codSituacionBicicleta  codTipoAsiento codTipoPagoEstacionamiento  \\\n",
       "0                    NaN             NaN                        NaN   \n",
       "1                    NaN             NaN                        NaN   \n",
       "2                    NaN             NaN                        NaN   \n",
       "3                    NaN             NaN                        NaN   \n",
       "4                    NaN             NaN                        NaN   \n",
       "\n",
       "   codUsoClicloVia  codUsoHabitualBicicleta  codVehiculosNoUso  \n",
       "0              NaN                      NaN                NaN  \n",
       "1              NaN                      NaN                NaN  \n",
       "2              NaN                      NaN                NaN  \n",
       "3              NaN                      NaN                NaN  \n",
       "4              NaN                      NaN                NaN  \n",
       "\n",
       "[5 rows x 48 columns]"
      ]
     },
     "execution_count": 10,
     "metadata": {},
     "output_type": "execute_result"
    }
   ],
   "source": [
    "etapa.head()"
   ]
  },
  {
   "cell_type": "code",
   "execution_count": 11,
   "id": "3a3a3608-7e70-423e-9970-eb099e55e091",
   "metadata": {},
   "outputs": [
    {
     "data": {
      "text/plain": [
       "(1000, 48)"
      ]
     },
     "execution_count": 11,
     "metadata": {},
     "output_type": "execute_result"
    }
   ],
   "source": [
    "etapa.shape"
   ]
  },
  {
   "cell_type": "code",
   "execution_count": 12,
   "id": "505cb9a8-00c8-498c-a279-51f639a41407",
   "metadata": {},
   "outputs": [
    {
     "data": {
      "text/html": [
       "<div>\n",
       "<style scoped>\n",
       "    .dataframe tbody tr th:only-of-type {\n",
       "        vertical-align: middle;\n",
       "    }\n",
       "\n",
       "    .dataframe tbody tr th {\n",
       "        vertical-align: top;\n",
       "    }\n",
       "\n",
       "    .dataframe thead th {\n",
       "        text-align: right;\n",
       "    }\n",
       "</style>\n",
       "<table border=\"1\" class=\"dataframe\">\n",
       "  <thead>\n",
       "    <tr style=\"text-align: right;\">\n",
       "      <th></th>\n",
       "      <th>Folio</th>\n",
       "      <th>ordenvehiculo</th>\n",
       "      <th>TipoVehiculo</th>\n",
       "      <th>OrdenConductor</th>\n",
       "      <th>MarcaVehiculo</th>\n",
       "      <th>ModeloVehiculo</th>\n",
       "      <th>AnoVehiculo</th>\n",
       "      <th>CombustibleVehiculo</th>\n",
       "      <th>SituacionVehiculo</th>\n",
       "      <th>VehiculoTrabajo</th>\n",
       "      <th>FactorExpansionA</th>\n",
       "      <th>codSituacionVehiculo</th>\n",
       "      <th>codTipoVehiculo</th>\n",
       "      <th>codVehiculoTrabajo</th>\n",
       "    </tr>\n",
       "  </thead>\n",
       "  <tbody>\n",
       "    <tr>\n",
       "      <th>0</th>\n",
       "      <td>10011</td>\n",
       "      <td>1</td>\n",
       "      <td>1</td>\n",
       "      <td>3</td>\n",
       "      <td>SUSUKI</td>\n",
       "      <td>EXPRESSO</td>\n",
       "      <td>2022</td>\n",
       "      <td>1</td>\n",
       "      <td>1</td>\n",
       "      <td>2</td>\n",
       "      <td>10,476</td>\n",
       "      <td>NaN</td>\n",
       "      <td>NaN</td>\n",
       "      <td>NaN</td>\n",
       "    </tr>\n",
       "    <tr>\n",
       "      <th>1</th>\n",
       "      <td>10012</td>\n",
       "      <td>1</td>\n",
       "      <td>1</td>\n",
       "      <td>1</td>\n",
       "      <td>SUBARU</td>\n",
       "      <td>XV</td>\n",
       "      <td>2018</td>\n",
       "      <td>1</td>\n",
       "      <td>1</td>\n",
       "      <td>2</td>\n",
       "      <td>10,476</td>\n",
       "      <td>NaN</td>\n",
       "      <td>NaN</td>\n",
       "      <td>NaN</td>\n",
       "    </tr>\n",
       "    <tr>\n",
       "      <th>2</th>\n",
       "      <td>10021</td>\n",
       "      <td>1</td>\n",
       "      <td>3</td>\n",
       "      <td>1</td>\n",
       "      <td>UAZ</td>\n",
       "      <td>PATRIOT</td>\n",
       "      <td>2021</td>\n",
       "      <td>1</td>\n",
       "      <td>1</td>\n",
       "      <td>2</td>\n",
       "      <td>10,5</td>\n",
       "      <td>NaN</td>\n",
       "      <td>NaN</td>\n",
       "      <td>NaN</td>\n",
       "    </tr>\n",
       "    <tr>\n",
       "      <th>3</th>\n",
       "      <td>10022</td>\n",
       "      <td>1</td>\n",
       "      <td>2</td>\n",
       "      <td>1</td>\n",
       "      <td>HYUNDAI</td>\n",
       "      <td>SANTA FE</td>\n",
       "      <td>2012</td>\n",
       "      <td>2</td>\n",
       "      <td>1</td>\n",
       "      <td>2</td>\n",
       "      <td>10,5</td>\n",
       "      <td>NaN</td>\n",
       "      <td>NaN</td>\n",
       "      <td>NaN</td>\n",
       "    </tr>\n",
       "    <tr>\n",
       "      <th>4</th>\n",
       "      <td>10022</td>\n",
       "      <td>2</td>\n",
       "      <td>1</td>\n",
       "      <td>3</td>\n",
       "      <td>HYUNDAI</td>\n",
       "      <td>VELOSTER</td>\n",
       "      <td>2013</td>\n",
       "      <td>1</td>\n",
       "      <td>1</td>\n",
       "      <td>2</td>\n",
       "      <td>10,5</td>\n",
       "      <td>NaN</td>\n",
       "      <td>NaN</td>\n",
       "      <td>NaN</td>\n",
       "    </tr>\n",
       "  </tbody>\n",
       "</table>\n",
       "</div>"
      ],
      "text/plain": [
       "   Folio  ordenvehiculo  TipoVehiculo  OrdenConductor MarcaVehiculo  \\\n",
       "0  10011              1             1               3        SUSUKI   \n",
       "1  10012              1             1               1        SUBARU   \n",
       "2  10021              1             3               1           UAZ   \n",
       "3  10022              1             2               1       HYUNDAI   \n",
       "4  10022              2             1               3       HYUNDAI   \n",
       "\n",
       "  ModeloVehiculo  AnoVehiculo  CombustibleVehiculo  SituacionVehiculo  \\\n",
       "0       EXPRESSO         2022                    1                  1   \n",
       "1             XV         2018                    1                  1   \n",
       "2        PATRIOT         2021                    1                  1   \n",
       "3       SANTA FE         2012                    2                  1   \n",
       "4       VELOSTER         2013                    1                  1   \n",
       "\n",
       "   VehiculoTrabajo FactorExpansionA  codSituacionVehiculo  codTipoVehiculo  \\\n",
       "0                2           10,476                   NaN              NaN   \n",
       "1                2           10,476                   NaN              NaN   \n",
       "2                2             10,5                   NaN              NaN   \n",
       "3                2             10,5                   NaN              NaN   \n",
       "4                2             10,5                   NaN              NaN   \n",
       "\n",
       "   codVehiculoTrabajo  \n",
       "0                 NaN  \n",
       "1                 NaN  \n",
       "2                 NaN  \n",
       "3                 NaN  \n",
       "4                 NaN  "
      ]
     },
     "execution_count": 12,
     "metadata": {},
     "output_type": "execute_result"
    }
   ],
   "source": [
    "vehiculo.head()"
   ]
  },
  {
   "cell_type": "code",
   "execution_count": 13,
   "id": "472198af-0b3f-4086-81ed-df2f3c294663",
   "metadata": {},
   "outputs": [
    {
     "data": {
      "text/plain": [
       "(359, 14)"
      ]
     },
     "execution_count": 13,
     "metadata": {},
     "output_type": "execute_result"
    }
   ],
   "source": [
    "vehiculo.shape"
   ]
  },
  {
   "cell_type": "code",
   "execution_count": 14,
   "id": "38054308-dfb6-47c3-b90a-0ebddd2db044",
   "metadata": {},
   "outputs": [
    {
     "data": {
      "text/html": [
       "<div>\n",
       "<style scoped>\n",
       "    .dataframe tbody tr th:only-of-type {\n",
       "        vertical-align: middle;\n",
       "    }\n",
       "\n",
       "    .dataframe tbody tr th {\n",
       "        vertical-align: top;\n",
       "    }\n",
       "\n",
       "    .dataframe thead th {\n",
       "        text-align: right;\n",
       "    }\n",
       "</style>\n",
       "<table border=\"1\" class=\"dataframe\">\n",
       "  <thead>\n",
       "    <tr style=\"text-align: right;\">\n",
       "      <th></th>\n",
       "      <th>folio</th>\n",
       "      <th>ordenbicicleta</th>\n",
       "      <th>TipoBicicleta</th>\n",
       "      <th>OrdenConductor</th>\n",
       "      <th>SituacionBicicleta</th>\n",
       "      <th>BicicletaTrabajo</th>\n",
       "      <th>FactorExpansionB</th>\n",
       "    </tr>\n",
       "  </thead>\n",
       "  <tbody>\n",
       "    <tr>\n",
       "      <th>0</th>\n",
       "      <td>10021</td>\n",
       "      <td>1</td>\n",
       "      <td>4</td>\n",
       "      <td>3</td>\n",
       "      <td>1</td>\n",
       "      <td>2</td>\n",
       "      <td>NaN</td>\n",
       "    </tr>\n",
       "    <tr>\n",
       "      <th>1</th>\n",
       "      <td>10022</td>\n",
       "      <td>3</td>\n",
       "      <td>1</td>\n",
       "      <td>4</td>\n",
       "      <td>1</td>\n",
       "      <td>2</td>\n",
       "      <td>NaN</td>\n",
       "    </tr>\n",
       "    <tr>\n",
       "      <th>2</th>\n",
       "      <td>10022</td>\n",
       "      <td>1</td>\n",
       "      <td>1</td>\n",
       "      <td>3</td>\n",
       "      <td>1</td>\n",
       "      <td>2</td>\n",
       "      <td>NaN</td>\n",
       "    </tr>\n",
       "    <tr>\n",
       "      <th>3</th>\n",
       "      <td>10022</td>\n",
       "      <td>2</td>\n",
       "      <td>1</td>\n",
       "      <td>4</td>\n",
       "      <td>1</td>\n",
       "      <td>2</td>\n",
       "      <td>NaN</td>\n",
       "    </tr>\n",
       "    <tr>\n",
       "      <th>4</th>\n",
       "      <td>10032</td>\n",
       "      <td>1</td>\n",
       "      <td>1</td>\n",
       "      <td>1</td>\n",
       "      <td>1</td>\n",
       "      <td>2</td>\n",
       "      <td>NaN</td>\n",
       "    </tr>\n",
       "  </tbody>\n",
       "</table>\n",
       "</div>"
      ],
      "text/plain": [
       "   folio  ordenbicicleta  TipoBicicleta  OrdenConductor  SituacionBicicleta  \\\n",
       "0  10021               1              4               3                   1   \n",
       "1  10022               3              1               4                   1   \n",
       "2  10022               1              1               3                   1   \n",
       "3  10022               2              1               4                   1   \n",
       "4  10032               1              1               1                   1   \n",
       "\n",
       "   BicicletaTrabajo  FactorExpansionB  \n",
       "0                 2               NaN  \n",
       "1                 2               NaN  \n",
       "2                 2               NaN  \n",
       "3                 2               NaN  \n",
       "4                 2               NaN  "
      ]
     },
     "execution_count": 14,
     "metadata": {},
     "output_type": "execute_result"
    }
   ],
   "source": [
    "bicicleta.head()"
   ]
  },
  {
   "cell_type": "code",
   "execution_count": 15,
   "id": "6d0ff3f3-b86e-47bf-9487-184aff00d640",
   "metadata": {},
   "outputs": [
    {
     "data": {
      "text/plain": [
       "(196, 7)"
      ]
     },
     "execution_count": 15,
     "metadata": {},
     "output_type": "execute_result"
    }
   ],
   "source": [
    "bicicleta.shape"
   ]
  },
  {
   "cell_type": "code",
   "execution_count": 16,
   "id": "b5129ab4-4b88-423d-bb66-0d2fddf9abe7",
   "metadata": {},
   "outputs": [
    {
     "data": {
      "text/html": [
       "<div>\n",
       "<style scoped>\n",
       "    .dataframe tbody tr th:only-of-type {\n",
       "        vertical-align: middle;\n",
       "    }\n",
       "\n",
       "    .dataframe tbody tr th {\n",
       "        vertical-align: top;\n",
       "    }\n",
       "\n",
       "    .dataframe thead th {\n",
       "        text-align: right;\n",
       "    }\n",
       "</style>\n",
       "<table border=\"1\" class=\"dataframe\">\n",
       "  <thead>\n",
       "    <tr style=\"text-align: right;\">\n",
       "      <th></th>\n",
       "      <th>Folio</th>\n",
       "      <th>idZona</th>\n",
       "      <th>IdMacroZona</th>\n",
       "      <th>Zona</th>\n",
       "      <th>MacroZona</th>\n",
       "      <th>codIdMacroZona</th>\n",
       "    </tr>\n",
       "  </thead>\n",
       "  <tbody>\n",
       "    <tr>\n",
       "      <th>0</th>\n",
       "      <td>10011</td>\n",
       "      <td>1</td>\n",
       "      <td>4</td>\n",
       "      <td>1</td>\n",
       "      <td>4.Borde Costero</td>\n",
       "      <td>NaN</td>\n",
       "    </tr>\n",
       "    <tr>\n",
       "      <th>1</th>\n",
       "      <td>10012</td>\n",
       "      <td>1</td>\n",
       "      <td>4</td>\n",
       "      <td>1</td>\n",
       "      <td>4.Borde Costero</td>\n",
       "      <td>NaN</td>\n",
       "    </tr>\n",
       "    <tr>\n",
       "      <th>2</th>\n",
       "      <td>10021</td>\n",
       "      <td>3</td>\n",
       "      <td>3</td>\n",
       "      <td>3</td>\n",
       "      <td>3.Centro</td>\n",
       "      <td>NaN</td>\n",
       "    </tr>\n",
       "    <tr>\n",
       "      <th>3</th>\n",
       "      <td>10022</td>\n",
       "      <td>3</td>\n",
       "      <td>3</td>\n",
       "      <td>3</td>\n",
       "      <td>3.Centro</td>\n",
       "      <td>NaN</td>\n",
       "    </tr>\n",
       "    <tr>\n",
       "      <th>4</th>\n",
       "      <td>10031</td>\n",
       "      <td>7</td>\n",
       "      <td>1</td>\n",
       "      <td>7</td>\n",
       "      <td>1.Residencial Norte</td>\n",
       "      <td>NaN</td>\n",
       "    </tr>\n",
       "  </tbody>\n",
       "</table>\n",
       "</div>"
      ],
      "text/plain": [
       "   Folio  idZona  IdMacroZona  Zona            MacroZona  codIdMacroZona\n",
       "0  10011       1            4     1      4.Borde Costero             NaN\n",
       "1  10012       1            4     1      4.Borde Costero             NaN\n",
       "2  10021       3            3     3             3.Centro             NaN\n",
       "3  10022       3            3     3             3.Centro             NaN\n",
       "4  10031       7            1     7  1.Residencial Norte             NaN"
      ]
     },
     "execution_count": 16,
     "metadata": {},
     "output_type": "execute_result"
    }
   ],
   "source": [
    "localizacion.head()"
   ]
  },
  {
   "cell_type": "markdown",
   "id": "21c061f9-1b37-49be-9203-8b55922e8074",
   "metadata": {
    "jp-MarkdownHeadingCollapsed": true
   },
   "source": [
    "### Limpieza de datos"
   ]
  },
  {
   "cell_type": "code",
   "execution_count": 17,
   "id": "eb748a5c-27ce-4918-80cc-ae45996042af",
   "metadata": {},
   "outputs": [
    {
     "name": "stdout",
     "output_type": "stream",
     "text": [
      "<class 'pandas.core.frame.DataFrame'>\n",
      "RangeIndex: 518 entries, 0 to 517\n",
      "Data columns (total 50 columns):\n",
      " #   Column                     Non-Null Count  Dtype  \n",
      "---  ------                     --------------  -----  \n",
      " 0   Folio                      518 non-null    int64  \n",
      " 1   DireccionCalle             518 non-null    object \n",
      " 2   DireccionComuna            518 non-null    object \n",
      " 3   Zona_Hogar                 518 non-null    int64  \n",
      " 4   Sector_Hogar               518 non-null    object \n",
      " 5   DiaEntrevista              518 non-null    int64  \n",
      " 6   MesEntrevista              518 non-null    int64  \n",
      " 7   HoraEntrevista             518 non-null    int64  \n",
      " 8   MinutoEntrevista           518 non-null    int64  \n",
      " 9   DiaRegistroViaje           518 non-null    int64  \n",
      " 10  MesRegistroViaje           518 non-null    int64  \n",
      " 11  TamanoFamiliar             518 non-null    int64  \n",
      " 12  TipoVivienda               518 non-null    int64  \n",
      " 13  TipoVivienda_e             1 non-null      object \n",
      " 14  SituacionVivienda          518 non-null    int64  \n",
      " 15  SituacionVivienda_e        0 non-null      float64\n",
      " 16  Dividendo                  10 non-null     float64\n",
      " 17  Arriendo                   95 non-null     float64\n",
      " 18  AntiguedadViviendaAnos     518 non-null    int64  \n",
      " 19  AntiguedadViviendaMeses    518 non-null    int64  \n",
      " 20  HanVividoSiempreAqui       518 non-null    int64  \n",
      " 21  TipoViviendaAnterior       39 non-null     float64\n",
      " 22  ComunaViviendaAnterior     39 non-null     float64\n",
      " 23  ComunaViviendaAnterior_e   26 non-null     object \n",
      " 24  VisionBicicleta            518 non-null    int64  \n",
      " 25  IntegranteCapRed           518 non-null    int64  \n",
      " 26  CapRedTipo                 59 non-null     float64\n",
      " 27  CapRedSuficiencia          59 non-null     float64\n",
      " 28  CuentasInternet            518 non-null    int64  \n",
      " 29  DisponibilidadVehiculo     518 non-null    int64  \n",
      " 30  NumeroVehiculos            290 non-null    float64\n",
      " 31  DisponibilidadBicicleta    518 non-null    int64  \n",
      " 32  NumeroBicicletas           123 non-null    float64\n",
      " 33  NumeroEstudiantes          518 non-null    int64  \n",
      " 34  NumeroViajes               518 non-null    int64  \n",
      " 35  ViajesCaminata             518 non-null    int64  \n",
      " 36  TramoVehiculo              518 non-null    int64  \n",
      " 37  TramoIngresoHogar          518 non-null    int64  \n",
      " 38  TipoDia                    518 non-null    int64  \n",
      " 39  Zona                       518 non-null    int64  \n",
      " 40  Sector                     518 non-null    object \n",
      " 41  FactorExpansionH           518 non-null    object \n",
      " 42  codConexionInternet        0 non-null      float64\n",
      " 43  codDisponibilidadVehiculo  0 non-null      float64\n",
      " 44  codHanVividoSiempreAqui    0 non-null      float64\n",
      " 45  codSituacionVivienda       0 non-null      float64\n",
      " 46  codTipoVivienda            0 non-null      float64\n",
      " 47  codTipoViviendaAnterior    0 non-null      float64\n",
      " 48  codTramoIngresoHogar       0 non-null      float64\n",
      " 49  codTramoVehiculo           0 non-null      float64\n",
      "dtypes: float64(17), int64(26), object(7)\n",
      "memory usage: 202.5+ KB\n"
     ]
    }
   ],
   "source": [
    "#Limpieza incial 'Hogar\"\n",
    "hogar.info()"
   ]
  },
  {
   "cell_type": "code",
   "execution_count": 18,
   "id": "ee771fd8-eea6-4f3f-9425-be50b1e212bb",
   "metadata": {},
   "outputs": [
    {
     "name": "stdout",
     "output_type": "stream",
     "text": [
      "0\n"
     ]
    }
   ],
   "source": [
    "print(hogar.duplicated().sum())"
   ]
  },
  {
   "cell_type": "code",
   "execution_count": 19,
   "id": "dbc7c38b-f8cc-4612-a8cc-4eb9f4ca6f8d",
   "metadata": {},
   "outputs": [],
   "source": [
    "hogar = hogar.dropna(axis=1, how='all')"
   ]
  },
  {
   "cell_type": "code",
   "execution_count": 20,
   "id": "a5f9508f-4bca-4983-a222-1fa2b049deb7",
   "metadata": {},
   "outputs": [
    {
     "name": "stdout",
     "output_type": "stream",
     "text": [
      "Index(['folio', 'direccioncalle', 'direccioncomuna', 'zona_hogar',\n",
      "       'sector_hogar', 'diaentrevista', 'mesentrevista', 'horaentrevista',\n",
      "       'minutoentrevista', 'diaregistroviaje', 'mesregistroviaje',\n",
      "       'tamanofamiliar', 'tipovivienda', 'tipovivienda_e', 'situacionvivienda',\n",
      "       'dividendo', 'arriendo', 'antiguedadviviendaanos',\n",
      "       'antiguedadviviendameses', 'hanvividosiempreaqui',\n",
      "       'tipoviviendaanterior', 'comunaviviendaanterior',\n",
      "       'comunaviviendaanterior_e', 'visionbicicleta', 'integrantecapred',\n",
      "       'capredtipo', 'capredsuficiencia', 'cuentasinternet',\n",
      "       'disponibilidadvehiculo', 'numerovehiculos', 'disponibilidadbicicleta',\n",
      "       'numerobicicletas', 'numeroestudiantes', 'numeroviajes',\n",
      "       'viajescaminata', 'tramovehiculo', 'tramoingresohogar', 'tipodia',\n",
      "       'zona', 'sector', 'factorexpansionh'],\n",
      "      dtype='object')\n"
     ]
    }
   ],
   "source": [
    "hogar.columns = hogar.columns.str.strip().str.lower().str.replace(\" \", \"_\")\n",
    "print(hogar.columns)"
   ]
  },
  {
   "cell_type": "code",
   "execution_count": 21,
   "id": "0f96f593-7aec-47d0-8fed-08627bc68a95",
   "metadata": {},
   "outputs": [],
   "source": [
    "hogar = hogar.drop(columns=[\"tipovivienda_e\"])"
   ]
  },
  {
   "cell_type": "code",
   "execution_count": 22,
   "id": "427a427e-1013-45d0-88e5-cb9a3d5468c7",
   "metadata": {},
   "outputs": [],
   "source": [
    "hogar = hogar.drop(columns=[\"direccioncalle\"])"
   ]
  },
  {
   "cell_type": "code",
   "execution_count": 23,
   "id": "f957468f-217a-4a7e-a8b0-4969be497036",
   "metadata": {},
   "outputs": [
    {
     "name": "stdout",
     "output_type": "stream",
     "text": [
      "<class 'pandas.core.frame.DataFrame'>\n",
      "RangeIndex: 1000 entries, 0 to 999\n",
      "Columns: 121 entries, Folio to codTramoIngresoPersonal\n",
      "dtypes: float64(55), int64(46), object(20)\n",
      "memory usage: 945.4+ KB\n"
     ]
    }
   ],
   "source": [
    "#Limpieza inicial 'Persona'\n",
    "persona.info()"
   ]
  },
  {
   "cell_type": "code",
   "execution_count": 24,
   "id": "37debdcd-fe6f-43e3-a9a1-dfe93ebd393d",
   "metadata": {},
   "outputs": [
    {
     "name": "stdout",
     "output_type": "stream",
     "text": [
      "0\n"
     ]
    }
   ],
   "source": [
    "print(persona.duplicated().sum())"
   ]
  },
  {
   "cell_type": "code",
   "execution_count": 25,
   "id": "265b367f-09c1-4a44-875d-04a1f6e407f8",
   "metadata": {},
   "outputs": [],
   "source": [
    "persona = persona.dropna(axis=1, how='all')"
   ]
  },
  {
   "cell_type": "code",
   "execution_count": 26,
   "id": "aed75c00-c4e7-4059-b80d-9b0d92dab365",
   "metadata": {},
   "outputs": [
    {
     "name": "stdout",
     "output_type": "stream",
     "text": [
      "<class 'pandas.core.frame.DataFrame'>\n",
      "RangeIndex: 1000 entries, 0 to 999\n",
      "Data columns (total 82 columns):\n",
      " #   Column                      Non-Null Count  Dtype  \n",
      "---  ------                      --------------  -----  \n",
      " 0   Folio                       1000 non-null   int64  \n",
      " 1   ordenpersona                1000 non-null   int64  \n",
      " 2   DiaEntrevista               1000 non-null   int64  \n",
      " 3   MesEntrevista               1000 non-null   int64  \n",
      " 4   HoraEntrevista              1000 non-null   int64  \n",
      " 5   MinutoEntrevista            1000 non-null   int64  \n",
      " 6   Sexo                        1000 non-null   int64  \n",
      " 7   Parentesco                  1000 non-null   int64  \n",
      " 8   MesNacimiento               1000 non-null   int64  \n",
      " 9   AgnoNacimiento              1000 non-null   int64  \n",
      " 10  TenenciaLicenciaConducir    1000 non-null   int64  \n",
      " 11  TenenciaTNE                 1000 non-null   int64  \n",
      " 12  TenenciaTarjetaAdultoMayor  284 non-null    float64\n",
      " 13  EscolaridadCurso            1000 non-null   int64  \n",
      " 14  EscolaridadNivel            1000 non-null   int64  \n",
      " 15  EscolaridadTitulo           253 non-null    float64\n",
      " 16  ActividadTrabaja            1000 non-null   int64  \n",
      " 17  ActividadEstudia            1000 non-null   int64  \n",
      " 18  ActividadJubilado           1000 non-null   int64  \n",
      " 19  ActividadDuenaCasa          1000 non-null   int64  \n",
      " 20  ActividadBuscaTrabajo1Vez   1000 non-null   int64  \n",
      " 21  ActividadCesante            1000 non-null   int64  \n",
      " 22  ActividadOtro               1000 non-null   int64  \n",
      " 23  ActividadOtro_e             50 non-null     object \n",
      " 24  OcupacionPrincipal          489 non-null    float64\n",
      " 25  ActividadEconomica          489 non-null    float64\n",
      " 26  JornadaTrabajo              489 non-null    float64\n",
      " 27  DondeEstudia                170 non-null    float64\n",
      " 28  LugarTrabajoComuna          489 non-null    object \n",
      " 29  LugarTrabajoCalle           489 non-null    object \n",
      " 30  LugarTrabajoNumero          489 non-null    object \n",
      " 31  LugarTrabajoInterCalle      489 non-null    object \n",
      " 32  LugarTrabajoHito            489 non-null    object \n",
      " 33  LugarEstudioComuna          170 non-null    object \n",
      " 34  LugarEstudioCalle           170 non-null    object \n",
      " 35  LugarEstudioNumero          170 non-null    object \n",
      " 36  LugarEstudioInterCalle      170 non-null    object \n",
      " 37  LugarEstudioHito            170 non-null    object \n",
      " 38  RealizoViaje                1000 non-null   int64  \n",
      " 39  LugarDiaRegistroViaje       326 non-null    float64\n",
      " 40  MotivoNoViaje               326 non-null    float64\n",
      " 41  MotivoNoViaje_e             30 non-null     object \n",
      " 42  LugarComienzoDia            674 non-null    float64\n",
      " 43  LugarInicioDiaComuna        6 non-null      object \n",
      " 44  LugarInicioDiaCalle         6 non-null      object \n",
      " 45  LugarInicioDiaNumero        6 non-null      object \n",
      " 46  LugarInicioDiaInterCalle    6 non-null      object \n",
      " 47  LugarInicioDiaHito          6 non-null      object \n",
      " 48  Sector_LugarInicioDia       1000 non-null   int64  \n",
      " 49  HoraSalidaHora              674 non-null    float64\n",
      " 50  HoraSalidaMinuto            674 non-null    float64\n",
      " 51  NumeroViajes                674 non-null    float64\n",
      " 52  ViajesCaminata              1000 non-null   int64  \n",
      " 53  NumeroEtapas                674 non-null    float64\n",
      " 54  FreqCaminata                1000 non-null   int64  \n",
      " 55  FreqPrivado                 1000 non-null   int64  \n",
      " 56  FreqBus                     1000 non-null   int64  \n",
      " 57  FreqColectivo               1000 non-null   int64  \n",
      " 58  FreqBicicleta               1000 non-null   int64  \n",
      " 59  FreqAvion                   1000 non-null   int64  \n",
      " 60  ComprasComuna               1000 non-null   int64  \n",
      " 61  ComprasComunaEsp            4 non-null      object \n",
      " 62  SaludComuna                 1000 non-null   int64  \n",
      " 63  SaludComunaEsp              22 non-null     object \n",
      " 64  UsoTIC                      1000 non-null   int64  \n",
      " 65  UsoTransPub                 1000 non-null   int64  \n",
      " 66  PercepcionIngresos          1000 non-null   int64  \n",
      " 67  MontoIngresoPersonal        40 non-null     float64\n",
      " 68  TramoIngresoPersonal        687 non-null    float64\n",
      " 69  MontoGastoTransporte        1000 non-null   int64  \n",
      " 70  ConocimientoCampana         1000 non-null   int64  \n",
      " 71  CampanaDiario               1000 non-null   int64  \n",
      " 72  CampanaRadio                1000 non-null   int64  \n",
      " 73  CampanaTelevision           1000 non-null   int64  \n",
      " 74  CampanaVolante              1000 non-null   int64  \n",
      " 75  CampanaAfiche               1000 non-null   int64  \n",
      " 76  CampanaPasacalle            1000 non-null   int64  \n",
      " 77  CampanaPersonas             1000 non-null   int64  \n",
      " 78  Edad                        1000 non-null   int64  \n",
      " 79  TramoEdad                   1000 non-null   int64  \n",
      " 80  IngresoPersonal             870 non-null    float64\n",
      " 81  FactorExpansionP            1000 non-null   object \n",
      "dtypes: float64(16), int64(46), object(20)\n",
      "memory usage: 640.8+ KB\n"
     ]
    }
   ],
   "source": [
    "persona.info()"
   ]
  },
  {
   "cell_type": "code",
   "execution_count": null,
   "id": "b3339a2c-25cc-4229-a496-2de180a3d80f",
   "metadata": {},
   "outputs": [],
   "source": []
  },
  {
   "cell_type": "code",
   "execution_count": 27,
   "id": "4a7a905e-7fbe-4b88-8b06-6d784357fec6",
   "metadata": {},
   "outputs": [
    {
     "name": "stdout",
     "output_type": "stream",
     "text": [
      "Index(['folio', 'ordenpersona', 'diaentrevista', 'mesentrevista',\n",
      "       'horaentrevista', 'minutoentrevista', 'sexo', 'parentesco',\n",
      "       'mesnacimiento', 'agnonacimiento', 'tenencialicenciaconducir',\n",
      "       'tenenciatne', 'tenenciatarjetaadultomayor', 'escolaridadcurso',\n",
      "       'escolaridadnivel', 'escolaridadtitulo', 'actividadtrabaja',\n",
      "       'actividadestudia', 'actividadjubilado', 'actividadduenacasa',\n",
      "       'actividadbuscatrabajo1vez', 'actividadcesante', 'actividadotro',\n",
      "       'actividadotro_e', 'ocupacionprincipal', 'actividadeconomica',\n",
      "       'jornadatrabajo', 'dondeestudia', 'lugartrabajocomuna',\n",
      "       'lugartrabajocalle', 'lugartrabajonumero', 'lugartrabajointercalle',\n",
      "       'lugartrabajohito', 'lugarestudiocomuna', 'lugarestudiocalle',\n",
      "       'lugarestudionumero', 'lugarestudiointercalle', 'lugarestudiohito',\n",
      "       'realizoviaje', 'lugardiaregistroviaje', 'motivonoviaje',\n",
      "       'motivonoviaje_e', 'lugarcomienzodia', 'lugariniciodiacomuna',\n",
      "       'lugariniciodiacalle', 'lugariniciodianumero',\n",
      "       'lugariniciodiaintercalle', 'lugariniciodiahito',\n",
      "       'sector_lugariniciodia', 'horasalidahora', 'horasalidaminuto',\n",
      "       'numeroviajes', 'viajescaminata', 'numeroetapas', 'freqcaminata',\n",
      "       'freqprivado', 'freqbus', 'freqcolectivo', 'freqbicicleta', 'freqavion',\n",
      "       'comprascomuna', 'comprascomunaesp', 'saludcomuna', 'saludcomunaesp',\n",
      "       'usotic', 'usotranspub', 'percepcioningresos', 'montoingresopersonal',\n",
      "       'tramoingresopersonal', 'montogastotransporte', 'conocimientocampana',\n",
      "       'campanadiario', 'campanaradio', 'campanatelevision', 'campanavolante',\n",
      "       'campanaafiche', 'campanapasacalle', 'campanapersonas', 'edad',\n",
      "       'tramoedad', 'ingresopersonal', 'factorexpansionp'],\n",
      "      dtype='object')\n"
     ]
    }
   ],
   "source": [
    "persona.columns = persona.columns.str.strip().str.lower().str.replace(\" \", \"_\")\n",
    "print(persona.columns)"
   ]
  },
  {
   "cell_type": "code",
   "execution_count": 28,
   "id": "73b8a8cb-26e4-41b6-9010-a94560d586e6",
   "metadata": {},
   "outputs": [],
   "source": [
    "persona  = persona.drop(columns=[\"campanavolante\"])"
   ]
  },
  {
   "cell_type": "code",
   "execution_count": 29,
   "id": "dec3b3b9-6c29-43b3-820d-94d92090e23e",
   "metadata": {},
   "outputs": [],
   "source": [
    "persona  = persona.drop(columns=[\"comprascomunaesp\"])"
   ]
  },
  {
   "cell_type": "code",
   "execution_count": 30,
   "id": "064fc276-3b13-458d-93aa-21ddf05a0768",
   "metadata": {},
   "outputs": [],
   "source": [
    "persona = persona.drop(columns=[\"lugariniciodianumero\"])"
   ]
  },
  {
   "cell_type": "code",
   "execution_count": 31,
   "id": "09b475f6-db48-4568-b2d3-85dae400598d",
   "metadata": {},
   "outputs": [],
   "source": [
    "persona = persona.drop(columns=[\"lugariniciodiacomuna\"])"
   ]
  },
  {
   "cell_type": "code",
   "execution_count": 32,
   "id": "02449efb-e912-42c7-8a6e-be17ab93555b",
   "metadata": {},
   "outputs": [],
   "source": [
    "persona = persona.drop(columns=[\"lugariniciodiacalle\"])"
   ]
  },
  {
   "cell_type": "code",
   "execution_count": 33,
   "id": "5f0e40f1-e563-4d74-a62e-d41879e912dd",
   "metadata": {},
   "outputs": [],
   "source": [
    "persona = persona.drop(columns=[\"lugariniciodiaintercalle\"])"
   ]
  },
  {
   "cell_type": "code",
   "execution_count": 34,
   "id": "57a04254-967e-4909-88fe-3f6db9df40ef",
   "metadata": {},
   "outputs": [],
   "source": [
    "persona = persona.drop(columns=[\"lugariniciodiahito\"])"
   ]
  },
  {
   "cell_type": "code",
   "execution_count": 35,
   "id": "3017a9ef-de73-4bc3-b3fa-6cb72a4185ea",
   "metadata": {},
   "outputs": [],
   "source": [
    "persona = persona.drop(columns=[\"lugartrabajocalle\"])"
   ]
  },
  {
   "cell_type": "code",
   "execution_count": 36,
   "id": "e18e7ca0-92fe-45a2-b4f8-8df4ddd6d577",
   "metadata": {},
   "outputs": [],
   "source": [
    "persona = persona.drop(columns=[\"lugartrabajonumero\"])"
   ]
  },
  {
   "cell_type": "code",
   "execution_count": 37,
   "id": "65861505-c14a-4baa-a9c6-3da49d5dec9c",
   "metadata": {},
   "outputs": [],
   "source": [
    "persona = persona.drop(columns=[\"lugartrabajointercalle\"])"
   ]
  },
  {
   "cell_type": "code",
   "execution_count": 38,
   "id": "0badbdc5-200a-43e4-ab6d-ad3125010835",
   "metadata": {},
   "outputs": [],
   "source": [
    "persona = persona.drop(columns=[\"lugartrabajohito\"])"
   ]
  },
  {
   "cell_type": "code",
   "execution_count": 39,
   "id": "91d119f5-e464-473b-8063-5b62a44ad577",
   "metadata": {},
   "outputs": [],
   "source": [
    "persona = persona.drop(columns=[\"lugarestudiocalle\"])"
   ]
  },
  {
   "cell_type": "code",
   "execution_count": 40,
   "id": "ffea6508-0544-4055-b026-3479e0cbfe59",
   "metadata": {},
   "outputs": [],
   "source": [
    "persona = persona.drop(columns=[\"lugarestudionumero\"])"
   ]
  },
  {
   "cell_type": "code",
   "execution_count": 41,
   "id": "99d93356-98f9-4094-9a2e-4a2dec9ea47b",
   "metadata": {},
   "outputs": [],
   "source": [
    "persona = persona.drop(columns=[\"lugarestudiointercalle\"])"
   ]
  },
  {
   "cell_type": "code",
   "execution_count": 42,
   "id": "e77f76cb-2620-4adf-b529-7162a90fbf4a",
   "metadata": {},
   "outputs": [],
   "source": [
    "persona['ocupacionprincipal'] = persona['ocupacionprincipal'].apply(lambda x: x[0] if isinstance(x, list) and len(x) > 0 else x)"
   ]
  },
  {
   "cell_type": "code",
   "execution_count": 43,
   "id": "f469dcd5-2621-4774-887d-8bec05c733df",
   "metadata": {},
   "outputs": [
    {
     "name": "stdout",
     "output_type": "stream",
     "text": [
      "<class 'pandas.core.frame.DataFrame'>\n",
      "RangeIndex: 1000 entries, 0 to 999\n",
      "Data columns (total 53 columns):\n",
      " #   Column                     Non-Null Count  Dtype  \n",
      "---  ------                     --------------  -----  \n",
      " 0   Folio                      1000 non-null   int64  \n",
      " 1   ordenpersona               1000 non-null   int64  \n",
      " 2   ordenviaje                 1000 non-null   int64  \n",
      " 3   Proposito                  1000 non-null   int64  \n",
      " 4   PropositoVC                475 non-null    float64\n",
      " 5   Proposito_e                8 non-null      object \n",
      " 6   OrigenActividadComuna      1000 non-null   object \n",
      " 7   OrigenActividadCalle       1000 non-null   object \n",
      " 8   OrigenActividadNumero      1000 non-null   object \n",
      " 9   OrigenActividadInterCalle  1000 non-null   object \n",
      " 10  OrigenActividadHito        1000 non-null   object \n",
      " 11  LugarActividadComuna       1000 non-null   object \n",
      " 12  LugarActividadCalle        1000 non-null   object \n",
      " 13  LugarActividadNumero       1000 non-null   object \n",
      " 14  LugarActividadInterCalle   1000 non-null   object \n",
      " 15  LugarActividadHito         1000 non-null   object \n",
      " 16  ActividadEmpresa           208 non-null    float64\n",
      " 17  TipoAsiento                538 non-null    float64\n",
      " 18  ModoEtapa1                 1000 non-null   int64  \n",
      " 19  ModoEtapa2                 0 non-null      float64\n",
      " 20  ModoEtapa3                 0 non-null      float64\n",
      " 21  ModoEtapa4                 0 non-null      float64\n",
      " 22  ModoEtapa5                 0 non-null      float64\n",
      " 23  CuadrasCaminadasDespues    1000 non-null   int64  \n",
      " 24  MinutosCaminadosDespues    1000 non-null   int64  \n",
      " 25  HoraLlegadaHora            1000 non-null   int64  \n",
      " 26  HoraLlegadaMinuto          1000 non-null   int64  \n",
      " 27  HoraVolvioSalirHora        1000 non-null   int64  \n",
      " 28  HoraVolvioSalirMinuto      1000 non-null   int64  \n",
      " 29  Coord_OrigenViaje          1000 non-null   object \n",
      " 30  Zona_OrigenViaje           1000 non-null   int64  \n",
      " 31  Sector_OrigenViaje         1000 non-null   object \n",
      " 32  HoraSalida                 1000 non-null   object \n",
      " 33  Coord_DestinoViaje         1000 non-null   object \n",
      " 34  Zona_DestinoViaje          1000 non-null   int64  \n",
      " 35  Sector_DestinoViaje        1000 non-null   object \n",
      " 36  HoraLlegada                1000 non-null   object \n",
      " 37  TiempoViaje                1000 non-null   object \n",
      " 38  Distancia                  0 non-null      float64\n",
      " 39  Periodo                    1000 non-null   int64  \n",
      " 40  NumeroEtapasViaje          1000 non-null   int64  \n",
      " 41  HoraMediaViaje             1000 non-null   object \n",
      " 42  ModoAgregado               1000 non-null   int64  \n",
      " 43  PropositoAgregado          1000 non-null   int64  \n",
      " 44  FactorExpansionV           1000 non-null   object \n",
      " 45  codActividadEmpresa        0 non-null      float64\n",
      " 46  codModoEtapa1              0 non-null      float64\n",
      " 47  codModoEtapa2              0 non-null      float64\n",
      " 48  codModoEtapa3              0 non-null      float64\n",
      " 49  codModoEtapa4              0 non-null      float64\n",
      " 50  codModoEtapa5              0 non-null      float64\n",
      " 51  codPeriodo                 0 non-null      float64\n",
      " 52  codProposito               0 non-null      float64\n",
      "dtypes: float64(16), int64(17), object(20)\n",
      "memory usage: 414.2+ KB\n"
     ]
    }
   ],
   "source": [
    "# Limpieza inicial de 'Viaje'\n",
    "viaje.info()"
   ]
  },
  {
   "cell_type": "code",
   "execution_count": 44,
   "id": "ab7b465b-097e-4c30-b865-5142241f74b0",
   "metadata": {},
   "outputs": [],
   "source": [
    "persona = persona.drop(columns=[\"lugarestudiohito\"])"
   ]
  },
  {
   "cell_type": "code",
   "execution_count": 45,
   "id": "2841cf75-a7c5-448e-985a-e0571781befc",
   "metadata": {},
   "outputs": [
    {
     "name": "stdout",
     "output_type": "stream",
     "text": [
      "0\n"
     ]
    }
   ],
   "source": [
    "print(viaje.duplicated().sum())"
   ]
  },
  {
   "cell_type": "code",
   "execution_count": 46,
   "id": "04689bf1-3e72-41aa-ae5c-087721732efd",
   "metadata": {},
   "outputs": [],
   "source": [
    "viaje = viaje.dropna(axis=1, how='all')"
   ]
  },
  {
   "cell_type": "code",
   "execution_count": 47,
   "id": "e4d4911d-59d8-4011-83f6-5c390507ceea",
   "metadata": {},
   "outputs": [
    {
     "name": "stdout",
     "output_type": "stream",
     "text": [
      "Index(['folio', 'ordenpersona', 'ordenviaje', 'proposito', 'propositovc',\n",
      "       'proposito_e', 'origenactividadcomuna', 'origenactividadcalle',\n",
      "       'origenactividadnumero', 'origenactividadintercalle',\n",
      "       'origenactividadhito', 'lugaractividadcomuna', 'lugaractividadcalle',\n",
      "       'lugaractividadnumero', 'lugaractividadintercalle',\n",
      "       'lugaractividadhito', 'actividadempresa', 'tipoasiento', 'modoetapa1',\n",
      "       'cuadrascaminadasdespues', 'minutoscaminadosdespues', 'horallegadahora',\n",
      "       'horallegadaminuto', 'horavolviosalirhora', 'horavolviosalirminuto',\n",
      "       'coord_origenviaje', 'zona_origenviaje', 'sector_origenviaje',\n",
      "       'horasalida', 'coord_destinoviaje', 'zona_destinoviaje',\n",
      "       'sector_destinoviaje', 'horallegada', 'tiempoviaje', 'periodo',\n",
      "       'numeroetapasviaje', 'horamediaviaje', 'modoagregado',\n",
      "       'propositoagregado', 'factorexpansionv'],\n",
      "      dtype='object')\n"
     ]
    }
   ],
   "source": [
    "viaje.columns = viaje.columns.str.strip().str.lower().str.replace(\" \", \"_\")\n",
    "print(viaje.columns)"
   ]
  },
  {
   "cell_type": "code",
   "execution_count": 48,
   "id": "e20befde-fb5e-43f7-9db3-a182a3d74c79",
   "metadata": {},
   "outputs": [],
   "source": [
    "viaje  = viaje.drop(columns=[\"proposito_e\"])"
   ]
  },
  {
   "cell_type": "code",
   "execution_count": 49,
   "id": "acd323ae-aa57-44b5-ba26-b3f57108ddbc",
   "metadata": {},
   "outputs": [],
   "source": [
    "viaje  = viaje.drop(columns=[\"origenactividadcalle\"])"
   ]
  },
  {
   "cell_type": "code",
   "execution_count": 50,
   "id": "1500026d-1dde-4834-8060-1e27f96bdefd",
   "metadata": {},
   "outputs": [],
   "source": [
    "viaje  = viaje.drop(columns=[\"origenactividadnumero\"])"
   ]
  },
  {
   "cell_type": "code",
   "execution_count": 51,
   "id": "2154b04d-a398-4838-9962-0a3b06182ce6",
   "metadata": {},
   "outputs": [],
   "source": [
    "viaje  = viaje.drop(columns=[\"origenactividadintercalle\"])"
   ]
  },
  {
   "cell_type": "code",
   "execution_count": 52,
   "id": "4522a6d1-8c35-433e-978f-7726bce4bffd",
   "metadata": {},
   "outputs": [],
   "source": [
    "viaje  = viaje.drop(columns=[\"origenactividadhito\"])"
   ]
  },
  {
   "cell_type": "code",
   "execution_count": 53,
   "id": "dd68e794-48c7-4b20-b692-e5c9466dae49",
   "metadata": {},
   "outputs": [],
   "source": [
    "viaje  = viaje.drop(columns=[\"lugaractividadcalle\"])"
   ]
  },
  {
   "cell_type": "code",
   "execution_count": 54,
   "id": "7df2bb41-a9b0-4a2a-83c2-ca3016c3acd0",
   "metadata": {},
   "outputs": [],
   "source": [
    "viaje  = viaje.drop(columns=[\"lugaractividadnumero\"])"
   ]
  },
  {
   "cell_type": "code",
   "execution_count": 55,
   "id": "ae13bc6e-311a-460c-998e-cd19667dcc79",
   "metadata": {},
   "outputs": [],
   "source": [
    "viaje  = viaje.drop(columns=[\"lugaractividadintercalle\"])"
   ]
  },
  {
   "cell_type": "code",
   "execution_count": 56,
   "id": "15de6686-7fd3-4c75-901a-bd4b99aa97df",
   "metadata": {},
   "outputs": [],
   "source": [
    "viaje  = viaje.drop(columns=[\"lugaractividadhito\"])"
   ]
  },
  {
   "cell_type": "code",
   "execution_count": 57,
   "id": "e61b221a-e996-4944-84e7-6170fe8943e5",
   "metadata": {},
   "outputs": [
    {
     "name": "stdout",
     "output_type": "stream",
     "text": [
      "<class 'pandas.core.frame.DataFrame'>\n",
      "RangeIndex: 1000 entries, 0 to 999\n",
      "Data columns (total 48 columns):\n",
      " #   Column                       Non-Null Count  Dtype  \n",
      "---  ------                       --------------  -----  \n",
      " 0   Folio                        1000 non-null   int64  \n",
      " 1   OrdenPersona                 1000 non-null   int64  \n",
      " 2   OrdenViaje                   1000 non-null   int64  \n",
      " 3   OrdenEtapa                   1000 non-null   int64  \n",
      " 4   ModoEtapa                    1000 non-null   int64  \n",
      " 5   CuadrasCaminadasAntes        754 non-null    float64\n",
      " 6   MinutosCaminadosAntes        754 non-null    float64\n",
      " 7   TipoAsiento                  538 non-null    float64\n",
      " 8   OrdenVehiculoViaje           538 non-null    float64\n",
      " 9   SituacionBicicleta           43 non-null     float64\n",
      " 10  UsoHabitualBicicleta         43 non-null     float64\n",
      " 11  UsoCiclovia                  43 non-null     float64\n",
      " 12  MotivoNoUsoCiclovia          43 non-null     float64\n",
      " 13  TiempoEspera                 149 non-null    float64\n",
      " 14  VehiculosNoUso               149 non-null    float64\n",
      " 15  NumeroVehiculoNoUso          24 non-null     float64\n",
      " 16  LineaTransportePublico       149 non-null    object \n",
      " 17  PagoTarifaViaje              152 non-null    float64\n",
      " 18  MontoTarifaViaje             143 non-null    float64\n",
      " 19  LugarBajoVehiculo            152 non-null    float64\n",
      " 20  LugarBajoVehiculoComuna      44 non-null     object \n",
      " 21  LugarBajoVehiculoCalle       44 non-null     object \n",
      " 22  LugarBajoVehiculoNumero      44 non-null     object \n",
      " 23  LugarBajoVehiculoInterCalle  44 non-null     object \n",
      " 24  LugarBajoVehiculoHito        44 non-null     object \n",
      " 25  Coord_LugarBajoVehiculo      44 non-null     object \n",
      " 26  Zona_LugarBajoVehiculo       44 non-null     float64\n",
      " 27  Sector_LugarBajoVehiculo     44 non-null     object \n",
      " 28  DondeEstacionoVehiculo       538 non-null    float64\n",
      " 29  LugarEstacionoVehiculo       425 non-null    float64\n",
      " 30  LugarEstacionoVehiculoDir    96 non-null     object \n",
      " 31  MontoPagoEstacionamiento     425 non-null    float64\n",
      " 32  TipoPagoEstacionamiento      0 non-null      float64\n",
      " 33  LugarEstacionoBicicleta      43 non-null     float64\n",
      " 34  FactorExpansionE             1000 non-null   int64  \n",
      " 35  codDondeEstacionoVehiculo    0 non-null      float64\n",
      " 36  codLugarBajoVehiculo         0 non-null      float64\n",
      " 37  codLugarEstacionoBicicleta   0 non-null      float64\n",
      " 38  codLugarEstacionoVehiculo    0 non-null      float64\n",
      " 39  codModoEtapa                 0 non-null      float64\n",
      " 40  codMotivoNoUsoCiclovia       0 non-null      float64\n",
      " 41  codPagoTarifaViaje           0 non-null      float64\n",
      " 42  codSituacionBicicleta        0 non-null      float64\n",
      " 43  codTipoAsiento               0 non-null      float64\n",
      " 44  codTipoPagoEstacionamiento   0 non-null      float64\n",
      " 45  codUsoClicloVia              0 non-null      float64\n",
      " 46  codUsoHabitualBicicleta      0 non-null      float64\n",
      " 47  codVehiculosNoUso            0 non-null      float64\n",
      "dtypes: float64(33), int64(6), object(9)\n",
      "memory usage: 375.1+ KB\n"
     ]
    }
   ],
   "source": [
    "#Limpieza inicial 'Etapa'\n",
    "etapa.info()"
   ]
  },
  {
   "cell_type": "code",
   "execution_count": 58,
   "id": "d0c05106-2dfc-452b-905b-47dbdf799b99",
   "metadata": {},
   "outputs": [
    {
     "name": "stdout",
     "output_type": "stream",
     "text": [
      "0\n"
     ]
    }
   ],
   "source": [
    "print(etapa.duplicated().sum())"
   ]
  },
  {
   "cell_type": "code",
   "execution_count": 59,
   "id": "f77b255c-1a2d-4ab9-b429-ee62974f35a8",
   "metadata": {},
   "outputs": [],
   "source": [
    "etapa = etapa.dropna(axis=1, how='all')"
   ]
  },
  {
   "cell_type": "code",
   "execution_count": 60,
   "id": "b36bd753-afab-43cf-b36f-a853953a1b34",
   "metadata": {},
   "outputs": [
    {
     "name": "stdout",
     "output_type": "stream",
     "text": [
      "Index(['folio', 'ordenpersona', 'ordenviaje', 'ordenetapa', 'modoetapa',\n",
      "       'cuadrascaminadasantes', 'minutoscaminadosantes', 'tipoasiento',\n",
      "       'ordenvehiculoviaje', 'situacionbicicleta', 'usohabitualbicicleta',\n",
      "       'usociclovia', 'motivonousociclovia', 'tiempoespera', 'vehiculosnouso',\n",
      "       'numerovehiculonouso', 'lineatransportepublico', 'pagotarifaviaje',\n",
      "       'montotarifaviaje', 'lugarbajovehiculo', 'lugarbajovehiculocomuna',\n",
      "       'lugarbajovehiculocalle', 'lugarbajovehiculonumero',\n",
      "       'lugarbajovehiculointercalle', 'lugarbajovehiculohito',\n",
      "       'coord_lugarbajovehiculo', 'zona_lugarbajovehiculo',\n",
      "       'sector_lugarbajovehiculo', 'dondeestacionovehiculo',\n",
      "       'lugarestacionovehiculo', 'lugarestacionovehiculodir',\n",
      "       'montopagoestacionamiento', 'lugarestacionobicicleta',\n",
      "       'factorexpansione'],\n",
      "      dtype='object')\n"
     ]
    }
   ],
   "source": [
    "etapa.columns = etapa.columns.str.strip().str.lower().str.replace(\" \", \"_\")\n",
    "print(etapa.columns)"
   ]
  },
  {
   "cell_type": "code",
   "execution_count": 61,
   "id": "283962bb-1b75-45e5-89bc-85e876551209",
   "metadata": {},
   "outputs": [],
   "source": [
    "etapa = etapa.drop(columns=[\"factorexpansione\"])"
   ]
  },
  {
   "cell_type": "code",
   "execution_count": 62,
   "id": "69e1fb22-48f6-491b-9f83-d7944f895d0c",
   "metadata": {},
   "outputs": [],
   "source": [
    "etapa = etapa.drop(columns=[\"lugarbajovehiculocalle\"])"
   ]
  },
  {
   "cell_type": "code",
   "execution_count": 63,
   "id": "ebe65533-e735-4b70-a897-44cc66e9f52d",
   "metadata": {},
   "outputs": [],
   "source": [
    "etapa = etapa.drop(columns=[\"lugarbajovehiculonumero\"])"
   ]
  },
  {
   "cell_type": "code",
   "execution_count": 64,
   "id": "adc47920-4008-46fa-8083-0b89659f3b85",
   "metadata": {},
   "outputs": [],
   "source": [
    "etapa = etapa.drop(columns=[\"lugarbajovehiculointercalle\"])"
   ]
  },
  {
   "cell_type": "code",
   "execution_count": 65,
   "id": "6d4076b4-b025-40f5-b663-efde48494f27",
   "metadata": {},
   "outputs": [],
   "source": [
    "etapa = etapa.drop(columns=[\"lugarbajovehiculohito\"])"
   ]
  },
  {
   "cell_type": "code",
   "execution_count": 66,
   "id": "3de57407-3ced-4c49-91ee-f767848f3f76",
   "metadata": {},
   "outputs": [],
   "source": [
    "etapa = etapa.drop(columns=[\"coord_lugarbajovehiculo\"])"
   ]
  },
  {
   "cell_type": "code",
   "execution_count": 67,
   "id": "4875c5d7-4e38-4ab9-a747-7eca329df167",
   "metadata": {},
   "outputs": [],
   "source": [
    "etapa = etapa.drop(columns=[\"lugarestacionovehiculodir\"])"
   ]
  },
  {
   "cell_type": "code",
   "execution_count": 68,
   "id": "27f27b95-b790-4e3d-a899-a50e30a04960",
   "metadata": {},
   "outputs": [
    {
     "name": "stdout",
     "output_type": "stream",
     "text": [
      "<class 'pandas.core.frame.DataFrame'>\n",
      "RangeIndex: 359 entries, 0 to 358\n",
      "Data columns (total 14 columns):\n",
      " #   Column                Non-Null Count  Dtype  \n",
      "---  ------                --------------  -----  \n",
      " 0   Folio                 359 non-null    int64  \n",
      " 1   ordenvehiculo         359 non-null    int64  \n",
      " 2   TipoVehiculo          359 non-null    int64  \n",
      " 3   OrdenConductor        359 non-null    int64  \n",
      " 4   MarcaVehiculo         359 non-null    object \n",
      " 5   ModeloVehiculo        359 non-null    object \n",
      " 6   AnoVehiculo           359 non-null    int64  \n",
      " 7   CombustibleVehiculo   359 non-null    int64  \n",
      " 8   SituacionVehiculo     359 non-null    int64  \n",
      " 9   VehiculoTrabajo       359 non-null    int64  \n",
      " 10  FactorExpansionA      359 non-null    object \n",
      " 11  codSituacionVehiculo  0 non-null      float64\n",
      " 12  codTipoVehiculo       0 non-null      float64\n",
      " 13  codVehiculoTrabajo    0 non-null      float64\n",
      "dtypes: float64(3), int64(8), object(3)\n",
      "memory usage: 39.4+ KB\n"
     ]
    }
   ],
   "source": [
    "#Limpieza inicial 'Vehiculo'\n",
    "vehiculo.info()"
   ]
  },
  {
   "cell_type": "code",
   "execution_count": 69,
   "id": "f5aab3f3-0db9-4246-bdee-016f0404030d",
   "metadata": {},
   "outputs": [
    {
     "name": "stdout",
     "output_type": "stream",
     "text": [
      "0\n"
     ]
    }
   ],
   "source": [
    "print(vehiculo.duplicated().sum())"
   ]
  },
  {
   "cell_type": "code",
   "execution_count": 70,
   "id": "0796f3a0-26aa-45b2-9ca5-109564474ab5",
   "metadata": {},
   "outputs": [],
   "source": [
    "vehiculo = vehiculo.dropna(axis=1, how='all')"
   ]
  },
  {
   "cell_type": "code",
   "execution_count": 71,
   "id": "d740bacc-c3a0-4d90-8e59-b03818721871",
   "metadata": {},
   "outputs": [
    {
     "name": "stdout",
     "output_type": "stream",
     "text": [
      "Index(['folio', 'ordenvehiculo', 'tipovehiculo', 'ordenconductor',\n",
      "       'marcavehiculo', 'modelovehiculo', 'anovehiculo', 'combustiblevehiculo',\n",
      "       'situacionvehiculo', 'vehiculotrabajo', 'factorexpansiona'],\n",
      "      dtype='object')\n"
     ]
    }
   ],
   "source": [
    "vehiculo.columns = vehiculo.columns.str.strip().str.lower().str.replace(\" \", \"_\")\n",
    "print(vehiculo.columns)"
   ]
  },
  {
   "cell_type": "code",
   "execution_count": 72,
   "id": "0704b7bc-2969-4fa5-bb03-b8ffa957f1f1",
   "metadata": {},
   "outputs": [
    {
     "name": "stdout",
     "output_type": "stream",
     "text": [
      "<class 'pandas.core.frame.DataFrame'>\n",
      "RangeIndex: 196 entries, 0 to 195\n",
      "Data columns (total 7 columns):\n",
      " #   Column              Non-Null Count  Dtype  \n",
      "---  ------              --------------  -----  \n",
      " 0   folio               196 non-null    int64  \n",
      " 1   ordenbicicleta      196 non-null    int64  \n",
      " 2   TipoBicicleta       196 non-null    int64  \n",
      " 3   OrdenConductor      196 non-null    int64  \n",
      " 4   SituacionBicicleta  196 non-null    int64  \n",
      " 5   BicicletaTrabajo    196 non-null    int64  \n",
      " 6   FactorExpansionB    0 non-null      float64\n",
      "dtypes: float64(1), int64(6)\n",
      "memory usage: 10.8 KB\n"
     ]
    }
   ],
   "source": [
    "##Limpieza inicial 'Bicicleta'\n",
    "bicicleta.info()"
   ]
  },
  {
   "cell_type": "code",
   "execution_count": 73,
   "id": "6ca0c124-3a82-45e3-96b0-59f53a4de495",
   "metadata": {},
   "outputs": [
    {
     "name": "stdout",
     "output_type": "stream",
     "text": [
      "0\n"
     ]
    }
   ],
   "source": [
    "print(bicicleta.duplicated().sum())"
   ]
  },
  {
   "cell_type": "code",
   "execution_count": 74,
   "id": "7ee851a0-6f3b-49cb-9606-5ac27991153d",
   "metadata": {},
   "outputs": [],
   "source": [
    "bicicleta = bicicleta.dropna(axis=1, how='all')"
   ]
  },
  {
   "cell_type": "code",
   "execution_count": 75,
   "id": "e5fa49f4-b62d-45db-a192-b0acc9cc3209",
   "metadata": {},
   "outputs": [
    {
     "name": "stdout",
     "output_type": "stream",
     "text": [
      "Index(['folio', 'ordenbicicleta', 'tipobicicleta', 'ordenconductor',\n",
      "       'situacionbicicleta', 'bicicletatrabajo'],\n",
      "      dtype='object')\n"
     ]
    }
   ],
   "source": [
    "bicicleta.columns = bicicleta.columns.str.strip().str.lower().str.replace(\" \", \"_\")\n",
    "print(bicicleta.columns)"
   ]
  },
  {
   "cell_type": "code",
   "execution_count": 76,
   "id": "d2951e82-0bd0-4907-b9ac-28246c49e37b",
   "metadata": {},
   "outputs": [
    {
     "name": "stdout",
     "output_type": "stream",
     "text": [
      "<class 'pandas.core.frame.DataFrame'>\n",
      "RangeIndex: 520 entries, 0 to 519\n",
      "Data columns (total 6 columns):\n",
      " #   Column          Non-Null Count  Dtype  \n",
      "---  ------          --------------  -----  \n",
      " 0   Folio           520 non-null    int64  \n",
      " 1   idZona          520 non-null    int64  \n",
      " 2   IdMacroZona     520 non-null    int64  \n",
      " 3   Zona            520 non-null    int64  \n",
      " 4   MacroZona       520 non-null    object \n",
      " 5   codIdMacroZona  0 non-null      float64\n",
      "dtypes: float64(1), int64(4), object(1)\n",
      "memory usage: 24.5+ KB\n"
     ]
    }
   ],
   "source": [
    "#Limpieza inicial 'Localizacion\"\n",
    "localizacion.info()"
   ]
  },
  {
   "cell_type": "code",
   "execution_count": 77,
   "id": "f8155bf0-a4a0-4d0c-9855-8a7828846917",
   "metadata": {},
   "outputs": [
    {
     "name": "stdout",
     "output_type": "stream",
     "text": [
      "0\n"
     ]
    }
   ],
   "source": [
    "print(localizacion.duplicated().sum())"
   ]
  },
  {
   "cell_type": "code",
   "execution_count": 78,
   "id": "982f3427-1f47-48e8-bce0-692939c3e507",
   "metadata": {},
   "outputs": [],
   "source": [
    "localizacion = localizacion.dropna(axis=1, how='all')"
   ]
  },
  {
   "cell_type": "code",
   "execution_count": 79,
   "id": "77ee9163-742c-4567-8dbb-55597c01e201",
   "metadata": {},
   "outputs": [
    {
     "name": "stdout",
     "output_type": "stream",
     "text": [
      "Index(['folio', 'idzona', 'idmacrozona', 'zona', 'macrozona'], dtype='object')\n"
     ]
    }
   ],
   "source": [
    "localizacion.columns = localizacion.columns.str.strip().str.lower().str.replace(\" \", \"_\")\n",
    "print(localizacion.columns)"
   ]
  },
  {
   "cell_type": "markdown",
   "id": "eba070ed-5026-475c-bd89-323bed1f75e2",
   "metadata": {},
   "source": [
    "### Transformación de columnas numéricas a categóricas (string)"
   ]
  },
  {
   "cell_type": "markdown",
   "id": "3ff14823-1cca-47cf-a631-ab3d563f6630",
   "metadata": {
    "jp-MarkdownHeadingCollapsed": true
   },
   "source": [
    "#### 'Hogar'"
   ]
  },
  {
   "cell_type": "code",
   "execution_count": 80,
   "id": "9246ab7f-b518-46c1-84bd-8cccc03e0883",
   "metadata": {},
   "outputs": [
    {
     "data": {
      "text/plain": [
       "tipovivienda\n",
       "1    514\n",
       "3      3\n",
       "4      1\n",
       "Name: count, dtype: int64"
      ]
     },
     "execution_count": 80,
     "metadata": {},
     "output_type": "execute_result"
    }
   ],
   "source": [
    "hogar[\"tipovivienda\"].value_counts()"
   ]
  },
  {
   "cell_type": "code",
   "execution_count": 81,
   "id": "c35b3d7e-8a25-406e-97b5-58ecdb342ece",
   "metadata": {},
   "outputs": [
    {
     "data": {
      "text/plain": [
       "tipovivienda\n",
       "Casa            514\n",
       "Departamento      3\n",
       "Otro              1\n",
       "Name: count, dtype: int64"
      ]
     },
     "execution_count": 81,
     "metadata": {},
     "output_type": "execute_result"
    }
   ],
   "source": [
    "mapa_tipovivienda = {\n",
    "    1: \"Casa\",\n",
    "    2: \"Casa en condominio\",\n",
    "    3: \"Departamento\",\n",
    "    4: \"Otro\"\n",
    "}\n",
    "hogar[\"tipovivienda\"] = hogar[\"tipovivienda\"].map(mapa_tipovivienda)\n",
    "hogar[\"tipovivienda\"].value_counts()"
   ]
  },
  {
   "cell_type": "code",
   "execution_count": 82,
   "id": "b2467218-cd77-4d3c-9751-82e61045e0f7",
   "metadata": {},
   "outputs": [
    {
     "data": {
      "text/plain": [
       "situacionvivienda\n",
       "1    376\n",
       "3     95\n",
       "5     28\n",
       "2     10\n",
       "4      9\n",
       "Name: count, dtype: int64"
      ]
     },
     "execution_count": 82,
     "metadata": {},
     "output_type": "execute_result"
    }
   ],
   "source": [
    "hogar[\"situacionvivienda\"].value_counts()"
   ]
  },
  {
   "cell_type": "code",
   "execution_count": 83,
   "id": "cd16bdf3-f9e8-4dc4-a7ee-91fb269752f3",
   "metadata": {},
   "outputs": [
    {
     "data": {
      "text/plain": [
       "situacionvivienda\n",
       "Propia (pagada)                   376\n",
       "Arrendada                          95\n",
       "Cedida por familiares o amigos     28\n",
       "Propia (pagandose a plazo)         10\n",
       "Cedida por trabajo o servicio       9\n",
       "Name: count, dtype: int64"
      ]
     },
     "execution_count": 83,
     "metadata": {},
     "output_type": "execute_result"
    }
   ],
   "source": [
    "mapa_situacionvivienda = {\n",
    "    1: \"Propia (pagada)\",\n",
    "    2: \"Propia (pagandose a plazo)\",\n",
    "    3: \"Arrendada\",\n",
    "    4: \"Cedida por trabajo o servicio\",\n",
    "    5: \"Cedida por familiares o amigos\",\n",
    "    6: \"Cedida por otro\",\n",
    "    7: \"Ocupacion irregular\",\n",
    "    8: \"Otra\"\n",
    "}\n",
    "hogar[\"situacionvivienda\"] = hogar[\"situacionvivienda\"].map(mapa_situacionvivienda)\n",
    "hogar[\"situacionvivienda\"].value_counts()"
   ]
  },
  {
   "cell_type": "code",
   "execution_count": 84,
   "id": "d8075145-b94b-4d1a-a38a-54263ba46ff1",
   "metadata": {},
   "outputs": [
    {
     "data": {
      "text/plain": [
       "hanvividosiempreaqui\n",
       "1    479\n",
       "2     39\n",
       "Name: count, dtype: int64"
      ]
     },
     "execution_count": 84,
     "metadata": {},
     "output_type": "execute_result"
    }
   ],
   "source": [
    "hogar[\"hanvividosiempreaqui\"].value_counts()"
   ]
  },
  {
   "cell_type": "code",
   "execution_count": 85,
   "id": "0298c126-548a-48ba-a921-bd25182f39bd",
   "metadata": {},
   "outputs": [
    {
     "data": {
      "text/plain": [
       "hanvividosiempreaqui\n",
       "Si    479\n",
       "No     39\n",
       "Name: count, dtype: int64"
      ]
     },
     "execution_count": 85,
     "metadata": {},
     "output_type": "execute_result"
    }
   ],
   "source": [
    "mapa_hanvividoaqui = {\n",
    "    1: \"Si\",\n",
    "    2: \"No\"\n",
    "}\n",
    "hogar[\"hanvividosiempreaqui\"] = hogar[\"hanvividosiempreaqui\"].map(mapa_hanvividoaqui)\n",
    "hogar[\"hanvividosiempreaqui\"].value_counts()"
   ]
  },
  {
   "cell_type": "code",
   "execution_count": 86,
   "id": "5ef398ed-59d6-48e7-8857-8af37067574d",
   "metadata": {},
   "outputs": [
    {
     "data": {
      "text/plain": [
       "tipoviviendaanterior\n",
       "1.0    34\n",
       "4.0     3\n",
       "3.0     2\n",
       "Name: count, dtype: int64"
      ]
     },
     "execution_count": 86,
     "metadata": {},
     "output_type": "execute_result"
    }
   ],
   "source": [
    "hogar[\"tipoviviendaanterior\"].value_counts()"
   ]
  },
  {
   "cell_type": "code",
   "execution_count": 87,
   "id": "efd6aaa7-54f5-4f1c-b1e7-b3318c4f45d1",
   "metadata": {},
   "outputs": [
    {
     "data": {
      "text/plain": [
       "tipoviviendaanterior\n",
       "Casa            34\n",
       "Otro             3\n",
       "Departamento     2\n",
       "Name: count, dtype: int64"
      ]
     },
     "execution_count": 87,
     "metadata": {},
     "output_type": "execute_result"
    }
   ],
   "source": [
    "mapa_viviendaanterior = {\n",
    "    1.0: \"Casa\",\n",
    "    2.0: \"Casa en Condominio\",\n",
    "    3.0: \"Departamento\",\n",
    "    4.0: \"Otro\"\n",
    "}\n",
    "hogar[\"tipoviviendaanterior\"] = hogar[\"tipoviviendaanterior\"].map(mapa_viviendaanterior)\n",
    "hogar[\"tipoviviendaanterior\"].value_counts()"
   ]
  },
  {
   "cell_type": "code",
   "execution_count": 88,
   "id": "4703dcfd-70ce-4895-87f1-7b44b94b814a",
   "metadata": {},
   "outputs": [
    {
     "data": {
      "text/plain": [
       "comunaviviendaanterior\n",
       "10.0    26\n",
       "5.0     13\n",
       "Name: count, dtype: int64"
      ]
     },
     "execution_count": 88,
     "metadata": {},
     "output_type": "execute_result"
    }
   ],
   "source": [
    "hogar[\"comunaviviendaanterior\"].value_counts()"
   ]
  },
  {
   "cell_type": "code",
   "execution_count": 89,
   "id": "b5f58bb6-f0a2-4706-bfd5-deb1cd27e389",
   "metadata": {},
   "outputs": [
    {
     "data": {
      "text/plain": [
       "comunaviviendaanterior\n",
       "Otra            26\n",
       "Punta Arenas    13\n",
       "Name: count, dtype: int64"
      ]
     },
     "execution_count": 89,
     "metadata": {},
     "output_type": "execute_result"
    }
   ],
   "source": [
    "mapa_comunaviviendaanterior = {\n",
    "    1.0: \"Cabo de Hornos\",\n",
    "    2.0: \"Laguna Blanca\",\n",
    "    3.0: \"Porvenir\",\n",
    "    4.0: \"Primanera\",\n",
    "    5.0: \"Punta Arenas\",\n",
    "    6.0: \"Rio Verde\",\n",
    "    7.0: \"San Gregorio\",\n",
    "    8.0: \"Timaukel\",\n",
    "    9.0: \"Torres del Paine\",\n",
    "    10.0: \"Otra\"\n",
    "}\n",
    "hogar[\"comunaviviendaanterior\"] = hogar[\"comunaviviendaanterior\"].map(mapa_comunaviviendaanterior)\n",
    "hogar[\"comunaviviendaanterior\"].value_counts()"
   ]
  },
  {
   "cell_type": "code",
   "execution_count": 90,
   "id": "e7a51028-d990-40be-bf71-ead26991b808",
   "metadata": {},
   "outputs": [
    {
     "data": {
      "text/plain": [
       "visionbicicleta\n",
       "3    302\n",
       "2    152\n",
       "1     64\n",
       "Name: count, dtype: int64"
      ]
     },
     "execution_count": 90,
     "metadata": {},
     "output_type": "execute_result"
    }
   ],
   "source": [
    "hogar[\"visionbicicleta\"].value_counts() #Como ve la bicicleta?"
   ]
  },
  {
   "cell_type": "code",
   "execution_count": 91,
   "id": "6ab1923e-8a75-4d65-8ee6-ad605944d89a",
   "metadata": {},
   "outputs": [
    {
     "data": {
      "text/plain": [
       "visionbicicleta\n",
       "Ambas                 302\n",
       "Recreacion            152\n",
       "Modo de transporte     64\n",
       "Name: count, dtype: int64"
      ]
     },
     "execution_count": 91,
     "metadata": {},
     "output_type": "execute_result"
    }
   ],
   "source": [
    "mapa_visionbicicleta = {\n",
    "    1: \"Modo de transporte\",\n",
    "    2: \"Recreacion\",\n",
    "    3: \"Ambas\"\n",
    "}\n",
    "hogar[\"visionbicicleta\"] = hogar[\"visionbicicleta\"].map(mapa_visionbicicleta)\n",
    "hogar[\"visionbicicleta\"].value_counts()"
   ]
  },
  {
   "cell_type": "code",
   "execution_count": 92,
   "id": "d47420c0-4a0c-43bf-9b44-be83b51f18b8",
   "metadata": {},
   "outputs": [
    {
     "data": {
      "text/plain": [
       "integrantecapred\n",
       "2    459\n",
       "1     59\n",
       "Name: count, dtype: int64"
      ]
     },
     "execution_count": 92,
     "metadata": {},
     "output_type": "execute_result"
    }
   ],
   "source": [
    "hogar[\"integrantecapred\"].value_counts() #Integrante que tenga capacidades reducidas"
   ]
  },
  {
   "cell_type": "code",
   "execution_count": 93,
   "id": "6254d225-146c-40b7-940d-aecd578880be",
   "metadata": {},
   "outputs": [
    {
     "data": {
      "text/plain": [
       "integrantecapred\n",
       "No    459\n",
       "Si     59\n",
       "Name: count, dtype: int64"
      ]
     },
     "execution_count": 93,
     "metadata": {},
     "output_type": "execute_result"
    }
   ],
   "source": [
    "mapa_integrantecaped = {\n",
    "    1: \"Si\",\n",
    "    2: \"No\"\n",
    "}\n",
    "hogar[\"integrantecapred\"] = hogar[\"integrantecapred\"].map(mapa_integrantecaped)\n",
    "hogar[\"integrantecapred\"].value_counts()"
   ]
  },
  {
   "cell_type": "code",
   "execution_count": 94,
   "id": "3ac7f0b8-5518-464b-9f21-6cced83b9352",
   "metadata": {},
   "outputs": [
    {
     "data": {
      "text/plain": [
       "capredtipo\n",
       "1.0    45\n",
       "2.0    13\n",
       "3.0     1\n",
       "Name: count, dtype: int64"
      ]
     },
     "execution_count": 94,
     "metadata": {},
     "output_type": "execute_result"
    }
   ],
   "source": [
    "hogar[\"capredtipo\"].value_counts()"
   ]
  },
  {
   "cell_type": "code",
   "execution_count": 95,
   "id": "ba170f2c-3cf8-4260-933d-3c976d32a057",
   "metadata": {},
   "outputs": [
    {
     "data": {
      "text/plain": [
       "capredtipo\n",
       "Fisica                          45\n",
       "Sensorial (auditiva, visual)    13\n",
       "Intelectual                      1\n",
       "Name: count, dtype: int64"
      ]
     },
     "execution_count": 95,
     "metadata": {},
     "output_type": "execute_result"
    }
   ],
   "source": [
    "mapa_capredtipo = {\n",
    "    1: \"Fisica\",\n",
    "    2: \"Sensorial (auditiva, visual)\", \n",
    "    3: \"Intelectual\"\n",
    "}\n",
    "hogar[\"capredtipo\"] = hogar[\"capredtipo\"].map(mapa_capredtipo)\n",
    "hogar[\"capredtipo\"].value_counts()"
   ]
  },
  {
   "cell_type": "code",
   "execution_count": 96,
   "id": "127e9fe9-eea5-4180-a4ba-71c9f0a3cb06",
   "metadata": {},
   "outputs": [
    {
     "data": {
      "text/plain": [
       "capredsuficiencia\n",
       "2.0    37\n",
       "1.0    22\n",
       "Name: count, dtype: int64"
      ]
     },
     "execution_count": 96,
     "metadata": {},
     "output_type": "execute_result"
    }
   ],
   "source": [
    "hogar[\"capredsuficiencia\"].value_counts()"
   ]
  },
  {
   "cell_type": "code",
   "execution_count": 97,
   "id": "649305c3-5a7c-40a6-9026-962381149afb",
   "metadata": {},
   "outputs": [],
   "source": [
    "mapa_capredsuficiencia = {\n",
    "    1: \"Si\",\n",
    "    2: \"No\"\n",
    "}\n",
    "hogar[\"capredsuficiencia\"] = hogar[\"capredsuficiencia\"].map(mapa_capredsuficiencia)"
   ]
  },
  {
   "cell_type": "code",
   "execution_count": 98,
   "id": "94a25e97-e4c2-4641-aecf-afa6d4db705b",
   "metadata": {},
   "outputs": [
    {
     "data": {
      "text/plain": [
       "capredsuficiencia\n",
       "No    37\n",
       "Si    22\n",
       "Name: count, dtype: int64"
      ]
     },
     "execution_count": 98,
     "metadata": {},
     "output_type": "execute_result"
    }
   ],
   "source": [
    "hogar[\"capredsuficiencia\"].value_counts()"
   ]
  },
  {
   "cell_type": "code",
   "execution_count": 99,
   "id": "82bd371a-bb4f-4eba-85d9-38755fed9ddb",
   "metadata": {},
   "outputs": [
    {
     "data": {
      "text/plain": [
       "cuentasinternet\n",
       "3    221\n",
       "1    197\n",
       "2    100\n",
       "Name: count, dtype: int64"
      ]
     },
     "execution_count": 99,
     "metadata": {},
     "output_type": "execute_result"
    }
   ],
   "source": [
    "hogar[\"cuentasinternet\"].value_counts() #Paga las cuentas por internet"
   ]
  },
  {
   "cell_type": "code",
   "execution_count": 100,
   "id": "373860a3-8c71-4b10-8772-9fcc5ed8cfa3",
   "metadata": {},
   "outputs": [
    {
     "data": {
      "text/plain": [
       "cuentasinternet\n",
       "No             221\n",
       "Si, todas      197\n",
       "Si, algunas    100\n",
       "Name: count, dtype: int64"
      ]
     },
     "execution_count": 100,
     "metadata": {},
     "output_type": "execute_result"
    }
   ],
   "source": [
    "mapa_cuentasinternet = {\n",
    "    1: \"Si, todas\",\n",
    "    2: \"Si, algunas\",\n",
    "    3: \"No\"\n",
    "}\n",
    "hogar[\"cuentasinternet\"] = hogar[\"cuentasinternet\"].map(mapa_cuentasinternet)\n",
    "hogar[\"cuentasinternet\"].value_counts()"
   ]
  },
  {
   "cell_type": "code",
   "execution_count": 101,
   "id": "0104773f-00b6-41e0-bc65-f0151fab4e9f",
   "metadata": {},
   "outputs": [
    {
     "data": {
      "text/plain": [
       "disponibilidadvehiculo\n",
       "1    290\n",
       "2    228\n",
       "Name: count, dtype: int64"
      ]
     },
     "execution_count": 101,
     "metadata": {},
     "output_type": "execute_result"
    }
   ],
   "source": [
    "hogar[\"disponibilidadvehiculo\"].value_counts()"
   ]
  },
  {
   "cell_type": "code",
   "execution_count": 102,
   "id": "8e7847a2-7734-45f1-8814-d2e6ee99f684",
   "metadata": {},
   "outputs": [
    {
     "data": {
      "text/plain": [
       "disponibilidadvehiculo\n",
       "Si    290\n",
       "No    228\n",
       "Name: count, dtype: int64"
      ]
     },
     "execution_count": 102,
     "metadata": {},
     "output_type": "execute_result"
    }
   ],
   "source": [
    "mapa_disponibilidadvehiculo = {\n",
    "    1: \"Si\",\n",
    "    2: \"No\"\n",
    "}\n",
    "hogar[\"disponibilidadvehiculo\"] = hogar[\"disponibilidadvehiculo\"].map(mapa_disponibilidadvehiculo)\n",
    "hogar[\"disponibilidadvehiculo\"].value_counts()"
   ]
  },
  {
   "cell_type": "code",
   "execution_count": 103,
   "id": "ba4f009c-dc41-42b8-92c3-464d2574df5f",
   "metadata": {},
   "outputs": [],
   "source": [
    "hogar[\"numerovehiculos\"] = hogar[\"numerovehiculos\"].astype(\"Int64\")"
   ]
  },
  {
   "cell_type": "code",
   "execution_count": 104,
   "id": "b2e92170-e17f-490e-89e0-52091b312b5b",
   "metadata": {},
   "outputs": [
    {
     "data": {
      "text/plain": [
       "disponibilidadbicicleta\n",
       "2    395\n",
       "1    123\n",
       "Name: count, dtype: int64"
      ]
     },
     "execution_count": 104,
     "metadata": {},
     "output_type": "execute_result"
    }
   ],
   "source": [
    "hogar[\"disponibilidadbicicleta\"].value_counts()"
   ]
  },
  {
   "cell_type": "code",
   "execution_count": 105,
   "id": "a9caab4e-22e8-48c8-be4a-46cc76984f28",
   "metadata": {},
   "outputs": [
    {
     "data": {
      "text/plain": [
       "disponibilidadbicicleta\n",
       "No    395\n",
       "Si    123\n",
       "Name: count, dtype: int64"
      ]
     },
     "execution_count": 105,
     "metadata": {},
     "output_type": "execute_result"
    }
   ],
   "source": [
    "mapa_disponibilidadbicicleta = {\n",
    "    1: \"Si\",\n",
    "    2: \"No\"\n",
    "}\n",
    "hogar[\"disponibilidadbicicleta\"] = hogar[\"disponibilidadbicicleta\"].map(mapa_disponibilidadbicicleta)\n",
    "hogar[\"disponibilidadbicicleta\"].value_counts()"
   ]
  },
  {
   "cell_type": "code",
   "execution_count": 106,
   "id": "948df36f-136b-4e8d-a1e7-ed2b8cd7d802",
   "metadata": {},
   "outputs": [],
   "source": [
    "hogar[\"numerobicicletas\"] = hogar[\"numerobicicletas\"].astype(\"Int64\")"
   ]
  },
  {
   "cell_type": "code",
   "execution_count": 107,
   "id": "4da1f942-8348-46db-adfc-5577d67f048a",
   "metadata": {},
   "outputs": [
    {
     "data": {
      "text/plain": [
       "tramovehiculo\n",
       "1    230\n",
       "0    228\n",
       "2     51\n",
       "3      9\n",
       "Name: count, dtype: int64"
      ]
     },
     "execution_count": 107,
     "metadata": {},
     "output_type": "execute_result"
    }
   ],
   "source": [
    "hogar[\"tramovehiculo\"].value_counts()"
   ]
  },
  {
   "cell_type": "code",
   "execution_count": 108,
   "id": "9065509d-1017-4235-9043-1a57f3f65cf2",
   "metadata": {},
   "outputs": [
    {
     "data": {
      "text/plain": [
       "tramovehiculo\n",
       "1 Vehiculo           230\n",
       "No disponible        228\n",
       "2 Vehiculos           51\n",
       "3 o mas Vehiculos      9\n",
       "Name: count, dtype: int64"
      ]
     },
     "execution_count": 108,
     "metadata": {},
     "output_type": "execute_result"
    }
   ],
   "source": [
    "mapa_tramovehiculo = {\n",
    "    0: \"No disponible\",\n",
    "    1: \"1 Vehiculo\",\n",
    "    2: \"2 Vehiculos\",\n",
    "    3: \"3 o mas Vehiculos\"\n",
    "}\n",
    "hogar[\"tramovehiculo\"] = hogar[\"tramovehiculo\"].map(mapa_tramovehiculo)\n",
    "hogar[\"tramovehiculo\"].value_counts()"
   ]
  },
  {
   "cell_type": "code",
   "execution_count": 109,
   "id": "e6e4489c-721f-4dc2-af9b-33c2fb85765c",
   "metadata": {},
   "outputs": [
    {
     "data": {
      "text/plain": [
       "tramoingresohogar\n",
       "2    199\n",
       "1    175\n",
       "3    103\n",
       "9     41\n",
       "Name: count, dtype: int64"
      ]
     },
     "execution_count": 109,
     "metadata": {},
     "output_type": "execute_result"
    }
   ],
   "source": [
    "hogar[\"tramoingresohogar\"].value_counts()"
   ]
  },
  {
   "cell_type": "code",
   "execution_count": 110,
   "id": "42f69529-4c48-457d-9f88-c97222852dba",
   "metadata": {},
   "outputs": [
    {
     "data": {
      "text/plain": [
       "tramoingresohogar\n",
       "Ingreso Medio: entre $450.001 y $1.035.000    199\n",
       "Ingreso Bajo: entre 0 y $450.000              175\n",
       "Ingreso Alto: mayor a $1.035.001              103\n",
       "No informa                                     41\n",
       "Name: count, dtype: int64"
      ]
     },
     "execution_count": 110,
     "metadata": {},
     "output_type": "execute_result"
    }
   ],
   "source": [
    "mapa_tramoingresohogar = {\n",
    "    1: \"Ingreso Bajo: entre 0 y $450.000\",\n",
    "    2: \"Ingreso Medio: entre $450.001 y $1.035.000\",\n",
    "    3: \"Ingreso Alto: mayor a $1.035.001\",\n",
    "    9: \"No informa\"\n",
    "}\n",
    "hogar[\"tramoingresohogar\"] = hogar[\"tramoingresohogar\"].map(mapa_tramoingresohogar)\n",
    "hogar[\"tramoingresohogar\"].value_counts()"
   ]
  },
  {
   "cell_type": "code",
   "execution_count": 111,
   "id": "5c23cb6b-77e3-4e31-9ca0-d21a29e3b4f6",
   "metadata": {},
   "outputs": [
    {
     "data": {
      "text/plain": [
       "tipodia\n",
       "1    453\n",
       "2     65\n",
       "Name: count, dtype: int64"
      ]
     },
     "execution_count": 111,
     "metadata": {},
     "output_type": "execute_result"
    }
   ],
   "source": [
    "hogar[\"tipodia\"].value_counts()"
   ]
  },
  {
   "cell_type": "code",
   "execution_count": 112,
   "id": "df7d443c-ef47-4796-b611-d3cbe4cd75e1",
   "metadata": {},
   "outputs": [
    {
     "data": {
      "text/plain": [
       "tipodia\n",
       "laboral          453\n",
       "Fin de semana     65\n",
       "Name: count, dtype: int64"
      ]
     },
     "execution_count": 112,
     "metadata": {},
     "output_type": "execute_result"
    }
   ],
   "source": [
    "mapa_tipodia = {\n",
    "    1: \"laboral\",\n",
    "    2: \"Fin de semana\"\n",
    "}\n",
    "hogar[\"tipodia\"] = hogar[\"tipodia\"].map(mapa_tipodia)\n",
    "hogar[\"tipodia\"].value_counts()"
   ]
  },
  {
   "cell_type": "markdown",
   "id": "47f6d445-d24d-4981-99cf-234af0687c8e",
   "metadata": {},
   "source": [
    "#### 'Persona'"
   ]
  },
  {
   "cell_type": "code",
   "execution_count": 113,
   "id": "50ff8e25-663f-4237-b2a4-929777d22696",
   "metadata": {},
   "outputs": [
    {
     "data": {
      "text/plain": [
       "sexo\n",
       "2    528\n",
       "1    472\n",
       "Name: count, dtype: int64"
      ]
     },
     "execution_count": 113,
     "metadata": {},
     "output_type": "execute_result"
    }
   ],
   "source": [
    "persona[\"sexo\"].value_counts()"
   ]
  },
  {
   "cell_type": "code",
   "execution_count": 114,
   "id": "596ef2b9-13ef-4235-a384-f52977b62ed9",
   "metadata": {},
   "outputs": [
    {
     "data": {
      "text/plain": [
       "sexo\n",
       "Mujeres    528\n",
       "Hombre     472\n",
       "Name: count, dtype: int64"
      ]
     },
     "execution_count": 114,
     "metadata": {},
     "output_type": "execute_result"
    }
   ],
   "source": [
    "mapa_sexo = {\n",
    "    1: \"Hombre\",\n",
    "    2: \"Mujeres\"\n",
    "}\n",
    "persona[\"sexo\"] = persona[\"sexo\"].map(mapa_sexo)\n",
    "persona[\"sexo\"].value_counts()"
   ]
  },
  {
   "cell_type": "code",
   "execution_count": 115,
   "id": "80f80ae7-89c6-4872-a199-416e76a6eaa2",
   "metadata": {},
   "outputs": [
    {
     "data": {
      "text/plain": [
       "parentesco\n",
       "1    423\n",
       "3    260\n",
       "2    208\n",
       "4     86\n",
       "5     11\n",
       "6     11\n",
       "8      1\n",
       "Name: count, dtype: int64"
      ]
     },
     "execution_count": 115,
     "metadata": {},
     "output_type": "execute_result"
    }
   ],
   "source": [
    "persona[\"parentesco\"].value_counts()"
   ]
  },
  {
   "cell_type": "code",
   "execution_count": 116,
   "id": "88523527-89f3-4b27-b28b-5633f37fb266",
   "metadata": {},
   "outputs": [
    {
     "data": {
      "text/plain": [
       "parentesco\n",
       "Jefe(a) de hogar                         423\n",
       "Hija o Hijo                              260\n",
       "Conyuge o Pareja                         208\n",
       "Otro familiar                             86\n",
       "No familiar                               11\n",
       "Pensionista                               11\n",
       "Otro servicio, cuidador, enfermera(o)      1\n",
       "Name: count, dtype: int64"
      ]
     },
     "execution_count": 116,
     "metadata": {},
     "output_type": "execute_result"
    }
   ],
   "source": [
    "mapa_parentesco = {\n",
    "    1: \"Jefe(a) de hogar\",\n",
    "    2: \"Conyuge o Pareja\",\n",
    "    3: \"Hija o Hijo\",\n",
    "    4: \"Otro familiar\",\n",
    "    5: \"No familiar\",\n",
    "    6: \"Pensionista\",\n",
    "    7: \"Servicio Domestico\",\n",
    "    8: \"Otro servicio, cuidador, enfermera(o)\"\n",
    "}\n",
    "persona[\"parentesco\"] = persona[\"parentesco\"].map(mapa_parentesco)\n",
    "persona[\"parentesco\"].value_counts()"
   ]
  },
  {
   "cell_type": "code",
   "execution_count": 117,
   "id": "f3112381-bd5d-4c66-a385-21ae03d2d7c7",
   "metadata": {},
   "outputs": [
    {
     "data": {
      "text/plain": [
       "tenencialicenciaconducir\n",
       "6    618\n",
       "2    324\n",
       "1     51\n",
       "5      4\n",
       "4      2\n",
       "3      1\n",
       "Name: count, dtype: int64"
      ]
     },
     "execution_count": 117,
     "metadata": {},
     "output_type": "execute_result"
    }
   ],
   "source": [
    "persona[\"tenencialicenciaconducir\"].value_counts()"
   ]
  },
  {
   "cell_type": "code",
   "execution_count": 118,
   "id": "c388456d-6ba4-4dfb-9078-27a581e98484",
   "metadata": {},
   "outputs": [
    {
     "data": {
      "text/plain": [
       "tenencialicenciaconducir\n",
       "No                                         618\n",
       "Licencia no profesional B                  324\n",
       "Licencia profesional A1, A2, A3, A4, A5     51\n",
       "Licencia esoecial                            4\n",
       "Licencia no profesional D, E                 2\n",
       "Licencia no profesional C                    1\n",
       "Name: count, dtype: int64"
      ]
     },
     "execution_count": 118,
     "metadata": {},
     "output_type": "execute_result"
    }
   ],
   "source": [
    "mapa_tenencialicenciaconducir = {\n",
    "    1: \"Licencia profesional A1, A2, A3, A4, A5\",\n",
    "    2: \"Licencia no profesional B\",\n",
    "    3: \"Licencia no profesional C\",\n",
    "    4: \"Licencia no profesional D, E\",\n",
    "    5: \"Licencia esoecial\",\n",
    "    6: \"No\"\n",
    "}\n",
    "\n",
    "persona[\"tenencialicenciaconducir\"] = persona[\"tenencialicenciaconducir\"].map(mapa_tenencialicenciaconducir)\n",
    "persona[\"tenencialicenciaconducir\"].value_counts()"
   ]
  },
  {
   "cell_type": "code",
   "execution_count": 119,
   "id": "205cfbbd-2b36-40f9-b58b-d2c8a2d41505",
   "metadata": {},
   "outputs": [
    {
     "data": {
      "text/plain": [
       "tenenciatne\n",
       "2    972\n",
       "1     28\n",
       "Name: count, dtype: int64"
      ]
     },
     "execution_count": 119,
     "metadata": {},
     "output_type": "execute_result"
    }
   ],
   "source": [
    "persona[\"tenenciatne\"].value_counts()"
   ]
  },
  {
   "cell_type": "code",
   "execution_count": 120,
   "id": "ad251a1e-60a6-4ea1-babd-6eeff381bbdc",
   "metadata": {},
   "outputs": [
    {
     "data": {
      "text/plain": [
       "tenenciatne\n",
       "No    972\n",
       "Si     28\n",
       "Name: count, dtype: int64"
      ]
     },
     "execution_count": 120,
     "metadata": {},
     "output_type": "execute_result"
    }
   ],
   "source": [
    "mapa_tenenciatne = {\n",
    "    1: \"Si\",\n",
    "    2: \"No\"\n",
    "}\n",
    "\n",
    "persona[\"tenenciatne\"] = persona[\"tenenciatne\"].map(mapa_tenenciatne)\n",
    "persona[\"tenenciatne\"].value_counts()"
   ]
  },
  {
   "cell_type": "code",
   "execution_count": 121,
   "id": "fc2eae66-0c46-43ec-85d8-58cd928379e7",
   "metadata": {},
   "outputs": [
    {
     "data": {
      "text/plain": [
       "tenenciatarjetaadultomayor\n",
       "2.0    282\n",
       "1.0      2\n",
       "Name: count, dtype: int64"
      ]
     },
     "execution_count": 121,
     "metadata": {},
     "output_type": "execute_result"
    }
   ],
   "source": [
    "persona[\"tenenciatarjetaadultomayor\"].value_counts()"
   ]
  },
  {
   "cell_type": "code",
   "execution_count": 122,
   "id": "30db0c36-bbf8-4deb-928b-4f388d3a0460",
   "metadata": {},
   "outputs": [
    {
     "data": {
      "text/plain": [
       "tenenciatarjetaadultomayor\n",
       "No    282\n",
       "Si      2\n",
       "Name: count, dtype: int64"
      ]
     },
     "execution_count": 122,
     "metadata": {},
     "output_type": "execute_result"
    }
   ],
   "source": [
    "mapa_tenenciatarjetaadultomayor = {\n",
    "    1: \"Si\",\n",
    "    2: \"No\"\n",
    "}\n",
    "\n",
    "persona[\"tenenciatarjetaadultomayor\"] = persona[\"tenenciatarjetaadultomayor\"].map(mapa_tenenciatne)\n",
    "persona[\"tenenciatarjetaadultomayor\"].value_counts()"
   ]
  },
  {
   "cell_type": "code",
   "execution_count": 123,
   "id": "c136d075-7fe5-4230-bf90-693222d190f7",
   "metadata": {},
   "outputs": [
    {
     "data": {
      "text/plain": [
       "escolaridadnivel\n",
       "3    392\n",
       "2    285\n",
       "4    129\n",
       "6     99\n",
       "8     37\n",
       "1     29\n",
       "5     25\n",
       "7      4\n",
       "Name: count, dtype: int64"
      ]
     },
     "execution_count": 123,
     "metadata": {},
     "output_type": "execute_result"
    }
   ],
   "source": [
    "persona[\"escolaridadnivel\"].value_counts()"
   ]
  },
  {
   "cell_type": "code",
   "execution_count": 124,
   "id": "13df5698-c085-46f5-bbfe-4ee26290ee81",
   "metadata": {},
   "outputs": [
    {
     "data": {
      "text/plain": [
       "escolaridadnivel\n",
       "Secundarios (Media o Humanidades)    392\n",
       "Primarios (Basica o Preparatoria)    285\n",
       "Profesionales                        129\n",
       "Universitarios completos              99\n",
       "Ninguno, nunca asistio                37\n",
       "Pre-basico                            29\n",
       "Universitarios incompletos            25\n",
       "Educacion Especial/Diferencia          4\n",
       "Name: count, dtype: int64"
      ]
     },
     "execution_count": 124,
     "metadata": {},
     "output_type": "execute_result"
    }
   ],
   "source": [
    "mapa_escolaridadnivel = {\n",
    "    1: \"Pre-basico\",\n",
    "    2: \"Primarios (Basica o Preparatoria)\",\n",
    "    3: \"Secundarios (Media o Humanidades)\",\n",
    "    4: \"Profesionales\",\n",
    "    5: \"Universitarios incompletos\",\n",
    "    6: \"Universitarios completos\",\n",
    "    7: \"Educacion Especial/Diferencia\",\n",
    "    8: \"Ninguno, nunca asistio\"\n",
    "}\n",
    "\n",
    "persona[\"escolaridadnivel\"] = persona[\"escolaridadnivel\"].map(mapa_escolaridadnivel)\n",
    "persona[\"escolaridadnivel\"].value_counts()"
   ]
  },
  {
   "cell_type": "code",
   "execution_count": 125,
   "id": "4256f136-7a69-4b0b-99e3-d40637224152",
   "metadata": {},
   "outputs": [
    {
     "data": {
      "text/plain": [
       "escolaridadtitulo\n",
       "1.0    206\n",
       "2.0     47\n",
       "Name: count, dtype: int64"
      ]
     },
     "execution_count": 125,
     "metadata": {},
     "output_type": "execute_result"
    }
   ],
   "source": [
    "persona[\"escolaridadtitulo\"].value_counts()"
   ]
  },
  {
   "cell_type": "code",
   "execution_count": 126,
   "id": "1d73e1a8-43af-4c48-a5fa-9a45e1fbd110",
   "metadata": {},
   "outputs": [
    {
     "data": {
      "text/plain": [
       "escolaridadtitulo\n",
       "Si    206\n",
       "No     47\n",
       "Name: count, dtype: int64"
      ]
     },
     "execution_count": 126,
     "metadata": {},
     "output_type": "execute_result"
    }
   ],
   "source": [
    "mapa_escolaridadtitulo = {\n",
    "    1.0: \"Si\",\n",
    "    2.0: \"No\"\n",
    "}\n",
    "\n",
    "persona[\"escolaridadtitulo\"] = persona[\"escolaridadtitulo\"].map(mapa_escolaridadtitulo)\n",
    "persona[\"escolaridadtitulo\"].value_counts()"
   ]
  },
  {
   "cell_type": "code",
   "execution_count": 127,
   "id": "6f164992-75a3-45d0-be4b-436b3705dc26",
   "metadata": {},
   "outputs": [
    {
     "data": {
      "text/plain": [
       "actividadtrabaja\n",
       "0    511\n",
       "1    489\n",
       "Name: count, dtype: int64"
      ]
     },
     "execution_count": 127,
     "metadata": {},
     "output_type": "execute_result"
    }
   ],
   "source": [
    "persona[\"actividadtrabaja\"].value_counts()"
   ]
  },
  {
   "cell_type": "code",
   "execution_count": 128,
   "id": "f1f88782-3fbb-44ca-9bdc-a8ccf0b04c79",
   "metadata": {},
   "outputs": [
    {
     "data": {
      "text/plain": [
       "actividadtrabaja\n",
       "No    511\n",
       "Si    489\n",
       "Name: count, dtype: int64"
      ]
     },
     "execution_count": 128,
     "metadata": {},
     "output_type": "execute_result"
    }
   ],
   "source": [
    "mapa_actividadtrabaja = {\n",
    "    0: \"No\",\n",
    "    1: \"Si\"\n",
    "}\n",
    "\n",
    "persona[\"actividadtrabaja\"] = persona[\"actividadtrabaja\"].map(mapa_actividadtrabaja)\n",
    "persona[\"actividadtrabaja\"].value_counts()"
   ]
  },
  {
   "cell_type": "code",
   "execution_count": 129,
   "id": "a530272e-9db0-4e06-a74f-cac2a34d1811",
   "metadata": {},
   "outputs": [
    {
     "data": {
      "text/plain": [
       "actividadestudia\n",
       "No    830\n",
       "Si    170\n",
       "Name: count, dtype: int64"
      ]
     },
     "execution_count": 129,
     "metadata": {},
     "output_type": "execute_result"
    }
   ],
   "source": [
    "mapa_actividadestudia = {\n",
    "    0: \"No\",\n",
    "    1: \"Si\"\n",
    "}\n",
    "\n",
    "persona[\"actividadestudia\"] = persona[\"actividadestudia\"].map(mapa_actividadestudia)\n",
    "persona[\"actividadestudia\"].value_counts()"
   ]
  },
  {
   "cell_type": "code",
   "execution_count": 130,
   "id": "30a5cc2b-320f-4e33-9d58-d77bd1853ab1",
   "metadata": {},
   "outputs": [
    {
     "data": {
      "text/plain": [
       "actividadjubilado\n",
       "No    838\n",
       "Si    162\n",
       "Name: count, dtype: int64"
      ]
     },
     "execution_count": 130,
     "metadata": {},
     "output_type": "execute_result"
    }
   ],
   "source": [
    "mapa_actividadjubilado = {\n",
    "    0: \"No\",\n",
    "    1: \"Si\"\n",
    "}\n",
    "\n",
    "persona[\"actividadjubilado\"] = persona[\"actividadjubilado\"].map(mapa_actividadjubilado)\n",
    "persona[\"actividadjubilado\"].value_counts()"
   ]
  },
  {
   "cell_type": "code",
   "execution_count": 131,
   "id": "8c8b6dca-c1cd-45a6-811d-299fc495ad38",
   "metadata": {},
   "outputs": [
    {
     "data": {
      "text/plain": [
       "actividadduenacasa\n",
       "No    817\n",
       "Si    183\n",
       "Name: count, dtype: int64"
      ]
     },
     "execution_count": 131,
     "metadata": {},
     "output_type": "execute_result"
    }
   ],
   "source": [
    "mapa_actividadduenacasa = {\n",
    "    0: \"No\",\n",
    "    1: \"Si\"\n",
    "}\n",
    "\n",
    "persona[\"actividadduenacasa\"] = persona[\"actividadduenacasa\"].map(mapa_actividadduenacasa)\n",
    "persona[\"actividadduenacasa\"].value_counts()"
   ]
  },
  {
   "cell_type": "code",
   "execution_count": 132,
   "id": "60a6b8bb-c754-42ca-916a-354ee2763326",
   "metadata": {},
   "outputs": [
    {
     "data": {
      "text/plain": [
       "actividadbuscatrabajo1vez\n",
       "No    999\n",
       "Si      1\n",
       "Name: count, dtype: int64"
      ]
     },
     "execution_count": 132,
     "metadata": {},
     "output_type": "execute_result"
    }
   ],
   "source": [
    "mapa_actividadbuscatrabajo1vez = {\n",
    "    0: \"No\",\n",
    "    1: \"Si\"\n",
    "}\n",
    "\n",
    "persona[\"actividadbuscatrabajo1vez\"] = persona[\"actividadbuscatrabajo1vez\"].map(mapa_actividadbuscatrabajo1vez)\n",
    "persona[\"actividadbuscatrabajo1vez\"].value_counts()"
   ]
  },
  {
   "cell_type": "code",
   "execution_count": 133,
   "id": "4544cc26-fc1f-4292-8ef5-91f62a7e92f2",
   "metadata": {},
   "outputs": [
    {
     "data": {
      "text/plain": [
       "actividadcesante\n",
       "No    957\n",
       "Si     43\n",
       "Name: count, dtype: int64"
      ]
     },
     "execution_count": 133,
     "metadata": {},
     "output_type": "execute_result"
    }
   ],
   "source": [
    "mapa_actividadcesante = {\n",
    "    0: \"No\",\n",
    "    1: \"Si\"\n",
    "}\n",
    "\n",
    "persona[\"actividadcesante\"] = persona[\"actividadcesante\"].map(mapa_actividadcesante)\n",
    "persona[\"actividadcesante\"].value_counts()"
   ]
  },
  {
   "cell_type": "code",
   "execution_count": 134,
   "id": "f5bcf673-dfda-4604-8261-726ca74472c2",
   "metadata": {},
   "outputs": [
    {
     "data": {
      "text/plain": [
       "actividadotro\n",
       "No    950\n",
       "Si     50\n",
       "Name: count, dtype: int64"
      ]
     },
     "execution_count": 134,
     "metadata": {},
     "output_type": "execute_result"
    }
   ],
   "source": [
    "mapa_actividadotro = {\n",
    "    0: \"No\",\n",
    "    1: \"Si\"\n",
    "}\n",
    "\n",
    "persona[\"actividadotro\"] = persona[\"actividadotro\"].map(mapa_actividadotro)\n",
    "persona[\"actividadotro\"].value_counts()"
   ]
  },
  {
   "cell_type": "code",
   "execution_count": 135,
   "id": "39e2c1f5-ce86-48b8-8356-8ac2d134eae1",
   "metadata": {},
   "outputs": [
    {
     "data": {
      "text/plain": [
       "ocupacionprincipal\n",
       "5.0    196\n",
       "2.0    151\n",
       "3.0     91\n",
       "4.0     19\n",
       "1.0     15\n",
       "7.0      8\n",
       "6.0      3\n",
       "8.0      3\n",
       "9.0      3\n",
       "Name: count, dtype: int64"
      ]
     },
     "execution_count": 135,
     "metadata": {},
     "output_type": "execute_result"
    }
   ],
   "source": [
    "persona[\"ocupacionprincipal\"].value_counts()"
   ]
  },
  {
   "cell_type": "code",
   "execution_count": 136,
   "id": "687307a8-6c77-433a-adf2-5e5cb66cb298",
   "metadata": {},
   "outputs": [
    {
     "data": {
      "text/plain": [
       "ocupacionprincipal\n",
       "[Empleado u obrero del sector privado]    196\n",
       "[Trabajador por cuenta propia]            151\n",
       "[Empleado u obrero del sector publico]     91\n",
       "[Empleado u obrero de empresa privada]     19\n",
       "[Patron o empleador]                       15\n",
       "[Servicio domestico puertas afuera]         8\n",
       "[Servicio domestico puertas adentro]        3\n",
       "[Familiar no remunerado]                    3\n",
       "[FF.AA y de Orden]                          3\n",
       "Name: count, dtype: int64"
      ]
     },
     "execution_count": 136,
     "metadata": {},
     "output_type": "execute_result"
    }
   ],
   "source": [
    "mapa_ocupacionprincipal = {\n",
    "    1.0: [\"Patron o empleador\"],\n",
    "    2.0: [\"Trabajador por cuenta propia\"],\n",
    "    3.0: [\"Empleado u obrero del sector publico\"],\n",
    "    4.0: [\"Empleado u obrero de empresa privada\"],\n",
    "    5.0: [\"Empleado u obrero del sector privado\"],\n",
    "    6.0: [\"Servicio domestico puertas adentro\"],\n",
    "    7.0: [\"Servicio domestico puertas afuera\"],\n",
    "    8.0: [\"Familiar no remunerado\"],\n",
    "    9.0: [\"FF.AA y de Orden\"]\n",
    "    \n",
    "}\n",
    "persona[\"ocupacionprincipal\"] = persona[\"ocupacionprincipal\"].map(mapa_ocupacionprincipal)\n",
    "persona[\"ocupacionprincipal\"].value_counts()"
   ]
  },
  {
   "cell_type": "code",
   "execution_count": 137,
   "id": "81d8ff26-c6b5-4a58-b3a5-583511590479",
   "metadata": {},
   "outputs": [
    {
     "data": {
      "text/plain": [
       "actividadeconomica\n",
       "5.0    149\n",
       "2.0     95\n",
       "1.0     63\n",
       "4.0     57\n",
       "8.0     43\n",
       "7.0     39\n",
       "3.0     35\n",
       "6.0      8\n",
       "Name: count, dtype: int64"
      ]
     },
     "execution_count": 137,
     "metadata": {},
     "output_type": "execute_result"
    }
   ],
   "source": [
    "persona[\"actividadeconomica\"].value_counts()"
   ]
  },
  {
   "cell_type": "code",
   "execution_count": 138,
   "id": "bb4cbd52-4c1f-4ad0-81da-8eceb816075a",
   "metadata": {},
   "outputs": [
    {
     "data": {
      "text/plain": [
       "actividadeconomica\n",
       "Servicio                                                    149\n",
       "Comercio                                                     95\n",
       "Industria                                                    63\n",
       "Educacion                                                    57\n",
       "Otro                                                         43\n",
       "Sector Publico                                               39\n",
       "Salud                                                        35\n",
       "Habitacional (Servicio domestico, enfermera a domicilio)      8\n",
       "Name: count, dtype: int64"
      ]
     },
     "execution_count": 138,
     "metadata": {},
     "output_type": "execute_result"
    }
   ],
   "source": [
    "mapa_actividadeconomica  = {\n",
    "    1: \"Industria\",\n",
    "    2: \"Comercio\",\n",
    "    3: \"Salud\",\n",
    "    4: \"Educacion\",\n",
    "    5: \"Servicio\",\n",
    "    6: \"Habitacional (Servicio domestico, enfermera a domicilio)\",\n",
    "    7: \"Sector Publico\",\n",
    "    8: \"Otro\"\n",
    "}\n",
    "\n",
    "persona[\"actividadeconomica\"] = persona[\"actividadeconomica\"].map(mapa_actividadeconomica)\n",
    "persona[\"actividadeconomica\"].value_counts()"
   ]
  },
  {
   "cell_type": "code",
   "execution_count": 139,
   "id": "075237a6-1156-409e-96df-47e0e8acd189",
   "metadata": {},
   "outputs": [
    {
     "data": {
      "text/plain": [
       "jornadatrabajo\n",
       "1.0    338\n",
       "2.0     79\n",
       "4.0     72\n",
       "Name: count, dtype: int64"
      ]
     },
     "execution_count": 139,
     "metadata": {},
     "output_type": "execute_result"
    }
   ],
   "source": [
    "persona[\"jornadatrabajo\"].value_counts()"
   ]
  },
  {
   "cell_type": "code",
   "execution_count": 140,
   "id": "71fb06a9-ece0-4e94-93fc-b693809dd882",
   "metadata": {},
   "outputs": [
    {
     "data": {
      "text/plain": [
       "jornadatrabajo\n",
       "Jornada completa (40 hrs o mas semanales)     338\n",
       "Jornada parcial (menos de 40hrs semanales)     79\n",
       "Ocasional                                      72\n",
       "Name: count, dtype: int64"
      ]
     },
     "execution_count": 140,
     "metadata": {},
     "output_type": "execute_result"
    }
   ],
   "source": [
    "mapa_jornadatrabajo = {\n",
    "    1: \"Jornada completa (40 hrs o mas semanales)\",\n",
    "    2: \"Jornada parcial (menos de 40hrs semanales)\",\n",
    "    3: \"Solo fines de semana\",\n",
    "    4: \"Ocasional\"\n",
    "}\n",
    "persona[\"jornadatrabajo\"] = persona[\"jornadatrabajo\"].map(mapa_jornadatrabajo)\n",
    "persona[\"jornadatrabajo\"].value_counts()"
   ]
  },
  {
   "cell_type": "code",
   "execution_count": 141,
   "id": "a2a639dd-19b5-4a60-9cf5-89cf306b8811",
   "metadata": {},
   "outputs": [
    {
     "data": {
      "text/plain": [
       "dondeestudia\n",
       "4.0    141\n",
       "2.0     10\n",
       "8.0      5\n",
       "3.0      4\n",
       "7.0      4\n",
       "6.0      3\n",
       "9.0      2\n",
       "5.0      1\n",
       "Name: count, dtype: int64"
      ]
     },
     "execution_count": 141,
     "metadata": {},
     "output_type": "execute_result"
    }
   ],
   "source": [
    "persona[\"dondeestudia\"].value_counts()"
   ]
  },
  {
   "cell_type": "code",
   "execution_count": 142,
   "id": "ea81d10a-7b1b-4e49-a68f-14eecee82256",
   "metadata": {},
   "outputs": [
    {
     "data": {
      "text/plain": [
       "dondeestudia\n",
       "Escuela, liceo, colegio          141\n",
       "Jardin infantil                   10\n",
       "Universidad                        5\n",
       "Prekinder o kinder                 4\n",
       "Instituto tecnico profesional      4\n",
       "Centro de formacion tecnica        3\n",
       "Otro                               2\n",
       "Solo preuniversitario              1\n",
       "Name: count, dtype: int64"
      ]
     },
     "execution_count": 142,
     "metadata": {},
     "output_type": "execute_result"
    }
   ],
   "source": [
    "mapa_dondeestudia = {\n",
    "    1: \"Sala cuna\",\n",
    "    2: \"Jardin infantil\",\n",
    "    3: \"Prekinder o kinder\",\n",
    "    4: \"Escuela, liceo, colegio\", \n",
    "    5: \"Solo preuniversitario\",\n",
    "    6: \"Centro de formacion tecnica\",\n",
    "    7: \"Instituto tecnico profesional\",\n",
    "    8: \"Universidad\",\n",
    "    9: \"Otro\"\n",
    "}\n",
    "\n",
    "persona[\"dondeestudia\"] = persona[\"dondeestudia\"].map(mapa_dondeestudia)\n",
    "persona[\"dondeestudia\"].value_counts()"
   ]
  },
  {
   "cell_type": "code",
   "execution_count": 143,
   "id": "df24f7fe-0f7c-4a5e-a4a5-0c15cd733557",
   "metadata": {},
   "outputs": [
    {
     "data": {
      "text/plain": [
       "realizoviaje\n",
       "1    674\n",
       "2    326\n",
       "Name: count, dtype: int64"
      ]
     },
     "execution_count": 143,
     "metadata": {},
     "output_type": "execute_result"
    }
   ],
   "source": [
    "persona[\"realizoviaje\"].value_counts()"
   ]
  },
  {
   "cell_type": "code",
   "execution_count": 144,
   "id": "b789f8a3-88b6-46d0-80e9-8d5b2cd97a44",
   "metadata": {},
   "outputs": [
    {
     "data": {
      "text/plain": [
       "realizoviaje\n",
       "Si    674\n",
       "No    326\n",
       "Name: count, dtype: int64"
      ]
     },
     "execution_count": 144,
     "metadata": {},
     "output_type": "execute_result"
    }
   ],
   "source": [
    "mapa_realizoviaje = {\n",
    "    1: \"Si\",\n",
    "    2: \"No\"\n",
    "}\n",
    "persona[\"realizoviaje\"] = persona[\"realizoviaje\"].map(mapa_realizoviaje)\n",
    "persona[\"realizoviaje\"].value_counts()"
   ]
  },
  {
   "cell_type": "code",
   "execution_count": 145,
   "id": "66f5a9c5-8a92-42f0-a13f-08174152e0e7",
   "metadata": {},
   "outputs": [
    {
     "data": {
      "text/plain": [
       "lugardiaregistroviaje\n",
       "1.0    297\n",
       "2.0     29\n",
       "Name: count, dtype: int64"
      ]
     },
     "execution_count": 145,
     "metadata": {},
     "output_type": "execute_result"
    }
   ],
   "source": [
    "persona[\"lugardiaregistroviaje\"].value_counts()"
   ]
  },
  {
   "cell_type": "code",
   "execution_count": 146,
   "id": "9285b34e-922a-4ef5-9ebb-074bf4a06ca0",
   "metadata": {},
   "outputs": [
    {
     "data": {
      "text/plain": [
       "lugardiaregistroviaje\n",
       "En la direccion donde se realiza la encuesta    297\n",
       "En otra direccion                                29\n",
       "Name: count, dtype: int64"
      ]
     },
     "execution_count": 146,
     "metadata": {},
     "output_type": "execute_result"
    }
   ],
   "source": [
    "mapa_lugardiaregistroviaje = {\n",
    "    1: \"En la direccion donde se realiza la encuesta\",\n",
    "    2: \"En otra direccion\"\n",
    "}\n",
    "persona[\"lugardiaregistroviaje\"] = persona[\"lugardiaregistroviaje\"].map(mapa_lugardiaregistroviaje)\n",
    "persona[\"lugardiaregistroviaje\"].value_counts()"
   ]
  },
  {
   "cell_type": "code",
   "execution_count": 147,
   "id": "87ed5c5f-626c-4428-805f-76a9031cdb07",
   "metadata": {},
   "outputs": [
    {
     "data": {
      "text/plain": [
       "motivonoviaje\n",
       "4.0    100\n",
       "3.0     75\n",
       "5.0     57\n",
       "1.0     57\n",
       "6.0     30\n",
       "2.0      7\n",
       "Name: count, dtype: int64"
      ]
     },
     "execution_count": 147,
     "metadata": {},
     "output_type": "execute_result"
    }
   ],
   "source": [
    "persona[\"motivonoviaje\"].value_counts()"
   ]
  },
  {
   "cell_type": "code",
   "execution_count": 148,
   "id": "d417d957-1e63-4f4d-90c9-07715d1038f2",
   "metadata": {},
   "outputs": [
    {
     "data": {
      "text/plain": [
       "motivonoviaje\n",
       "Por descanso             100\n",
       "Por trabajo domestico     75\n",
       "Por enfermedad            57\n",
       "Por trabajo               57\n",
       "Por otro motivo           30\n",
       "Por estudio                7\n",
       "Name: count, dtype: int64"
      ]
     },
     "execution_count": 148,
     "metadata": {},
     "output_type": "execute_result"
    }
   ],
   "source": [
    "mapa_motivonoviaje = {\n",
    "    1: \"Por trabajo\",\n",
    "    2: \"Por estudio\",\n",
    "    3: \"Por trabajo domestico\",\n",
    "    4: \"Por descanso\",\n",
    "    5: \"Por enfermedad\",\n",
    "    6: \"Por otro motivo\"\n",
    "}\n",
    "persona[\"motivonoviaje\"] = persona[\"motivonoviaje\"].map(mapa_motivonoviaje)\n",
    "persona[\"motivonoviaje\"].value_counts()"
   ]
  },
  {
   "cell_type": "code",
   "execution_count": 149,
   "id": "7330ef3c-f647-4cc9-967b-8fff5b088835",
   "metadata": {},
   "outputs": [
    {
     "data": {
      "text/plain": [
       "lugarcomienzodia\n",
       "1.0    668\n",
       "2.0      6\n",
       "Name: count, dtype: int64"
      ]
     },
     "execution_count": 149,
     "metadata": {},
     "output_type": "execute_result"
    }
   ],
   "source": [
    "persona[\"lugarcomienzodia\"].value_counts()"
   ]
  },
  {
   "cell_type": "code",
   "execution_count": 150,
   "id": "011f48a4-c648-4470-a917-d63d8c14ba64",
   "metadata": {},
   "outputs": [
    {
     "data": {
      "text/plain": [
       "lugarcomienzodia\n",
       "En la direccion donde se realiza la encuesta    668\n",
       "En otra direccion                                 6\n",
       "Name: count, dtype: int64"
      ]
     },
     "execution_count": 150,
     "metadata": {},
     "output_type": "execute_result"
    }
   ],
   "source": [
    "mapa_lugarcomienzodia = {\n",
    "    1: \"En la direccion donde se realiza la encuesta\",\n",
    "    2: \"En otra direccion\"\n",
    "}\n",
    "persona[\"lugarcomienzodia\"] = persona[\"lugarcomienzodia\"].map(mapa_lugarcomienzodia)\n",
    "persona[\"lugarcomienzodia\"].value_counts()"
   ]
  },
  {
   "cell_type": "code",
   "execution_count": 151,
   "id": "b84c4581-f8b2-4485-b145-95fabf5af266",
   "metadata": {},
   "outputs": [],
   "source": [
    "persona[\"numeroviajes\"] = persona[\"numeroviajes\"].astype(\"Int64\")"
   ]
  },
  {
   "cell_type": "code",
   "execution_count": 152,
   "id": "37119aca-9c34-474e-b898-2ee8588a1200",
   "metadata": {},
   "outputs": [],
   "source": [
    "persona[\"numeroetapas\"] = persona[\"numeroetapas\"].astype(\"Int64\")"
   ]
  },
  {
   "cell_type": "code",
   "execution_count": 153,
   "id": "56ba7bc9-22ef-4b86-aae6-0e0bd38c03ad",
   "metadata": {},
   "outputs": [
    {
     "data": {
      "text/plain": [
       "freqcaminata\n",
       "1    433\n",
       "2    354\n",
       "3    112\n",
       "5     97\n",
       "4      4\n",
       "Name: count, dtype: int64"
      ]
     },
     "execution_count": 153,
     "metadata": {},
     "output_type": "execute_result"
    }
   ],
   "source": [
    "persona[\"freqcaminata\"].value_counts()"
   ]
  },
  {
   "cell_type": "code",
   "execution_count": 154,
   "id": "9247b79b-0ddd-4400-b898-ce151ebd8d34",
   "metadata": {},
   "outputs": [
    {
     "data": {
      "text/plain": [
       "freqprivado\n",
       "1    414\n",
       "2    242\n",
       "5    226\n",
       "3    103\n",
       "4     15\n",
       "Name: count, dtype: int64"
      ]
     },
     "execution_count": 154,
     "metadata": {},
     "output_type": "execute_result"
    }
   ],
   "source": [
    "persona[\"freqprivado\"].value_counts()"
   ]
  },
  {
   "cell_type": "code",
   "execution_count": 155,
   "id": "de775cdb-4465-4b8c-a217-9464fdc80581",
   "metadata": {},
   "outputs": [
    {
     "data": {
      "text/plain": [
       "freqbus\n",
       "5    786\n",
       "3    121\n",
       "4     44\n",
       "2     43\n",
       "1      6\n",
       "Name: count, dtype: int64"
      ]
     },
     "execution_count": 155,
     "metadata": {},
     "output_type": "execute_result"
    }
   ],
   "source": [
    "persona[\"freqbus\"].value_counts()"
   ]
  },
  {
   "cell_type": "code",
   "execution_count": 156,
   "id": "607c0501-b476-4cd7-a2c3-24b2b6f35780",
   "metadata": {},
   "outputs": [
    {
     "data": {
      "text/plain": [
       "freqcolectivo\n",
       "5    501\n",
       "3    221\n",
       "2    167\n",
       "1     73\n",
       "4     38\n",
       "Name: count, dtype: int64"
      ]
     },
     "execution_count": 156,
     "metadata": {},
     "output_type": "execute_result"
    }
   ],
   "source": [
    "persona[\"freqcolectivo\"].value_counts()"
   ]
  },
  {
   "cell_type": "code",
   "execution_count": 157,
   "id": "d989b495-bfb3-4ab2-8b08-1e344dcbbacf",
   "metadata": {},
   "outputs": [
    {
     "data": {
      "text/plain": [
       "freqbicicleta\n",
       "5    782\n",
       "3     78\n",
       "4     62\n",
       "2     41\n",
       "1     37\n",
       "Name: count, dtype: int64"
      ]
     },
     "execution_count": 157,
     "metadata": {},
     "output_type": "execute_result"
    }
   ],
   "source": [
    "persona[\"freqbicicleta\"].value_counts()"
   ]
  },
  {
   "cell_type": "code",
   "execution_count": 158,
   "id": "a01834d4-b2a9-4c32-824e-0b0ab18c61ac",
   "metadata": {},
   "outputs": [
    {
     "data": {
      "text/plain": [
       "freqavion\n",
       "5    629\n",
       "4    361\n",
       "3      6\n",
       "1      4\n",
       "Name: count, dtype: int64"
      ]
     },
     "execution_count": 158,
     "metadata": {},
     "output_type": "execute_result"
    }
   ],
   "source": [
    "persona[\"freqavion\"].value_counts()"
   ]
  },
  {
   "cell_type": "code",
   "execution_count": 159,
   "id": "8cdd74c5-5170-4cf9-90ae-21f7be5cc8c7",
   "metadata": {},
   "outputs": [],
   "source": [
    "mapa_frecuencia = {\n",
    "    1: \"Diario\",\n",
    "    2: \"Semanal\",\n",
    "    3: \"Mensual\",\n",
    "    4: \"Anual\",\n",
    "    5: \"Nunca\"\n",
    "}\n",
    "cols_frecuencia = [\n",
    "    \"freqcaminata\", \"freqprivado\", \"freqbus\",\n",
    "    \"freqcolectivo\", \"freqbicicleta\", \"freqavion\"\n",
    "]\n",
    "for col in cols_frecuencia:\n",
    "    persona[col] = persona[col].map(mapa_frecuencia)"
   ]
  },
  {
   "cell_type": "code",
   "execution_count": 160,
   "id": "98694030-04b9-459b-b23a-14d12e2d3322",
   "metadata": {},
   "outputs": [
    {
     "data": {
      "text/plain": [
       "comprascomuna\n",
       "1    996\n",
       "2      4\n",
       "Name: count, dtype: int64"
      ]
     },
     "execution_count": 160,
     "metadata": {},
     "output_type": "execute_result"
    }
   ],
   "source": [
    "persona[\"comprascomuna\"].value_counts() #Realiza sus compras en su comuna"
   ]
  },
  {
   "cell_type": "code",
   "execution_count": 161,
   "id": "26b846dd-142e-4cc4-9cf8-1a1b21b2a652",
   "metadata": {},
   "outputs": [
    {
     "data": {
      "text/plain": [
       "comprascomuna\n",
       "Si    996\n",
       "No      4\n",
       "Name: count, dtype: int64"
      ]
     },
     "execution_count": 161,
     "metadata": {},
     "output_type": "execute_result"
    }
   ],
   "source": [
    "mapa_comprascomuna = {\n",
    "    1: \"Si\",\n",
    "    2: \"No\"\n",
    "}\n",
    "persona[\"comprascomuna\"] = persona[\"comprascomuna\"].map(mapa_comprascomuna)\n",
    "persona[\"comprascomuna\"].value_counts()"
   ]
  },
  {
   "cell_type": "code",
   "execution_count": 162,
   "id": "519f338a-6d55-4c56-b7ed-f1cca785db19",
   "metadata": {},
   "outputs": [
    {
     "data": {
      "text/plain": [
       "saludcomuna\n",
       "1    978\n",
       "2     22\n",
       "Name: count, dtype: int64"
      ]
     },
     "execution_count": 162,
     "metadata": {},
     "output_type": "execute_result"
    }
   ],
   "source": [
    "persona[\"saludcomuna\"].value_counts() #asiste a centros de salud de su comuna"
   ]
  },
  {
   "cell_type": "code",
   "execution_count": 163,
   "id": "95799300-8b1e-417a-88d0-a4b2c982ed18",
   "metadata": {},
   "outputs": [
    {
     "data": {
      "text/plain": [
       "saludcomuna\n",
       "Si    978\n",
       "No     22\n",
       "Name: count, dtype: int64"
      ]
     },
     "execution_count": 163,
     "metadata": {},
     "output_type": "execute_result"
    }
   ],
   "source": [
    "mapa_saludcomuna = {\n",
    "    1: \"Si\",\n",
    "    2: \"No\"\n",
    "}\n",
    "persona[\"saludcomuna\"] = persona[\"saludcomuna\"].map(mapa_saludcomuna)\n",
    "persona[\"saludcomuna\"].value_counts()"
   ]
  },
  {
   "cell_type": "code",
   "execution_count": 164,
   "id": "12bb2e80-909d-4172-825d-ce7cdbff1700",
   "metadata": {},
   "outputs": [
    {
     "data": {
      "text/plain": [
       "usotic\n",
       "2    572\n",
       "1    428\n",
       "Name: count, dtype: int64"
      ]
     },
     "execution_count": 164,
     "metadata": {},
     "output_type": "execute_result"
    }
   ],
   "source": [
    "persona[\"usotic\"].value_counts() #Usa aplicaciones de viaje (ej:Waze)"
   ]
  },
  {
   "cell_type": "code",
   "execution_count": 165,
   "id": "c97ec969-5167-4a12-b9db-dbb2349f8d66",
   "metadata": {},
   "outputs": [
    {
     "data": {
      "text/plain": [
       "usotic\n",
       "No    572\n",
       "Si    428\n",
       "Name: count, dtype: int64"
      ]
     },
     "execution_count": 165,
     "metadata": {},
     "output_type": "execute_result"
    }
   ],
   "source": [
    "mapa_usotic = {\n",
    "    1: \"Si\",\n",
    "    2: \"No\"\n",
    "}\n",
    "persona[\"usotic\"] = persona[\"usotic\"].map(mapa_usotic)\n",
    "persona[\"usotic\"].value_counts()"
   ]
  },
  {
   "cell_type": "code",
   "execution_count": 166,
   "id": "bd65ccb6-9146-46f9-b7d3-4d1a5b0a9c09",
   "metadata": {},
   "outputs": [
    {
     "data": {
      "text/plain": [
       "usotranspub\n",
       "2    663\n",
       "1    337\n",
       "Name: count, dtype: int64"
      ]
     },
     "execution_count": 166,
     "metadata": {},
     "output_type": "execute_result"
    }
   ],
   "source": [
    "persona[\"usotranspub\"].value_counts()"
   ]
  },
  {
   "cell_type": "code",
   "execution_count": 167,
   "id": "7e730117-6ca5-4608-bc60-ddf3c4bff2d8",
   "metadata": {},
   "outputs": [
    {
     "data": {
      "text/plain": [
       "usotranspub\n",
       "No    663\n",
       "Si    337\n",
       "Name: count, dtype: int64"
      ]
     },
     "execution_count": 167,
     "metadata": {},
     "output_type": "execute_result"
    }
   ],
   "source": [
    "mapa_usotranspub = {\n",
    "    1: \"Si\",\n",
    "    2: \"No\"\n",
    "}\n",
    "persona[\"usotranspub\"] = persona[\"usotranspub\"].map(mapa_usotranspub)\n",
    "persona[\"usotranspub\"].value_counts()"
   ]
  },
  {
   "cell_type": "code",
   "execution_count": 168,
   "id": "2867934d-68b3-4cce-8232-18066b789709",
   "metadata": {},
   "outputs": [
    {
     "data": {
      "text/plain": [
       "percepcioningresos\n",
       "1    653\n",
       "2    273\n",
       "3     74\n",
       "Name: count, dtype: int64"
      ]
     },
     "execution_count": 168,
     "metadata": {},
     "output_type": "execute_result"
    }
   ],
   "source": [
    "persona[\"percepcioningresos\"].value_counts()"
   ]
  },
  {
   "cell_type": "code",
   "execution_count": 169,
   "id": "ebfcb531-4e24-4d88-bbce-1fe31133eb77",
   "metadata": {},
   "outputs": [
    {
     "data": {
      "text/plain": [
       "percepcioningresos\n",
       "Si, tiene ingresos    653\n",
       "No tiene ingresos     273\n",
       "No responde            74\n",
       "Name: count, dtype: int64"
      ]
     },
     "execution_count": 169,
     "metadata": {},
     "output_type": "execute_result"
    }
   ],
   "source": [
    "mapa_percepcioningresos = {\n",
    "    1: \"Si, tiene ingresos\", \n",
    "    2: \"No tiene ingresos\",\n",
    "    3: \"No responde\"\n",
    "}\n",
    "persona[\"percepcioningresos\"] = persona[\"percepcioningresos\"].map(mapa_percepcioningresos)\n",
    "persona[\"percepcioningresos\"].value_counts()"
   ]
  },
  {
   "cell_type": "code",
   "execution_count": 170,
   "id": "2b90251a-749e-40eb-8476-3c97c1bec207",
   "metadata": {},
   "outputs": [
    {
     "data": {
      "text/plain": [
       "tramoingresopersonal\n",
       "11.0    130\n",
       "1.0     116\n",
       "3.0     109\n",
       "4.0      91\n",
       "2.0      68\n",
       "5.0      52\n",
       "6.0      43\n",
       "8.0      41\n",
       "7.0      27\n",
       "9.0       8\n",
       "10.0      2\n",
       "Name: count, dtype: int64"
      ]
     },
     "execution_count": 170,
     "metadata": {},
     "output_type": "execute_result"
    }
   ],
   "source": [
    "persona[\"tramoingresopersonal\"].value_counts()"
   ]
  },
  {
   "cell_type": "code",
   "execution_count": 171,
   "id": "a0678dfd-d3e1-4be5-a44b-96c64a39a57e",
   "metadata": {},
   "outputs": [
    {
     "data": {
      "text/plain": [
       "tramoingresopersonal\n",
       "No responde                      130\n",
       "Menos de $245.000                116\n",
       "Entre $395.001 y $560.000        109\n",
       "Entre $560.001 y $703.000         91\n",
       "Entre $245.001 y $395.000         68\n",
       "Entre $703.001 y $821.000         52\n",
       "Entre $821.001 y 1.035.000        43\n",
       "Entre $1.275.001 y $1.726.000     41\n",
       "Entre $1.035.001 y $1.275.000     27\n",
       "Entre $1.726.001 y $2.330.000      8\n",
       "Mas de $2.330.000                  2\n",
       "Name: count, dtype: int64"
      ]
     },
     "execution_count": 171,
     "metadata": {},
     "output_type": "execute_result"
    }
   ],
   "source": [
    "mapa_tramoingresopersonal = {\n",
    "    1: \"Menos de $245.000\",\n",
    "    2: \"Entre $245.001 y $395.000\",\n",
    "    3: \"Entre $395.001 y $560.000\",\n",
    "    4: \"Entre $560.001 y $703.000\",\n",
    "    5: \"Entre $703.001 y $821.000\",\n",
    "    6: \"Entre $821.001 y 1.035.000\",\n",
    "    7: \"Entre $1.035.001 y $1.275.000\",\n",
    "    8: \"Entre $1.275.001 y $1.726.000\",\n",
    "    9: \"Entre $1.726.001 y $2.330.000\",\n",
    "    10: \"Mas de $2.330.000\",\n",
    "    11: \"No responde\",\n",
    "    12: \"Sin ingresos\"\n",
    "}\n",
    "persona[\"tramoingresopersonal\"] = persona[\"tramoingresopersonal\"].map(mapa_tramoingresopersonal)\n",
    "persona[\"tramoingresopersonal\"].value_counts()"
   ]
  },
  {
   "cell_type": "code",
   "execution_count": 172,
   "id": "519de48a-55c4-4aa5-9eb2-1d8f093ce5a1",
   "metadata": {},
   "outputs": [
    {
     "data": {
      "text/plain": [
       "conocimientocampana\n",
       "2    752\n",
       "1    248\n",
       "Name: count, dtype: int64"
      ]
     },
     "execution_count": 172,
     "metadata": {},
     "output_type": "execute_result"
    }
   ],
   "source": [
    "persona[\"conocimientocampana\"].value_counts()"
   ]
  },
  {
   "cell_type": "code",
   "execution_count": 173,
   "id": "9e5e100f-288d-432d-9b54-41dc6ce706b9",
   "metadata": {},
   "outputs": [
    {
     "data": {
      "text/plain": [
       "conocimientocampana\n",
       "No    752\n",
       "Si    248\n",
       "Name: count, dtype: int64"
      ]
     },
     "execution_count": 173,
     "metadata": {},
     "output_type": "execute_result"
    }
   ],
   "source": [
    "mapa_conocimientocampana = {\n",
    "    1: \"Si\",\n",
    "    2: \"No\"\n",
    "}\n",
    "persona[\"conocimientocampana\"] = persona[\"conocimientocampana\"].map(mapa_conocimientocampana)\n",
    "persona[\"conocimientocampana\"].value_counts()"
   ]
  },
  {
   "cell_type": "code",
   "execution_count": 174,
   "id": "1be4d046-8ec3-4b90-983d-7180207fd205",
   "metadata": {},
   "outputs": [],
   "source": [
    "mapa_campana = {\n",
    "    0: \"No\",\n",
    "    1: \"Si\" \n",
    "}\n",
    "cols_campana = [\n",
    "    \"campanadiario\", \"campanaradio\", \"campanatelevision\",\n",
    "    \"campanaafiche\", \"campanapasacalle\", \"campanapersonas\"\n",
    "]\n",
    "for col in cols_campana:\n",
    "    persona[col] = persona[col].map(mapa_campana)"
   ]
  },
  {
   "cell_type": "code",
   "execution_count": 175,
   "id": "34f78810-0a09-43d0-97b7-185affacbbc3",
   "metadata": {},
   "outputs": [
    {
     "data": {
      "text/plain": [
       "tramoedad\n",
       "5    508\n",
       "6    210\n",
       "4    105\n",
       "2     88\n",
       "3     52\n",
       "1     36\n",
       "0      1\n",
       "Name: count, dtype: int64"
      ]
     },
     "execution_count": 175,
     "metadata": {},
     "output_type": "execute_result"
    }
   ],
   "source": [
    "persona[\"tramoedad\"].value_counts()"
   ]
  },
  {
   "cell_type": "code",
   "execution_count": 176,
   "id": "7ebceccb-99a5-40a7-89a1-c3ed5869f57e",
   "metadata": {},
   "outputs": [
    {
     "data": {
      "text/plain": [
       "tramoedad\n",
       "De 30 a 64 años    508\n",
       "Mas de 65 años     210\n",
       "De 19 a 29 años    105\n",
       "De 5 a 13 años      88\n",
       "De 14 a 18 años     52\n",
       "Hasta 4 años        36\n",
       "Name: count, dtype: int64"
      ]
     },
     "execution_count": 176,
     "metadata": {},
     "output_type": "execute_result"
    }
   ],
   "source": [
    "mapa_tramoedad = {\n",
    "    1: \"Hasta 4 años\",\n",
    "    2: \"De 5 a 13 años\",\n",
    "    3: \"De 14 a 18 años\",\n",
    "    4: \"De 19 a 29 años\",\n",
    "    5: \"De 30 a 64 años\",\n",
    "    6: \"Mas de 65 años\"\n",
    "}\n",
    "persona[\"tramoedad\"] = persona[\"tramoedad\"].map(mapa_tramoedad)\n",
    "persona[\"tramoedad\"].value_counts()"
   ]
  },
  {
   "cell_type": "markdown",
   "id": "e00560f4-cfb2-4a5c-8fab-86aba743853d",
   "metadata": {
    "jp-MarkdownHeadingCollapsed": true
   },
   "source": [
    "#### 'Viaje'"
   ]
  },
  {
   "cell_type": "code",
   "execution_count": 177,
   "id": "84b3d82f-c405-433b-9cd5-37ee3bb649b5",
   "metadata": {},
   "outputs": [
    {
     "data": {
      "text/plain": [
       "proposito\n",
       "7     475\n",
       "1     203\n",
       "8      98\n",
       "3      75\n",
       "11     64\n",
       "13     28\n",
       "5      16\n",
       "12     14\n",
       "14      8\n",
       "6       8\n",
       "2       5\n",
       "10      4\n",
       "9       2\n",
       "Name: count, dtype: int64"
      ]
     },
     "execution_count": 177,
     "metadata": {},
     "output_type": "execute_result"
    }
   ],
   "source": [
    "viaje[\"proposito\"].value_counts()"
   ]
  },
  {
   "cell_type": "code",
   "execution_count": 178,
   "id": "e5725210-a6b9-4057-9220-25ce8677819d",
   "metadata": {},
   "outputs": [
    {
     "name": "stdout",
     "output_type": "stream",
     "text": [
      "proposito\n",
      "Volver a casa               475\n",
      "Trabajo                     208\n",
      "Buscar o dejar a alguien     98\n",
      "Estudio                      75\n",
      "De compras                   64\n",
      "Recreacion                   28\n",
      "De salud                     16\n",
      "Tramites                     14\n",
      "Otra                          8\n",
      "Visitar a alguien             8\n",
      "Buscar o dejar a algo         4\n",
      "Comer o tomar algo            2\n",
      "Name: count, dtype: int64\n",
      "propositovc\n",
      "Trabajo                     194\n",
      "Buscar o dejar a alguien     84\n",
      "Estudio                      71\n",
      "De compras                   58\n",
      "Recreacion                   27\n",
      "De salud                     14\n",
      "Otra                          9\n",
      "Tramites                      9\n",
      "Visitar a alguien             6\n",
      "Buscar o dejar a algo         2\n",
      "Comer o tomar algo            1\n",
      "Name: count, dtype: int64\n"
     ]
    }
   ],
   "source": [
    "mapa_proposito = {\n",
    "    1: \"Trabajo\",  #en los datos originales los valores, 1 y 3 eran Al trabajo y al estudio, y los valores 2 y 4 por trabajo y por estudio\n",
    "    2: \"Trabajo\",\n",
    "    3: \"Estudio\",\n",
    "    4: \"Estudio\",\n",
    "    5: \"De salud\",\n",
    "    6: \"Visitar a alguien\",\n",
    "    7: \"Volver a casa\",\n",
    "    8: \"Buscar o dejar a alguien\",\n",
    "    9: \"Comer o tomar algo\",\n",
    "    10: \"Buscar o dejar a algo\",\n",
    "    11: \"De compras\",\n",
    "    12: \"Tramites\",\n",
    "    13: \"Recreacion\",\n",
    "    14: \"Otra\"\n",
    "}\n",
    "\n",
    "cols_proposito = [\n",
    "    \"proposito\", \"propositovc\"\n",
    "]\n",
    "for col in cols_proposito:\n",
    "    viaje[col] = viaje[col].map(mapa_proposito)\n",
    "print(viaje[\"proposito\"].value_counts())\n",
    "print(viaje[\"propositovc\"].value_counts())"
   ]
  },
  {
   "cell_type": "code",
   "execution_count": 179,
   "id": "f0dec1cf-10e5-403c-860d-7c01aed48973",
   "metadata": {},
   "outputs": [
    {
     "data": {
      "text/plain": [
       "actividadempresa\n",
       "5.0    45\n",
       "4.0    42\n",
       "2.0    35\n",
       "1.0    26\n",
       "3.0    20\n",
       "7.0    19\n",
       "8.0    19\n",
       "6.0     2\n",
       "Name: count, dtype: int64"
      ]
     },
     "execution_count": 179,
     "metadata": {},
     "output_type": "execute_result"
    }
   ],
   "source": [
    "viaje[\"actividadempresa\"].value_counts()"
   ]
  },
  {
   "cell_type": "code",
   "execution_count": 180,
   "id": "cb49b331-265e-4b90-87a3-0f9e0fd7ac61",
   "metadata": {},
   "outputs": [
    {
     "data": {
      "text/plain": [
       "actividadempresa\n",
       "Servicios         45\n",
       "Educacion         42\n",
       "Comercio          35\n",
       "Industria         26\n",
       "Salud             20\n",
       "Sector Publico    19\n",
       "Otro              19\n",
       "Habitacional       2\n",
       "Name: count, dtype: int64"
      ]
     },
     "execution_count": 180,
     "metadata": {},
     "output_type": "execute_result"
    }
   ],
   "source": [
    "mapa_actividadempresa = {\n",
    "    1: \"Industria\",\n",
    "    2: \"Comercio\",\n",
    "    3: \"Salud\",\n",
    "    4: \"Educacion\",\n",
    "    5: \"Servicios\",\n",
    "    6: \"Habitacional\",\n",
    "    7: \"Sector Publico\",\n",
    "    8: \"Otro\"\n",
    "}\n",
    "viaje[\"actividadempresa\"] = viaje[\"actividadempresa\"].map(mapa_actividadempresa)\n",
    "viaje[\"actividadempresa\"].value_counts()"
   ]
  },
  {
   "cell_type": "code",
   "execution_count": 181,
   "id": "4b0d0857-8800-4b6e-a2f2-996ea6f77503",
   "metadata": {},
   "outputs": [
    {
     "data": {
      "text/plain": [
       "tipoasiento\n",
       "1.0    388\n",
       "2.0    150\n",
       "Name: count, dtype: int64"
      ]
     },
     "execution_count": 181,
     "metadata": {},
     "output_type": "execute_result"
    }
   ],
   "source": [
    "viaje[\"tipoasiento\"].value_counts()"
   ]
  },
  {
   "cell_type": "code",
   "execution_count": 182,
   "id": "7c16c6af-dafa-49b5-a57a-87dad6045823",
   "metadata": {},
   "outputs": [
    {
     "data": {
      "text/plain": [
       "tipoasiento\n",
       "Chofer      388\n",
       "Pasajero    150\n",
       "Name: count, dtype: int64"
      ]
     },
     "execution_count": 182,
     "metadata": {},
     "output_type": "execute_result"
    }
   ],
   "source": [
    "mapa_tipoasiento = {\n",
    "    1: \"Chofer\",\n",
    "    2: \"Pasajero\"\n",
    "}\n",
    "viaje[\"tipoasiento\"] = viaje[\"tipoasiento\"].map(mapa_tipoasiento)\n",
    "viaje[\"tipoasiento\"].value_counts()"
   ]
  },
  {
   "cell_type": "code",
   "execution_count": 183,
   "id": "60c1029a-4583-4168-a323-b51b7d83a58c",
   "metadata": {},
   "outputs": [
    {
     "data": {
      "text/plain": [
       "modoetapa1\n",
       "1     534\n",
       "13    247\n",
       "7      96\n",
       "8      53\n",
       "3      43\n",
       "5      15\n",
       "9       5\n",
       "2       4\n",
       "6       2\n",
       "12      1\n",
       "Name: count, dtype: int64"
      ]
     },
     "execution_count": 183,
     "metadata": {},
     "output_type": "execute_result"
    }
   ],
   "source": [
    "viaje[\"modoetapa1\"].value_counts()"
   ]
  },
  {
   "cell_type": "code",
   "execution_count": 184,
   "id": "99ea7874-0f3d-46e9-a0cb-aae22d155c63",
   "metadata": {},
   "outputs": [
    {
     "data": {
      "text/plain": [
       "modoetapa1\n",
       "Auto                            534\n",
       "Enteramente a pie               247\n",
       "Taxi colectivo                   96\n",
       "Taxi o radiotaxi                 53\n",
       "Bicicleta                        43\n",
       "Bus institucional                15\n",
       "Furgon escolar como pasajero      5\n",
       "Motocicleta                       4\n",
       "Bus interurbano o rural           2\n",
       "Servicio informal                 1\n",
       "Name: count, dtype: int64"
      ]
     },
     "execution_count": 184,
     "metadata": {},
     "output_type": "execute_result"
    }
   ],
   "source": [
    "mapa_modoetapa1 = {\n",
    "    1: \"Auto\",\n",
    "    2: \"Motocicleta\",\n",
    "    3: \"Bicicleta\",\n",
    "    4: \"Bus\",\n",
    "    5: \"Bus institucional\",\n",
    "    6: \"Bus interurbano o rural\",\n",
    "    7: \"Taxi colectivo\",\n",
    "    8: \"Taxi o radiotaxi\",\n",
    "    9: \"Furgon escolar como pasajero\",\n",
    "    10: \"Furgon escolar como pasajero\",\n",
    "    11: \"Aplicaciones (Uber, Cabify, etc)\",\n",
    "    12: \"Servicio informal\",\n",
    "    13: \"Enteramente a pie\"\n",
    "}\n",
    "viaje[\"modoetapa1\"] = viaje[\"modoetapa1\"].map(mapa_modoetapa1)\n",
    "viaje[\"modoetapa1\"].value_counts()"
   ]
  },
  {
   "cell_type": "code",
   "execution_count": 185,
   "id": "a54f0542-6b47-4cbb-9f0a-6b7598049bc5",
   "metadata": {},
   "outputs": [
    {
     "data": {
      "text/plain": [
       "periodo\n",
       "2    369\n",
       "1    291\n",
       "3    196\n",
       "4     86\n",
       "5     58\n",
       "Name: count, dtype: int64"
      ]
     },
     "execution_count": 185,
     "metadata": {},
     "output_type": "execute_result"
    }
   ],
   "source": [
    "viaje[\"periodo\"].value_counts()"
   ]
  },
  {
   "cell_type": "code",
   "execution_count": 186,
   "id": "4b2b2428-00f7-4d17-be99-e1264e913ace",
   "metadata": {},
   "outputs": [
    {
     "data": {
      "text/plain": [
       "periodo\n",
       "Fuera de Punta (10:30-11:30, 14:00-18:00)    369\n",
       "Punta mañana (7:30-10-30)                    291\n",
       "Mediodia (11:30-14:00)                       196\n",
       "Punta Tarde (18:00-20:00)                     86\n",
       "Resto                                         58\n",
       "Name: count, dtype: int64"
      ]
     },
     "execution_count": 186,
     "metadata": {},
     "output_type": "execute_result"
    }
   ],
   "source": [
    "mapa_periodo = {\n",
    "    1: \"Punta mañana (7:30-10-30)\",\n",
    "    2: \"Fuera de Punta (10:30-11:30, 14:00-18:00)\",\n",
    "    3: \"Mediodia (11:30-14:00)\",\n",
    "    4: \"Punta Tarde (18:00-20:00)\",\n",
    "    5: \"Resto\"\n",
    "}\n",
    "viaje[\"periodo\"] = viaje[\"periodo\"].map(mapa_periodo)\n",
    "viaje[\"periodo\"].value_counts()"
   ]
  },
  {
   "cell_type": "code",
   "execution_count": 187,
   "id": "de025f5b-04a9-4a7a-b8f0-1d5d847fd627",
   "metadata": {},
   "outputs": [
    {
     "data": {
      "text/plain": [
       "modoagregado\n",
       "3    612\n",
       "1    247\n",
       "4     98\n",
       "2     43\n",
       "Name: count, dtype: int64"
      ]
     },
     "execution_count": 187,
     "metadata": {},
     "output_type": "execute_result"
    }
   ],
   "source": [
    "viaje[\"modoagregado\"].value_counts()"
   ]
  },
  {
   "cell_type": "code",
   "execution_count": 188,
   "id": "2eef6469-0315-4bfb-8fd2-724af7d9a506",
   "metadata": {},
   "outputs": [
    {
     "data": {
      "text/plain": [
       "modoagregado\n",
       "Transporte privado    612\n",
       "Caminata              247\n",
       "Trasnporte publico     98\n",
       "Bicicleta              43\n",
       "Name: count, dtype: int64"
      ]
     },
     "execution_count": 188,
     "metadata": {},
     "output_type": "execute_result"
    }
   ],
   "source": [
    "mapa_modoagregado = {\n",
    "    1: \"Caminata\",\n",
    "    2: \"Bicicleta\",\n",
    "    3: \"Transporte privado\",\n",
    "    4: \"Trasnporte publico\"\n",
    "}\n",
    "viaje[\"modoagregado\"] = viaje[\"modoagregado\"].map(mapa_modoagregado)\n",
    "viaje[\"modoagregado\"].value_counts()"
   ]
  },
  {
   "cell_type": "code",
   "execution_count": 189,
   "id": "1b0180cf-cfc6-4660-a7bf-d48ee49d67cc",
   "metadata": {},
   "outputs": [
    {
     "data": {
      "text/plain": [
       "propositoagregado\n",
       "3    717\n",
       "1    208\n",
       "2     75\n",
       "Name: count, dtype: int64"
      ]
     },
     "execution_count": 189,
     "metadata": {},
     "output_type": "execute_result"
    }
   ],
   "source": [
    "viaje[\"propositoagregado\"].value_counts()"
   ]
  },
  {
   "cell_type": "code",
   "execution_count": 190,
   "id": "94a80524-b177-45bc-85f7-18283d72485f",
   "metadata": {},
   "outputs": [
    {
     "data": {
      "text/plain": [
       "propositoagregado\n",
       "Otros      717\n",
       "Trabajo    208\n",
       "Estudio     75\n",
       "Name: count, dtype: int64"
      ]
     },
     "execution_count": 190,
     "metadata": {},
     "output_type": "execute_result"
    }
   ],
   "source": [
    "mapa_propositoagregado = {\n",
    "    1: \"Trabajo\",\n",
    "    2: \"Estudio\",\n",
    "    3: \"Otros\"\n",
    "}\n",
    "viaje[\"propositoagregado\"] = viaje[\"propositoagregado\"].map(mapa_propositoagregado)\n",
    "viaje[\"propositoagregado\"].value_counts()"
   ]
  },
  {
   "cell_type": "code",
   "execution_count": null,
   "id": "059fe95a-db15-46e8-a543-8d67ae0e2417",
   "metadata": {},
   "outputs": [],
   "source": []
  },
  {
   "cell_type": "markdown",
   "id": "b73c0fca-0705-41c7-9edf-efdebea04d3c",
   "metadata": {},
   "source": [
    "#### 'Etapa'"
   ]
  },
  {
   "cell_type": "code",
   "execution_count": 191,
   "id": "1e7d1dba-e5cb-4d4d-a7c4-2e7f307d2525",
   "metadata": {},
   "outputs": [
    {
     "data": {
      "text/plain": [
       "modoetapa\n",
       "1     534\n",
       "13    247\n",
       "7      96\n",
       "8      53\n",
       "3      43\n",
       "5      15\n",
       "9       5\n",
       "2       4\n",
       "6       2\n",
       "12      1\n",
       "Name: count, dtype: int64"
      ]
     },
     "execution_count": 191,
     "metadata": {},
     "output_type": "execute_result"
    }
   ],
   "source": [
    "etapa[\"modoetapa\"].value_counts()"
   ]
  },
  {
   "cell_type": "code",
   "execution_count": 192,
   "id": "37197d6f-c898-44d3-9339-3bdec6d81c9f",
   "metadata": {},
   "outputs": [
    {
     "data": {
      "text/plain": [
       "modoetapa\n",
       "Auto                            534\n",
       "Enteramente a pie               247\n",
       "Taxi colectivo                   96\n",
       "Taxi o radiotaxi                 53\n",
       "Bicicleta                        43\n",
       "Bus institucional                15\n",
       "Furgon escolar como pasajero      5\n",
       "Motocicleta                       4\n",
       "Bus interurbano o rural           2\n",
       "Servicio informal                 1\n",
       "Name: count, dtype: int64"
      ]
     },
     "execution_count": 192,
     "metadata": {},
     "output_type": "execute_result"
    }
   ],
   "source": [
    "mapa_modoetapa = {\n",
    "    1: \"Auto\",\n",
    "    2: \"Motocicleta\",\n",
    "    3: \"Bicicleta\",\n",
    "    4: \"Bus\",\n",
    "    5: \"Bus institucional\",\n",
    "    6: \"Bus interurbano o rural\",\n",
    "    7: \"Taxi colectivo\",\n",
    "    8: \"Taxi o radiotaxi\",\n",
    "    9: \"Furgon escolar como pasajero\",\n",
    "    10: \"Furgon escolar como pasajero\",\n",
    "    11: \"Aplicaciones (Uber, Cabify, etc)\",\n",
    "    12: \"Servicio informal\",\n",
    "    13: \"Enteramente a pie\"\n",
    "}\n",
    "etapa[\"modoetapa\"] = etapa[\"modoetapa\"].map(mapa_modoetapa)\n",
    "etapa[\"modoetapa\"].value_counts()"
   ]
  },
  {
   "cell_type": "code",
   "execution_count": 193,
   "id": "49f62edb-80ef-49bb-bae8-4bc7b1c5ca79",
   "metadata": {},
   "outputs": [
    {
     "data": {
      "text/plain": [
       "tipoasiento\n",
       "1.0    388\n",
       "2.0    150\n",
       "Name: count, dtype: int64"
      ]
     },
     "execution_count": 193,
     "metadata": {},
     "output_type": "execute_result"
    }
   ],
   "source": [
    "etapa[\"tipoasiento\"].value_counts()"
   ]
  },
  {
   "cell_type": "code",
   "execution_count": 194,
   "id": "9b569fa5-48ad-44d3-a3b6-c9fa83594c99",
   "metadata": {},
   "outputs": [
    {
     "data": {
      "text/plain": [
       "tipoasiento\n",
       "Chofer      388\n",
       "Pasajero    150\n",
       "Name: count, dtype: int64"
      ]
     },
     "execution_count": 194,
     "metadata": {},
     "output_type": "execute_result"
    }
   ],
   "source": [
    "mapa_tipoasiento = {\n",
    "    1: \"Chofer\",\n",
    "    2: \"Pasajero\"\n",
    "}\n",
    "etapa[\"tipoasiento\"] = etapa[\"tipoasiento\"].map(mapa_tipoasiento)\n",
    "etapa[\"tipoasiento\"].value_counts()"
   ]
  },
  {
   "cell_type": "code",
   "execution_count": 195,
   "id": "943c49e7-5e6e-4cc0-a3e8-1dddc9fdae6b",
   "metadata": {},
   "outputs": [
    {
     "data": {
      "text/plain": [
       "situacionbicicleta\n",
       "1.0    43\n",
       "Name: count, dtype: int64"
      ]
     },
     "execution_count": 195,
     "metadata": {},
     "output_type": "execute_result"
    }
   ],
   "source": [
    "etapa[\"situacionbicicleta\"].value_counts()"
   ]
  },
  {
   "cell_type": "code",
   "execution_count": 196,
   "id": "3c32f4b3-b1c6-42aa-b15a-98eb5e9c7ada",
   "metadata": {},
   "outputs": [
    {
     "data": {
      "text/plain": [
       "situacionbicicleta\n",
       "Propia (del hogar)    43\n",
       "Name: count, dtype: int64"
      ]
     },
     "execution_count": 196,
     "metadata": {},
     "output_type": "execute_result"
    }
   ],
   "source": [
    "mapa_situacionbicicleta = {\n",
    "    1: \"Propia (del hogar)\",\n",
    "    2: \"Prestada\",\n",
    "    3: \"Arrendada\",\n",
    "    4: \"De la empresa o institucion\"\n",
    "}\n",
    "etapa[\"situacionbicicleta\"] = etapa[\"situacionbicicleta\"].map(mapa_situacionbicicleta)\n",
    "etapa[\"situacionbicicleta\"].value_counts()"
   ]
  },
  {
   "cell_type": "code",
   "execution_count": 197,
   "id": "0f5ed9f2-3a8e-4753-8ceb-447583daa744",
   "metadata": {},
   "outputs": [
    {
     "data": {
      "text/plain": [
       "usohabitualbicicleta\n",
       "1.0    43\n",
       "Name: count, dtype: int64"
      ]
     },
     "execution_count": 197,
     "metadata": {},
     "output_type": "execute_result"
    }
   ],
   "source": [
    "etapa[\"usohabitualbicicleta\"].value_counts()"
   ]
  },
  {
   "cell_type": "code",
   "execution_count": 198,
   "id": "f13f417c-99f9-4a4e-a97a-2050952ac913",
   "metadata": {},
   "outputs": [
    {
     "data": {
      "text/plain": [
       "usohabitualbicicleta\n",
       "Si    43\n",
       "Name: count, dtype: int64"
      ]
     },
     "execution_count": 198,
     "metadata": {},
     "output_type": "execute_result"
    }
   ],
   "source": [
    "mapa_usohabitualbicicleta = {\n",
    "    1: \"Si\",\n",
    "    2: \"No\"\n",
    "}\n",
    "etapa[\"usohabitualbicicleta\"] = etapa[\"usohabitualbicicleta\"].map(mapa_usohabitualbicicleta)\n",
    "etapa[\"usohabitualbicicleta\"].value_counts()"
   ]
  },
  {
   "cell_type": "code",
   "execution_count": 199,
   "id": "328d5a49-d7dc-4c13-a730-86ef075f477e",
   "metadata": {},
   "outputs": [
    {
     "data": {
      "text/plain": [
       "usociclovia\n",
       "2.0    31\n",
       "3.0    12\n",
       "Name: count, dtype: int64"
      ]
     },
     "execution_count": 199,
     "metadata": {},
     "output_type": "execute_result"
    }
   ],
   "source": [
    "etapa[\"usociclovia\"].value_counts()"
   ]
  },
  {
   "cell_type": "code",
   "execution_count": 200,
   "id": "6ba55db5-0e2e-431e-9b7d-8f75ce3359e7",
   "metadata": {},
   "outputs": [
    {
     "data": {
      "text/plain": [
       "usociclovia\n",
       "Si, en parte del trayecto    31\n",
       "No                           12\n",
       "Name: count, dtype: int64"
      ]
     },
     "execution_count": 200,
     "metadata": {},
     "output_type": "execute_result"
    }
   ],
   "source": [
    "mapa_usociclovia = {\n",
    "    1: \"Si, en todo el trayecto\",\n",
    "    2: \"Si, en parte del trayecto\",\n",
    "    3: \"No\"\n",
    "}\n",
    "etapa[\"usociclovia\"] = etapa[\"usociclovia\"].map(mapa_usociclovia)\n",
    "etapa[\"usociclovia\"].value_counts()"
   ]
  },
  {
   "cell_type": "code",
   "execution_count": 201,
   "id": "78fecc3c-ccc8-46a5-ad47-7827802b9d21",
   "metadata": {},
   "outputs": [
    {
     "data": {
      "text/plain": [
       "motivonousociclovia\n",
       "1.0    40\n",
       "2.0     2\n",
       "3.0     1\n",
       "Name: count, dtype: int64"
      ]
     },
     "execution_count": 201,
     "metadata": {},
     "output_type": "execute_result"
    }
   ],
   "source": [
    "etapa[\"motivonousociclovia\"].value_counts()"
   ]
  },
  {
   "cell_type": "code",
   "execution_count": 202,
   "id": "b1f8a1be-b71e-4204-9adf-b1e9eae084d7",
   "metadata": {},
   "outputs": [
    {
     "data": {
      "text/plain": [
       "motivonousociclovia\n",
       "No existia en la ruta                      40\n",
       "El acceso a la ciclovia era complicado      2\n",
       "El diseño es poco atractivo (funcional)     1\n",
       "Name: count, dtype: int64"
      ]
     },
     "execution_count": 202,
     "metadata": {},
     "output_type": "execute_result"
    }
   ],
   "source": [
    "mapa_motivonousociclovia = {\n",
    "    1: \"No existia en la ruta\",\n",
    "    2: \"El acceso a la ciclovia era complicado\",\n",
    "    3: \"El diseño es poco atractivo (funcional)\",\n",
    "    4: \"Otro motivo\"\n",
    "}\n",
    "etapa[\"motivonousociclovia\"] = etapa[\"motivonousociclovia\"].map(mapa_motivonousociclovia)\n",
    "etapa[\"motivonousociclovia\"].value_counts()"
   ]
  },
  {
   "cell_type": "code",
   "execution_count": 203,
   "id": "dbcc9de9-3e60-4039-92fa-bd51c098498a",
   "metadata": {},
   "outputs": [
    {
     "data": {
      "text/plain": [
       "vehiculosnouso\n",
       "2.0    125\n",
       "1.0     24\n",
       "Name: count, dtype: int64"
      ]
     },
     "execution_count": 203,
     "metadata": {},
     "output_type": "execute_result"
    }
   ],
   "source": [
    "etapa[\"vehiculosnouso\"].value_counts()"
   ]
  },
  {
   "cell_type": "code",
   "execution_count": 204,
   "id": "00376306-7365-40df-ada9-1ee2f2e68f98",
   "metadata": {},
   "outputs": [
    {
     "data": {
      "text/plain": [
       "vehiculosnouso\n",
       "No    125\n",
       "Si     24\n",
       "Name: count, dtype: int64"
      ]
     },
     "execution_count": 204,
     "metadata": {},
     "output_type": "execute_result"
    }
   ],
   "source": [
    "mapa_vehiculosnouso = {\n",
    "    1: \"Si\",\n",
    "    2: \"No\"\n",
    "}\n",
    "etapa[\"vehiculosnouso\"] = etapa[\"vehiculosnouso\"].map(mapa_vehiculosnouso)\n",
    "etapa[\"vehiculosnouso\"].value_counts()"
   ]
  },
  {
   "cell_type": "code",
   "execution_count": 205,
   "id": "43ff12b0-9f86-4970-86c5-58688da8f9ab",
   "metadata": {},
   "outputs": [
    {
     "data": {
      "text/plain": [
       "pagotarifaviaje\n",
       "2.0    124\n",
       "1.0     19\n",
       "6.0      5\n",
       "5.0      4\n",
       "Name: count, dtype: int64"
      ]
     },
     "execution_count": 205,
     "metadata": {},
     "output_type": "execute_result"
    }
   ],
   "source": [
    "etapa[\"pagotarifaviaje\"].value_counts()"
   ]
  },
  {
   "cell_type": "code",
   "execution_count": 206,
   "id": "fe2e53b8-31bf-471e-a783-88209e6f1bb2",
   "metadata": {},
   "outputs": [
    {
     "data": {
      "text/plain": [
       "pagotarifaviaje\n",
       "Si, adulto           124\n",
       "Si, escolar           19\n",
       "No, gratis o niño      5\n",
       "No, pase liberado      4\n",
       "Name: count, dtype: int64"
      ]
     },
     "execution_count": 206,
     "metadata": {},
     "output_type": "execute_result"
    }
   ],
   "source": [
    "mapa_pagotarifaviaje = {\n",
    "    1: \"Si, escolar\",\n",
    "    2: \"Si, adulto\",\n",
    "    3: \"Si, adulto mayor\", \n",
    "    4: \"Si, otro\",\n",
    "    5: \"No, pase liberado\",\n",
    "    6: \"No, gratis o niño\"\n",
    "}\n",
    "etapa[\"pagotarifaviaje\"] = etapa[\"pagotarifaviaje\"].map(mapa_pagotarifaviaje)\n",
    "etapa[\"pagotarifaviaje\"].value_counts()"
   ]
  },
  {
   "cell_type": "code",
   "execution_count": 207,
   "id": "16ee2ee5-b991-438c-82ae-85f2ec03412e",
   "metadata": {},
   "outputs": [
    {
     "data": {
      "text/plain": [
       "lugarbajovehiculo\n",
       "1.0    108\n",
       "2.0     44\n",
       "Name: count, dtype: int64"
      ]
     },
     "execution_count": 207,
     "metadata": {},
     "output_type": "execute_result"
    }
   ],
   "source": [
    "etapa[\"lugarbajovehiculo\"].value_counts()"
   ]
  },
  {
   "cell_type": "code",
   "execution_count": 208,
   "id": "f051c7dd-b18a-498f-9d09-7aa32bc5497a",
   "metadata": {},
   "outputs": [
    {
     "data": {
      "text/plain": [
       "lugarbajovehiculo\n",
       "En el lugar de destino    108\n",
       "En otro lugar              44\n",
       "Name: count, dtype: int64"
      ]
     },
     "execution_count": 208,
     "metadata": {},
     "output_type": "execute_result"
    }
   ],
   "source": [
    "mapa_lugarbajovehiculo = {\n",
    "    1: \"En el lugar de destino\",\n",
    "    2: \"En otro lugar\"\n",
    "}\n",
    "etapa[\"lugarbajovehiculo\"] = etapa[\"lugarbajovehiculo\"].map(mapa_lugarbajovehiculo)\n",
    "etapa[\"lugarbajovehiculo\"].value_counts()"
   ]
  },
  {
   "cell_type": "code",
   "execution_count": 209,
   "id": "7c8d966d-c7c1-45da-a4eb-b99e1c6512c7",
   "metadata": {},
   "outputs": [
    {
     "data": {
      "text/plain": [
       "montopagoestacionamiento\n",
       "0.0    401\n",
       "9.0     24\n",
       "Name: count, dtype: int64"
      ]
     },
     "execution_count": 209,
     "metadata": {},
     "output_type": "execute_result"
    }
   ],
   "source": [
    "etapa[\"montopagoestacionamiento\"].value_counts()"
   ]
  },
  {
   "cell_type": "code",
   "execution_count": 210,
   "id": "7667140d-dec3-4f4c-bb3b-d5f527cc8878",
   "metadata": {},
   "outputs": [
    {
     "data": {
      "text/plain": [
       "montopagoestacionamiento\n",
       "No pago                   401\n",
       "No sabe/ No se acuerda     24\n",
       "Name: count, dtype: int64"
      ]
     },
     "execution_count": 210,
     "metadata": {},
     "output_type": "execute_result"
    }
   ],
   "source": [
    "mapa_montopagoestacionamiento = {\n",
    "    0: \"No pago\",\n",
    "    9: \"No sabe/ No se acuerda\"\n",
    "}\n",
    "etapa[\"montopagoestacionamiento\"] = etapa[\"montopagoestacionamiento\"].map(mapa_montopagoestacionamiento)\n",
    "etapa[\"montopagoestacionamiento\"].value_counts()"
   ]
  },
  {
   "cell_type": "code",
   "execution_count": 211,
   "id": "826afed1-cfac-4268-ac42-89fa24dfdb21",
   "metadata": {},
   "outputs": [
    {
     "data": {
      "text/plain": [
       "dondeestacionovehiculo\n",
       "1.0    421\n",
       "3.0    109\n",
       "2.0      4\n",
       "4.0      4\n",
       "Name: count, dtype: int64"
      ]
     },
     "execution_count": 211,
     "metadata": {},
     "output_type": "execute_result"
    }
   ],
   "source": [
    "etapa[\"dondeestacionovehiculo\"].value_counts()"
   ]
  },
  {
   "cell_type": "code",
   "execution_count": 212,
   "id": "31a379d1-b066-4828-a428-0c1acff95a2c",
   "metadata": {},
   "outputs": [
    {
     "data": {
      "text/plain": [
       "dondeestacionovehiculo\n",
       "En el lugar de destino    421\n",
       "No fue estacionado        109\n",
       "En otro lugar               4\n",
       "No sabe o no respoonde      4\n",
       "Name: count, dtype: int64"
      ]
     },
     "execution_count": 212,
     "metadata": {},
     "output_type": "execute_result"
    }
   ],
   "source": [
    "mapa_dondeestacionovehiculo = {\n",
    "    1: \"En el lugar de destino\",\n",
    "    2: \"En otro lugar\",\n",
    "    3: \"No fue estacionado\",\n",
    "    4: \"No sabe o no respoonde\"\n",
    "}\n",
    "etapa[\"dondeestacionovehiculo\"] = etapa[\"dondeestacionovehiculo\"].map(mapa_dondeestacionovehiculo)\n",
    "etapa[\"dondeestacionovehiculo\"].value_counts()"
   ]
  },
  {
   "cell_type": "code",
   "execution_count": 213,
   "id": "bf7bece9-15b7-45ce-8897-a0d66d783cf7",
   "metadata": {},
   "outputs": [
    {
     "data": {
      "text/plain": [
       "lugarestacionovehiculo\n",
       "1.0    244\n",
       "2.0     81\n",
       "5.0     49\n",
       "4.0     30\n",
       "3.0     15\n",
       "6.0      6\n",
       "Name: count, dtype: int64"
      ]
     },
     "execution_count": 213,
     "metadata": {},
     "output_type": "execute_result"
    }
   ],
   "source": [
    "etapa[\"lugarestacionovehiculo\"].value_counts()"
   ]
  },
  {
   "cell_type": "code",
   "execution_count": 214,
   "id": "109fb338-c86c-4734-9858-fc96063c8a9d",
   "metadata": {},
   "outputs": [
    {
     "data": {
      "text/plain": [
       "lugarestacionovehiculo\n",
       "En el lugar de residencia         244\n",
       "En el lugar de trabajo             81\n",
       "En la calle                        49\n",
       "En playa de estacionamientos       30\n",
       "En edificio de estacionamentos     15\n",
       "No sabe o no responde               6\n",
       "Name: count, dtype: int64"
      ]
     },
     "execution_count": 214,
     "metadata": {},
     "output_type": "execute_result"
    }
   ],
   "source": [
    "mapa_lugarestacionovehiculo = {\n",
    "    1: \"En el lugar de residencia\",\n",
    "    2: \"En el lugar de trabajo\",\n",
    "    3: \"En edificio de estacionamentos\",\n",
    "    4: \"En playa de estacionamientos\",\n",
    "    5: \"En la calle\",\n",
    "    6: \"No sabe o no responde\"\n",
    "}\n",
    "etapa[\"lugarestacionovehiculo\"] = etapa[\"lugarestacionovehiculo\"].map(mapa_lugarestacionovehiculo)\n",
    "etapa[\"lugarestacionovehiculo\"].value_counts()"
   ]
  },
  {
   "cell_type": "code",
   "execution_count": 215,
   "id": "2ecda062-39d1-4b32-a4bb-337ba511467b",
   "metadata": {},
   "outputs": [
    {
     "data": {
      "text/plain": [
       "lugarestacionobicicleta\n",
       "2.0    27\n",
       "1.0    16\n",
       "Name: count, dtype: int64"
      ]
     },
     "execution_count": 215,
     "metadata": {},
     "output_type": "execute_result"
    }
   ],
   "source": [
    "etapa[\"lugarestacionobicicleta\"].value_counts()"
   ]
  },
  {
   "cell_type": "code",
   "execution_count": 216,
   "id": "01001390-ea96-4f24-be19-4fe2f66fa5db",
   "metadata": {},
   "outputs": [
    {
     "data": {
      "text/plain": [
       "lugarestacionobicicleta\n",
       "Estacionamiento informal    27\n",
       "Estacionamiento formal      16\n",
       "Name: count, dtype: int64"
      ]
     },
     "execution_count": 216,
     "metadata": {},
     "output_type": "execute_result"
    }
   ],
   "source": [
    "mapa_lugarestacionobicicleta = {\n",
    "    1: \"Estacionamiento formal\",\n",
    "    2: \"Estacionamiento informal\"\n",
    "}\n",
    "etapa[\"lugarestacionobicicleta\"] = etapa[\"lugarestacionobicicleta\"].map(mapa_lugarestacionobicicleta)\n",
    "etapa[\"lugarestacionobicicleta\"].value_counts()"
   ]
  },
  {
   "cell_type": "markdown",
   "id": "7567c70d-997d-4b6e-9297-a5ee38ea6f49",
   "metadata": {
    "jp-MarkdownHeadingCollapsed": true
   },
   "source": [
    "#### 'Vehiculo'"
   ]
  },
  {
   "cell_type": "code",
   "execution_count": 217,
   "id": "83e66412-44a7-40eb-8d64-ed5d36f43619",
   "metadata": {},
   "outputs": [
    {
     "data": {
      "text/plain": [
       "tipovehiculo\n",
       "1    227\n",
       "3    109\n",
       "8      9\n",
       "4      7\n",
       "6      4\n",
       "7      2\n",
       "2      1\n",
       "Name: count, dtype: int64"
      ]
     },
     "execution_count": 217,
     "metadata": {},
     "output_type": "execute_result"
    }
   ],
   "source": [
    "vehiculo[\"tipovehiculo\"].value_counts()"
   ]
  },
  {
   "cell_type": "code",
   "execution_count": 218,
   "id": "9d1f67a7-e1bb-4436-b9fa-c8c1e43cd6b6",
   "metadata": {},
   "outputs": [
    {
     "data": {
      "text/plain": [
       "tipovehiculo\n",
       "Auto                                 227\n",
       "Camioneta o vehiculo todo terreno    109\n",
       "Camion                                 9\n",
       "Van o minivan                          7\n",
       "Furgon utilitario                      4\n",
       "Taxi, Radiotaxi, taxi colectivo        2\n",
       "Motocicleta                            1\n",
       "Name: count, dtype: int64"
      ]
     },
     "execution_count": 218,
     "metadata": {},
     "output_type": "execute_result"
    }
   ],
   "source": [
    "mapa_tipovehiculo = {\n",
    "    1: \"Auto\",\n",
    "    2: \"Motocicleta\",\n",
    "    3: \"Camioneta o vehiculo todo terreno\",\n",
    "    4: \"Van o minivan\",\n",
    "    5: \"Furgon escolar\",\n",
    "    6: \"Furgon utilitario\",\n",
    "    7: \"Taxi, Radiotaxi, taxi colectivo\",\n",
    "    8: \"Camion\",\n",
    "    9: \"Bus o Taxibus\",\n",
    "    10: \"Otro vahiculo motorizado\"\n",
    "}\n",
    "vehiculo[\"tipovehiculo\"] = vehiculo[\"tipovehiculo\"].map(mapa_tipovehiculo)\n",
    "vehiculo[\"tipovehiculo\"].value_counts()"
   ]
  },
  {
   "cell_type": "code",
   "execution_count": 219,
   "id": "658efb59-3baa-4c4e-aa2e-3986f5baaa50",
   "metadata": {},
   "outputs": [
    {
     "data": {
      "text/plain": [
       "combustiblevehiculo\n",
       "1    250\n",
       "2    106\n",
       "4      2\n",
       "3      1\n",
       "Name: count, dtype: int64"
      ]
     },
     "execution_count": 219,
     "metadata": {},
     "output_type": "execute_result"
    }
   ],
   "source": [
    "vehiculo[\"combustiblevehiculo\"].value_counts()"
   ]
  },
  {
   "cell_type": "code",
   "execution_count": 220,
   "id": "64d1a6eb-dcbe-4097-bcb8-095b770192c8",
   "metadata": {},
   "outputs": [
    {
     "data": {
      "text/plain": [
       "combustiblevehiculo\n",
       "Gasolina        250\n",
       "Diesel          106\n",
       "Hibrido           2\n",
       "Electricidad      1\n",
       "Name: count, dtype: int64"
      ]
     },
     "execution_count": 220,
     "metadata": {},
     "output_type": "execute_result"
    }
   ],
   "source": [
    "mapa_combustiblevehiculo = {\n",
    "    1: \"Gasolina\",\n",
    "    2: \"Diesel\",\n",
    "    3: \"Electricidad\",\n",
    "    4: \"Hibrido\"\n",
    "}\n",
    "vehiculo[\"combustiblevehiculo\"] = vehiculo[\"combustiblevehiculo\"].map(mapa_combustiblevehiculo)\n",
    "vehiculo[\"combustiblevehiculo\"].value_counts()"
   ]
  },
  {
   "cell_type": "code",
   "execution_count": 221,
   "id": "5d6a5222-8909-4780-ba9d-7a67f9635648",
   "metadata": {},
   "outputs": [
    {
     "data": {
      "text/plain": [
       "situacionvehiculo\n",
       "1    354\n",
       "2      4\n",
       "4      1\n",
       "Name: count, dtype: int64"
      ]
     },
     "execution_count": 221,
     "metadata": {},
     "output_type": "execute_result"
    }
   ],
   "source": [
    "vehiculo[\"situacionvehiculo\"].value_counts()"
   ]
  },
  {
   "cell_type": "code",
   "execution_count": 222,
   "id": "e489b8d9-f9b4-4731-96bb-0d8854400031",
   "metadata": {},
   "outputs": [
    {
     "data": {
      "text/plain": [
       "situacionvehiculo\n",
       "Propia (del hogar)             354\n",
       "Prestada                         4\n",
       "De la empresa o institucion      1\n",
       "Name: count, dtype: int64"
      ]
     },
     "execution_count": 222,
     "metadata": {},
     "output_type": "execute_result"
    }
   ],
   "source": [
    "mapa_situacionvehiculo = {\n",
    "    1: \"Propia (del hogar)\",\n",
    "    2: \"Prestada\",\n",
    "    3: \"Arrendada\",\n",
    "    4: \"De la empresa o institucion\"    \n",
    "}\n",
    "vehiculo[\"situacionvehiculo\"] = vehiculo[\"situacionvehiculo\"].map(mapa_situacionvehiculo)\n",
    "vehiculo[\"situacionvehiculo\"].value_counts()"
   ]
  },
  {
   "cell_type": "code",
   "execution_count": 223,
   "id": "d8bb40fe-c1a0-4fec-8d1a-a6ec945c1973",
   "metadata": {},
   "outputs": [
    {
     "data": {
      "text/plain": [
       "vehiculotrabajo\n",
       "2    295\n",
       "1     64\n",
       "Name: count, dtype: int64"
      ]
     },
     "execution_count": 223,
     "metadata": {},
     "output_type": "execute_result"
    }
   ],
   "source": [
    "vehiculo[\"vehiculotrabajo\"].value_counts()"
   ]
  },
  {
   "cell_type": "code",
   "execution_count": 224,
   "id": "c1722471-2c43-4e32-b4f1-9fc85bb3edba",
   "metadata": {},
   "outputs": [
    {
     "data": {
      "text/plain": [
       "vehiculotrabajo\n",
       "No    295\n",
       "Si     64\n",
       "Name: count, dtype: int64"
      ]
     },
     "execution_count": 224,
     "metadata": {},
     "output_type": "execute_result"
    }
   ],
   "source": [
    "mapa_vehiculotrabajo = {\n",
    "    1: \"Si\",\n",
    "    2: \"No\"\n",
    "}\n",
    "vehiculo[\"vehiculotrabajo\"] = vehiculo[\"vehiculotrabajo\"].map(mapa_vehiculotrabajo)\n",
    "vehiculo[\"vehiculotrabajo\"].value_counts()"
   ]
  },
  {
   "cell_type": "markdown",
   "id": "4d5ac38e-5c47-434c-a2d1-9bb4687b9e65",
   "metadata": {
    "jp-MarkdownHeadingCollapsed": true
   },
   "source": [
    "#### 'Bicicleta'"
   ]
  },
  {
   "cell_type": "code",
   "execution_count": 225,
   "id": "1003beac-d068-42bd-b3b4-3feeb7e18937",
   "metadata": {},
   "outputs": [
    {
     "data": {
      "text/plain": [
       "tipobicicleta\n",
       "1    156\n",
       "4     28\n",
       "2      8\n",
       "3      2\n",
       "6      2\n",
       "Name: count, dtype: int64"
      ]
     },
     "execution_count": 225,
     "metadata": {},
     "output_type": "execute_result"
    }
   ],
   "source": [
    "bicicleta[\"tipobicicleta\"].value_counts()"
   ]
  },
  {
   "cell_type": "code",
   "execution_count": 226,
   "id": "d1f12ba4-35af-4135-a26a-4626e4b3612b",
   "metadata": {},
   "outputs": [
    {
     "data": {
      "text/plain": [
       "tipobicicleta\n",
       "Bicicleta urbana                       156\n",
       "Bicicleta montaña                       28\n",
       "Bicicleta ruta                           8\n",
       "Bicicleta de triatlon y contrareloj      2\n",
       "Bicicleta BMX                            2\n",
       "Name: count, dtype: int64"
      ]
     },
     "execution_count": 226,
     "metadata": {},
     "output_type": "execute_result"
    }
   ],
   "source": [
    "mapa_tipobicicleta = {\n",
    "    1: \"Bicicleta urbana\",\n",
    "    2: \"Bicicleta ruta\",\n",
    "    3: \"Bicicleta de triatlon y contrareloj\",\n",
    "    4: \"Bicicleta montaña\",\n",
    "    5: \"Bicicleta plegable\",\n",
    "    6: \"Bicicleta BMX\",\n",
    "    7: \"Bicicleta de paseo\",\n",
    "    8: \"Bicicleta hibrida\",\n",
    "    9: \"Bicicleta de pista o circuito\",\n",
    "    10: \"Bicicleta etectrica o scooter\",\n",
    "    11: \"Bicicleta gravel\"\n",
    "}\n",
    "bicicleta[\"tipobicicleta\"] = bicicleta[\"tipobicicleta\"].map(mapa_tipobicicleta)\n",
    "bicicleta[\"tipobicicleta\"].value_counts()"
   ]
  },
  {
   "cell_type": "code",
   "execution_count": 227,
   "id": "025c6349-9848-4fa1-8d0f-34a72fd478bf",
   "metadata": {},
   "outputs": [
    {
     "data": {
      "text/plain": [
       "situacionbicicleta\n",
       "1    194\n",
       "3      2\n",
       "Name: count, dtype: int64"
      ]
     },
     "execution_count": 227,
     "metadata": {},
     "output_type": "execute_result"
    }
   ],
   "source": [
    "bicicleta[\"situacionbicicleta\"].value_counts()"
   ]
  },
  {
   "cell_type": "code",
   "execution_count": 228,
   "id": "3cb16cf1-b152-4633-b51a-fb483a70a8a5",
   "metadata": {},
   "outputs": [
    {
     "data": {
      "text/plain": [
       "situacionbicicleta\n",
       "Propia (del hogar)    194\n",
       "Arrendada               2\n",
       "Name: count, dtype: int64"
      ]
     },
     "execution_count": 228,
     "metadata": {},
     "output_type": "execute_result"
    }
   ],
   "source": [
    "mapa_situacionbicicleta = {\n",
    "    1: \"Propia (del hogar)\",\n",
    "    2: \"Prestada\",\n",
    "    3: \"Arrendada\",\n",
    "    4: \"De la empresa o institucion\"    \n",
    "}\n",
    "bicicleta[\"situacionbicicleta\"] = bicicleta[\"situacionbicicleta\"].map(mapa_situacionbicicleta)\n",
    "bicicleta[\"situacionbicicleta\"].value_counts()"
   ]
  },
  {
   "cell_type": "code",
   "execution_count": 229,
   "id": "33226ff5-a003-4ea6-ab0e-4d6c1a2b9f2f",
   "metadata": {},
   "outputs": [
    {
     "data": {
      "text/plain": [
       "bicicletatrabajo\n",
       "2    179\n",
       "1     17\n",
       "Name: count, dtype: int64"
      ]
     },
     "execution_count": 229,
     "metadata": {},
     "output_type": "execute_result"
    }
   ],
   "source": [
    "bicicleta[\"bicicletatrabajo\"].value_counts()"
   ]
  },
  {
   "cell_type": "code",
   "execution_count": 230,
   "id": "e31b6d72-fe7b-4f5a-b3b8-787ab2c81c0a",
   "metadata": {},
   "outputs": [
    {
     "data": {
      "text/plain": [
       "bicicletatrabajo\n",
       "No    179\n",
       "Si     17\n",
       "Name: count, dtype: int64"
      ]
     },
     "execution_count": 230,
     "metadata": {},
     "output_type": "execute_result"
    }
   ],
   "source": [
    "mapa_situacionbicicleta = {\n",
    "    1: \"Si\",\n",
    "    2: \"No\"    \n",
    "}\n",
    "bicicleta[\"bicicletatrabajo\"] = bicicleta[\"bicicletatrabajo\"].map(mapa_situacionbicicleta)\n",
    "bicicleta[\"bicicletatrabajo\"].value_counts()"
   ]
  },
  {
   "cell_type": "markdown",
   "id": "71eb66d8-60ad-40b6-851f-77278d7865a9",
   "metadata": {},
   "source": [
    "### Estandarizacion de columnas categoricas"
   ]
  },
  {
   "cell_type": "markdown",
   "id": "eb771edf-e74b-41cc-a2d3-ba8184c513d4",
   "metadata": {
    "jp-MarkdownHeadingCollapsed": true
   },
   "source": [
    "#### 'Hogar'"
   ]
  },
  {
   "cell_type": "code",
   "execution_count": 231,
   "id": "a9155a97-604b-4c50-88a0-e63cbd95abe0",
   "metadata": {},
   "outputs": [
    {
     "data": {
      "text/plain": [
       "array(['NATALES', 'PUERTO NATALES', 'NBATALES'], dtype=object)"
      ]
     },
     "execution_count": 231,
     "metadata": {},
     "output_type": "execute_result"
    }
   ],
   "source": [
    "hogar[\"direccioncomuna\"].unique()"
   ]
  },
  {
   "cell_type": "code",
   "execution_count": 232,
   "id": "e7a13f88-ab23-45c2-b500-31dc8b4c743d",
   "metadata": {},
   "outputs": [
    {
     "data": {
      "text/plain": [
       "(518,)"
      ]
     },
     "execution_count": 232,
     "metadata": {},
     "output_type": "execute_result"
    }
   ],
   "source": [
    "hogar[\"direccioncomuna\"].shape"
   ]
  },
  {
   "cell_type": "code",
   "execution_count": 233,
   "id": "6d8acea3-2a01-434c-8996-47ecbd962fdd",
   "metadata": {},
   "outputs": [],
   "source": [
    "reemplazos_calles = {\n",
    "    \"NATALES\": \"Puerto natales\",\n",
    "    \"PUERTO NATALES\": \"Puerto natales\",\n",
    "    \"NBATALES\": \"Puerto natales\"\n",
    "}\n",
    "hogar[\"direccioncomuna\"] = hogar[\"direccioncomuna\"].replace(reemplazos_calles)"
   ]
  },
  {
   "cell_type": "code",
   "execution_count": 234,
   "id": "83acf1fc-5ea8-4119-bf4a-ac286450a2c8",
   "metadata": {},
   "outputs": [
    {
     "data": {
      "text/plain": [
       "direccioncomuna\n",
       "Puerto natales    518\n",
       "Name: count, dtype: int64"
      ]
     },
     "execution_count": 234,
     "metadata": {},
     "output_type": "execute_result"
    }
   ],
   "source": [
    "hogar[\"direccioncomuna\"].value_counts()"
   ]
  },
  {
   "cell_type": "code",
   "execution_count": 235,
   "id": "2720e622-5df0-4e12-83e3-9e7dd7e9c510",
   "metadata": {},
   "outputs": [
    {
     "data": {
      "text/plain": [
       "array(['4.Borde Costero', '3.Centro', '1.Residencial Norte',\n",
       "       '2.Residencial Central', '6.Residencial Oriente',\n",
       "       '5.Residencial Sur', '7.Residencial Perimetral'], dtype=object)"
      ]
     },
     "execution_count": 235,
     "metadata": {},
     "output_type": "execute_result"
    }
   ],
   "source": [
    "hogar[\"sector_hogar\"].unique()"
   ]
  },
  {
   "cell_type": "code",
   "execution_count": 236,
   "id": "785cb5e2-59e3-4d38-bdb4-7d0ad35c6aee",
   "metadata": {},
   "outputs": [
    {
     "data": {
      "text/plain": [
       "(518,)"
      ]
     },
     "execution_count": 236,
     "metadata": {},
     "output_type": "execute_result"
    }
   ],
   "source": [
    "hogar[\"sector_hogar\"].shape"
   ]
  },
  {
   "cell_type": "code",
   "execution_count": 237,
   "id": "0780c2b5-e081-4085-b252-a1027917b1c2",
   "metadata": {},
   "outputs": [],
   "source": [
    "hogar[\"sector_hogar\"] = hogar[\"sector_hogar\"].str.replace(r'^\\d+\\.\\s*', '', regex=True)"
   ]
  },
  {
   "cell_type": "code",
   "execution_count": 238,
   "id": "1d30a042-5545-4eb9-89bf-31dac5caf9d0",
   "metadata": {},
   "outputs": [
    {
     "data": {
      "text/plain": [
       "(518,)"
      ]
     },
     "execution_count": 238,
     "metadata": {},
     "output_type": "execute_result"
    }
   ],
   "source": [
    "hogar[\"sector_hogar\"].shape"
   ]
  },
  {
   "cell_type": "code",
   "execution_count": 239,
   "id": "589ec829-12a7-4db8-9ea4-5d58aaf2521d",
   "metadata": {},
   "outputs": [
    {
     "data": {
      "text/plain": [
       "sector_hogar\n",
       "Residencial Sur           158\n",
       "Residencial Central        89\n",
       "Residencial Perimetral     88\n",
       "Centro                     64\n",
       "Residencial Norte          57\n",
       "Borde Costero              42\n",
       "Residencial Oriente        20\n",
       "Name: count, dtype: int64"
      ]
     },
     "execution_count": 239,
     "metadata": {},
     "output_type": "execute_result"
    }
   ],
   "source": [
    "hogar[\"sector_hogar\"].value_counts()"
   ]
  },
  {
   "cell_type": "code",
   "execution_count": 240,
   "id": "0bf73148-415d-4bf9-a837-54ea12529773",
   "metadata": {},
   "outputs": [
    {
     "data": {
      "text/plain": [
       "comunaviviendaanterior_e\n",
       "SANTIAGO               4\n",
       "PUERTO MONTT           3\n",
       "NATALES                2\n",
       "VALPARAISO             2\n",
       "PTO MONTT              2\n",
       "TEMUCO                 2\n",
       "COLOMBIA               2\n",
       "LAGO RANCO             1\n",
       "CHILLAN                1\n",
       "OSORNO                 1\n",
       "BOGOTA                 1\n",
       "CALDERA                1\n",
       "SANTA CRUZ             1\n",
       "VALDIVIA               1\n",
       "COCHABAMBA, BOLIVIA    1\n",
       "EXTRANJERO             1\n",
       "Name: count, dtype: int64"
      ]
     },
     "execution_count": 240,
     "metadata": {},
     "output_type": "execute_result"
    }
   ],
   "source": [
    "hogar[\"comunaviviendaanterior_e\"].value_counts()"
   ]
  },
  {
   "cell_type": "code",
   "execution_count": 241,
   "id": "7844e059-0c00-4448-aa2c-cd6b962b9d3e",
   "metadata": {},
   "outputs": [
    {
     "data": {
      "text/plain": [
       "(518,)"
      ]
     },
     "execution_count": 241,
     "metadata": {},
     "output_type": "execute_result"
    }
   ],
   "source": [
    "hogar[\"comunaviviendaanterior_e\"].shape"
   ]
  },
  {
   "cell_type": "code",
   "execution_count": 242,
   "id": "25702114-eccd-4dfc-9d9e-ba02415397ab",
   "metadata": {},
   "outputs": [],
   "source": [
    "comuna_anterior = {\n",
    "    \"PTO MONTT\": \"PUERTO MONTT\",\n",
    "    \"COLOMBIA\": \"EXTRANJERO\",\n",
    "    \"BOGOTA\": \"EXTRANJERO\",\n",
    "    \"COCHABAMBA, BOLIVIA\": \"EXTRANJERO\",\n",
    "}\n",
    "hogar[\"comunaviviendaanterior_e\"] = hogar[\"comunaviviendaanterior_e\"].replace(comuna_anterior)"
   ]
  },
  {
   "cell_type": "code",
   "execution_count": 243,
   "id": "b63c9a89-ffcd-4a7b-97b0-e95919ca3128",
   "metadata": {},
   "outputs": [
    {
     "data": {
      "text/plain": [
       "(518,)"
      ]
     },
     "execution_count": 243,
     "metadata": {},
     "output_type": "execute_result"
    }
   ],
   "source": [
    "hogar[\"comunaviviendaanterior_e\"].shape"
   ]
  },
  {
   "cell_type": "code",
   "execution_count": 244,
   "id": "65c986b1-e780-4989-a3eb-cebef8aa8b06",
   "metadata": {},
   "outputs": [],
   "source": [
    "hogar[\"comunaviviendaanterior_e\"] = hogar[\"comunaviviendaanterior_e\"].str.capitalize()"
   ]
  },
  {
   "cell_type": "code",
   "execution_count": 245,
   "id": "8053cb85-f5d9-462b-ad9b-a329f2c3ced0",
   "metadata": {},
   "outputs": [
    {
     "data": {
      "text/plain": [
       "comunaviviendaanterior_e\n",
       "Extranjero      5\n",
       "Puerto montt    5\n",
       "Santiago        4\n",
       "Valparaiso      2\n",
       "Temuco          2\n",
       "Natales         2\n",
       "Lago ranco      1\n",
       "Osorno          1\n",
       "Caldera         1\n",
       "Chillan         1\n",
       "Santa cruz      1\n",
       "Valdivia        1\n",
       "Name: count, dtype: int64"
      ]
     },
     "execution_count": 245,
     "metadata": {},
     "output_type": "execute_result"
    }
   ],
   "source": [
    "hogar[\"comunaviviendaanterior_e\"].value_counts()"
   ]
  },
  {
   "cell_type": "code",
   "execution_count": 246,
   "id": "aeb73d4c-9a8f-456b-9d6e-ac806d464b00",
   "metadata": {},
   "outputs": [],
   "source": [
    "hogar[\"sector\"] = hogar[\"sector\"].str.replace(r'^\\d+\\.\\s*', '', regex=True)"
   ]
  },
  {
   "cell_type": "code",
   "execution_count": 247,
   "id": "1b2538d4-1f89-440c-a48d-a9cf13d0cfe5",
   "metadata": {},
   "outputs": [
    {
     "data": {
      "text/plain": [
       "sector\n",
       "Residencial Sur           158\n",
       "Residencial Central        89\n",
       "Residencial Perimetral     88\n",
       "Centro                     64\n",
       "Residencial Norte          57\n",
       "Borde Costero              42\n",
       "Residencial Oriente        20\n",
       "Name: count, dtype: int64"
      ]
     },
     "execution_count": 247,
     "metadata": {},
     "output_type": "execute_result"
    }
   ],
   "source": [
    "hogar[\"sector\"].value_counts()"
   ]
  },
  {
   "cell_type": "markdown",
   "id": "5dee481a-6191-47e1-8ea2-204a7564289f",
   "metadata": {
    "jp-MarkdownHeadingCollapsed": true
   },
   "source": [
    "#### 'Persona'"
   ]
  },
  {
   "cell_type": "code",
   "execution_count": 248,
   "id": "c83c949d-63da-4f55-987c-79aa711be993",
   "metadata": {},
   "outputs": [
    {
     "data": {
      "text/plain": [
       "array([nan, 'INDEPENDIENTE', 'LICENCIA MEDICA', 'BUSCANDO TRABAJO',\n",
       "       'PENCIONADA', 'BEBE', 'RECIEN NACIDO', 'MENOR DE EDAD',\n",
       "       'FREELANCE', 'VIUDA', 'DE PASO POR LA CIUDA', 'PESCA ARTESANAL',\n",
       "       'LACTANTE', 'TRABAJO ESPORADICO', 'POST NATAL', 'PREESCOLAR',\n",
       "       'PENSION', 'SE ESTA TRAMITANDO', 'BEBE DE 2 AÃ\\x91OS', 'VIUDO',\n",
       "       'CUIDADO DE FAMILIAR', 'NO INGRESA A JARDIN', 'VACACIONES',\n",
       "       'PENSIONADO', 'PENSIONADA', 'VENDE POR INTERNET', 'ESPORADICO',\n",
       "       'EN CAMA'], dtype=object)"
      ]
     },
     "execution_count": 248,
     "metadata": {},
     "output_type": "execute_result"
    }
   ],
   "source": [
    "persona[\"actividadotro_e\"].unique()"
   ]
  },
  {
   "cell_type": "code",
   "execution_count": 249,
   "id": "35a84188-fbc8-4da0-bf05-90ea216609ce",
   "metadata": {},
   "outputs": [
    {
     "data": {
      "text/plain": [
       "(1000,)"
      ]
     },
     "execution_count": 249,
     "metadata": {},
     "output_type": "execute_result"
    }
   ],
   "source": [
    "persona[\"actividadotro_e\"].shape"
   ]
  },
  {
   "cell_type": "code",
   "execution_count": 250,
   "id": "2160369f-7bb0-4eac-bf36-030fe8c872bd",
   "metadata": {},
   "outputs": [],
   "source": [
    "mapa_ocupacion = {\n",
    "    'INDEPENDIENTE': 'Trabajo independiente',\n",
    "    'FREELANCE': 'Trabajo esporádico/freelance',\n",
    "    'TRABAJO ESPORADICO': 'Trabajo esporádico/freelance',\n",
    "    'VENDE POR INTERNET': 'Trabajo esporádico/freelance',\n",
    "    'ESPORADICO': 'Trabajo esporádico/freelance',\n",
    "    'BUSCANDO TRABAJO': 'Desempleo/Búsqueda activa',\n",
    "    'LICENCIA MEDICA': 'Licencia/Postnatal',\n",
    "    'POST NATAL': 'Licencia/Postnatal',\n",
    "    'PENSION': 'Pensionado/a',\n",
    "    'PENSIONADA': 'Pensionado/a',\n",
    "    'PENSIONADO': 'Pensionado/a',\n",
    "    'PENCIONADA': 'Pensionado/a',  \n",
    "    'BEBE': 'Lactante/Bebé',\n",
    "    'RECIEN NACIDO': 'Lactante/Bebé',\n",
    "    'BEBE DE 2 AÃ\\x91OS': 'Lactante/Bebé',\n",
    "    'LACTANTE': 'Lactante/Bebé',\n",
    "    'PREESCOLAR': 'Estudia/Menor de edad',\n",
    "    'NO INGRESA A JARDIN': 'Estudia/Menor de edad',\n",
    "    'MENOR DE EDAD': 'Estudia/Menor de edad',\n",
    "    'VIUDA': 'Sin actividad económica/Cuidado',\n",
    "    'VIUDO': 'Sin actividad económica/Cuidado',\n",
    "    'CUIDADO DE FAMILIAR': 'Cuidado',\n",
    "    'SE ESTA TRAMITANDO': 'Otro/No clasificable',\n",
    "    'DE PASO POR LA CIUDA': 'Otro/No clasificable', \n",
    "    'VACACIONES': 'Otro/No clasificable',\n",
    "    'EN CAMA': 'Enfermedad/Reposo'\n",
    "}"
   ]
  },
  {
   "cell_type": "code",
   "execution_count": 251,
   "id": "57847072-ab29-4e31-8132-930d5d8ab687",
   "metadata": {},
   "outputs": [],
   "source": [
    "persona[\"actividadotro_e\"] = persona[\"actividadotro_e\"].map(mapa_ocupacion)"
   ]
  },
  {
   "cell_type": "code",
   "execution_count": 252,
   "id": "dd862e71-f2f4-49e3-aa49-4756273e8ff7",
   "metadata": {},
   "outputs": [
    {
     "data": {
      "text/plain": [
       "actividadotro_e\n",
       "Lactante/Bebé                      16\n",
       "Licencia/Postnatal                  7\n",
       "Trabajo esporádico/freelance        6\n",
       "Sin actividad económica/Cuidado     6\n",
       "Pensionado/a                        4\n",
       "Estudia/Menor de edad               3\n",
       "Otro/No clasificable                3\n",
       "Desempleo/Búsqueda activa           1\n",
       "Trabajo independiente               1\n",
       "Cuidado                             1\n",
       "Enfermedad/Reposo                   1\n",
       "Name: count, dtype: int64"
      ]
     },
     "execution_count": 252,
     "metadata": {},
     "output_type": "execute_result"
    }
   ],
   "source": [
    "persona[\"actividadotro_e\"].value_counts()"
   ]
  },
  {
   "cell_type": "code",
   "execution_count": 253,
   "id": "d9e26854-19d8-487f-8d31-2a9553937ca6",
   "metadata": {},
   "outputs": [
    {
     "data": {
      "text/plain": [
       "array([nan, 'NATALES', 'PUNTA ARENAS', 'PUERTO NATALES', 'SAN GREGORIO',\n",
       "       'NATALAES', 'TORRES DEL PAINE', 'NTALES'], dtype=object)"
      ]
     },
     "execution_count": 253,
     "metadata": {},
     "output_type": "execute_result"
    }
   ],
   "source": [
    "persona[\"lugartrabajocomuna\"].unique()"
   ]
  },
  {
   "cell_type": "code",
   "execution_count": 254,
   "id": "7dd42c19-4111-42dc-888d-a8a3e440fbfe",
   "metadata": {},
   "outputs": [],
   "source": [
    "mapa_comunas = {\n",
    "    'NATALES': 'PUERTO NATALES',\n",
    "    'PUERTO NATALES': 'PUERTO NATALES',\n",
    "    'NATALAES': 'PUERTO NATALES', \n",
    "    'NTALES': 'PUERTO NATALES',   \n",
    "    'PUNTA ARENAS': 'PUNTA ARENAS',\n",
    "    'SAN GREGORIO': 'SAN GREGORIO',\n",
    "    'TORRES DEL PAINE': 'TORRES DEL PAINE'\n",
    "}\n",
    "persona[\"lugartrabajocomuna\"] = persona[\"lugartrabajocomuna\"].map(mapa_comunas)"
   ]
  },
  {
   "cell_type": "code",
   "execution_count": 255,
   "id": "20665d45-087c-4b99-92c9-e9da8a60a99f",
   "metadata": {},
   "outputs": [],
   "source": [
    "persona[\"lugartrabajocomuna\"] = persona[\"lugartrabajocomuna\"].str.capitalize()"
   ]
  },
  {
   "cell_type": "code",
   "execution_count": 256,
   "id": "e33d34b0-dd67-4477-8c17-145e44104d92",
   "metadata": {},
   "outputs": [
    {
     "data": {
      "text/plain": [
       "lugartrabajocomuna\n",
       "Puerto natales      483\n",
       "Torres del paine      3\n",
       "Punta arenas          2\n",
       "San gregorio          1\n",
       "Name: count, dtype: int64"
      ]
     },
     "execution_count": 256,
     "metadata": {},
     "output_type": "execute_result"
    }
   ],
   "source": [
    "persona[\"lugartrabajocomuna\"].value_counts()"
   ]
  },
  {
   "cell_type": "code",
   "execution_count": 257,
   "id": "9e2249ae-834a-4547-8d4e-b0c1c491334a",
   "metadata": {},
   "outputs": [
    {
     "data": {
      "text/plain": [
       "array([nan, 'NATALES', 'MAGALLANES', 'PUERTO NATALES', 'PUNTA ARENAS',\n",
       "       'INACAP', 'IAC', '.', 'TNATALES'], dtype=object)"
      ]
     },
     "execution_count": 257,
     "metadata": {},
     "output_type": "execute_result"
    }
   ],
   "source": [
    "persona[\"lugarestudiocomuna\"].unique()"
   ]
  },
  {
   "cell_type": "code",
   "execution_count": 258,
   "id": "d2ec6df2-5ae6-4f2a-ad2b-2cc4f22eb330",
   "metadata": {},
   "outputs": [],
   "source": [
    "mapa_comuna = {\n",
    "    \"NATALES\": \"Puerto Natales\",\n",
    "    \"MAGALLANES\": \"Punta Arenas\",\n",
    "    \"PUERTO NATALES\": \"Puerto Natales\",\n",
    "    \"PUNTA ARENAS\": \"Punta Arenas\",\n",
    "    \"INACAP\": \"Punta Arenas\",\n",
    "    \"IAC\": \"Desconocido\",\n",
    "    \".\": \"Desconocido\",\n",
    "    \"TNATALES\": \"Puerto Natales\"\n",
    "}\n",
    "persona[\"lugarestudiocomuna\"] = persona[\"lugarestudiocomuna\"].replace(mapa_comuna)"
   ]
  },
  {
   "cell_type": "code",
   "execution_count": 259,
   "id": "6b75e062-6dfd-4c57-a90f-a13362623bf4",
   "metadata": {},
   "outputs": [
    {
     "data": {
      "text/plain": [
       "lugarestudiocomuna\n",
       "Puerto Natales    162\n",
       "Punta Arenas        6\n",
       "Desconocido         2\n",
       "Name: count, dtype: int64"
      ]
     },
     "execution_count": 259,
     "metadata": {},
     "output_type": "execute_result"
    }
   ],
   "source": [
    "persona[\"lugarestudiocomuna\"].value_counts()"
   ]
  },
  {
   "cell_type": "code",
   "execution_count": 260,
   "id": "c1bafd97-5eb2-4cc8-af66-1872c0e62041",
   "metadata": {},
   "outputs": [
    {
     "data": {
      "text/plain": [
       "array([nan, 'DIFICULTAD PSICOMOTO', 'CUIDADO MADRE', 'CUIDAR A HIJO',\n",
       "       'CUIDADO HIJO', 'RECIEN NACIDO', 'NO SALE (TIEMPO MALO',\n",
       "       'CUMPLEAÃ\\x91OS DE MAMA', 'CUMPLEAÃ\\x91OS', 'CUARENTA POR COVID',\n",
       "       'CUARENTENA POR COVID', 'HOSPITALIZADO', 'NO ACOSTUMBRA SALIR',\n",
       "       'LACTANTE', 'VIAJE A PUNTA ARENAS', 'CUIDADO DEL HIJO',\n",
       "       'VACAIONES', 'VACACIONES', 'BEBE DE 2 AÃ\\x91OS',\n",
       "       'CUIDAR DE SUS PADRES', 'CUIDAR A SU PADRE', 'CUIDAR SU SALUD'],\n",
       "      dtype=object)"
      ]
     },
     "execution_count": 260,
     "metadata": {},
     "output_type": "execute_result"
    }
   ],
   "source": [
    "persona[\"motivonoviaje_e\"].unique()"
   ]
  },
  {
   "cell_type": "code",
   "execution_count": 261,
   "id": "c8eea950-5b85-4f87-83cb-2804f0733b35",
   "metadata": {},
   "outputs": [],
   "source": [
    "mapa_viaje = {\n",
    "    'DIFICULTAD PSICOMOTO': \"Movilidad reducida\", \n",
    "    'CUIDADO MADRE': \"Cuidado de un familiar\", \n",
    "    'CUIDAR A HIJO': \"Cuidado de un familiar\",\n",
    "    'CUIDADO HIJO': \"Cuidado de un familiar\", \n",
    "    'RECIEN NACIDO': \"Cuidado de un familiar\", \n",
    "    'NO SALE (TIEMPO MALO': 'Factores externos (clima)',\n",
    "    'CUMPLEAÃ\\x91OS DE MAMA': 'Evento familiar', \n",
    "    'CUMPLEAÃ\\x91OS': 'Evento familiar', \n",
    "    'CUARENTA POR COVID': 'COVID/Cuarentena',\n",
    "    'CUARENTENA POR COVID': 'COVID/Cuarentena', \n",
    "    'HOSPITALIZADO': \"Problemas de salud\", \n",
    "    'NO ACOSTUMBRA SALIR': \"Preferencia personal\" ,\n",
    "    'LACTANTE': \"Problemas de salud\", \n",
    "    'VIAJE A PUNTA ARENAS': \"Viaje\", \n",
    "    'CUIDADO DEL HIJO': \"Problemas de salud\",\n",
    "    'VACAIONES': \"Vacaciones\", \n",
    "    'VACACIONES': \"Vacaciones\", \n",
    "    'BEBE DE 2 AÃ\\x91OS': \"Cuidado de un familiar\",\n",
    "    'CUIDAR DE SUS PADRES': \"Cuidado de un familiar\", \n",
    "    'CUIDAR A SU PADRE': \"Cuidado de un familiar\",\n",
    "    'CUIDAR SU SALUD': \"Problemas de salud\" \n",
    "}\n",
    "persona[\"motivonoviaje_e\"] = persona[\"motivonoviaje_e\"].replace(mapa_viaje)"
   ]
  },
  {
   "cell_type": "code",
   "execution_count": 262,
   "id": "73f82efe-b1d0-4410-9027-8fc962a41f56",
   "metadata": {},
   "outputs": [
    {
     "data": {
      "text/plain": [
       "motivonoviaje_e\n",
       "Cuidado de un familiar       8\n",
       "Problemas de salud           6\n",
       "COVID/Cuarentena             5\n",
       "Vacaciones                   4\n",
       "Preferencia personal         2\n",
       "Evento familiar              2\n",
       "Movilidad reducida           1\n",
       "Factores externos (clima)    1\n",
       "Viaje                        1\n",
       "Name: count, dtype: int64"
      ]
     },
     "execution_count": 262,
     "metadata": {},
     "output_type": "execute_result"
    }
   ],
   "source": [
    "persona[\"motivonoviaje_e\"].value_counts()"
   ]
  },
  {
   "cell_type": "code",
   "execution_count": 263,
   "id": "ebcced6e-4fb5-48a7-a21b-65f94b2b1448",
   "metadata": {},
   "outputs": [
    {
     "data": {
      "text/plain": [
       "array([nan, 'SANTIAGO', 'PUNTA ARENAS', 'ES UN BEBE', 'ARGENTINA',\n",
       "       'VALDIVIA'], dtype=object)"
      ]
     },
     "execution_count": 263,
     "metadata": {},
     "output_type": "execute_result"
    }
   ],
   "source": [
    "persona[\"saludcomunaesp\"].unique()"
   ]
  },
  {
   "cell_type": "code",
   "execution_count": 264,
   "id": "2a3a898c-93ed-4b0a-8855-ed95b08bfbab",
   "metadata": {},
   "outputs": [],
   "source": [
    "mapa_saludcomuna = {\n",
    "    'SANTIAGO': 'Santiago', \n",
    "    'PUNTA ARENAS': 'Punta Arenas', \n",
    "    'ES UN BEBE': 'Desconocido', \n",
    "    'ARGENTINA': 'Argentina',\n",
    "    'VALDIVIA': 'Valdivia'\n",
    "}\n",
    "persona[\"saludcomunaesp\"] = persona[\"saludcomunaesp\"].replace(mapa_saludcomuna)"
   ]
  },
  {
   "cell_type": "code",
   "execution_count": 265,
   "id": "0937c65b-8df8-42b9-9b2c-c0057ab14cbd",
   "metadata": {},
   "outputs": [
    {
     "data": {
      "text/plain": [
       "saludcomunaesp\n",
       "Punta Arenas    13\n",
       "Santiago         4\n",
       "Argentina        2\n",
       "Valdivia         2\n",
       "Desconocido      1\n",
       "Name: count, dtype: int64"
      ]
     },
     "execution_count": 265,
     "metadata": {},
     "output_type": "execute_result"
    }
   ],
   "source": [
    "persona[\"saludcomunaesp\"].value_counts()"
   ]
  },
  {
   "cell_type": "code",
   "execution_count": null,
   "id": "174b4d68-8066-4c08-a9c1-bd50c4a41efb",
   "metadata": {},
   "outputs": [],
   "source": []
  },
  {
   "cell_type": "markdown",
   "id": "4c9309f6-b58e-4df9-866b-c018e2ad3ed5",
   "metadata": {
    "jp-MarkdownHeadingCollapsed": true
   },
   "source": [
    "#### 'Viaje\""
   ]
  },
  {
   "cell_type": "code",
   "execution_count": 266,
   "id": "963186bc-2c9a-46ba-a158-fe90fbd61317",
   "metadata": {},
   "outputs": [
    {
     "data": {
      "text/plain": [
       "array(['NATALES', 'MAGALLANES', 'PUERTO NATALES', 'NATALE', 'NTALES',\n",
       "       'CERRO CASTILLO', 'TORRES DEL PAINE', 'T.DEL PAINE',\n",
       "       'T. DEL PAINE'], dtype=object)"
      ]
     },
     "execution_count": 266,
     "metadata": {},
     "output_type": "execute_result"
    }
   ],
   "source": [
    "viaje[\"origenactividadcomuna\"].unique()"
   ]
  },
  {
   "cell_type": "code",
   "execution_count": 267,
   "id": "c3457ad9-c804-41db-ac5d-4cdc3ce2d1d4",
   "metadata": {},
   "outputs": [],
   "source": [
    "mapa_origenactividad = {\n",
    "    \"NATALES\": \"Puerto Natales\",\n",
    "    \"MAGALLANES\": \"Punta Arenas\",\n",
    "    \"PUERTO NATALES\": \"Puerto Natales\",\n",
    "    \"NATALE\": \"Puerto Natales\",\n",
    "    \"NTALES\": \"Puerto Natales\",\n",
    "    \"CERRO CASTILLO\": \"Cerro Castillo\",\n",
    "    \"TORRES DEL PAINE\": \"Torres del Paine\",\n",
    "    \"T.DEL PAINE\": \"Torres del Paine\",\n",
    "    \"T. DEL PAINE\": \"Torres del Paine\"\n",
    "}\n",
    "\n",
    "viaje[\"origenactividadcomuna\"] = viaje[\"origenactividadcomuna\"].replace(mapa_origenactividad)"
   ]
  },
  {
   "cell_type": "code",
   "execution_count": 268,
   "id": "0c0a746b-d752-4e51-b8ec-0e02f031a8b4",
   "metadata": {},
   "outputs": [
    {
     "data": {
      "text/plain": [
       "array(['Puerto Natales', 'Punta Arenas', 'Cerro Castillo',\n",
       "       'Torres del Paine'], dtype=object)"
      ]
     },
     "execution_count": 268,
     "metadata": {},
     "output_type": "execute_result"
    }
   ],
   "source": [
    "viaje[\"origenactividadcomuna\"].unique()"
   ]
  },
  {
   "cell_type": "code",
   "execution_count": 269,
   "id": "d0c39d55-3394-4d89-80bf-b28cc27aa82e",
   "metadata": {},
   "outputs": [
    {
     "data": {
      "text/plain": [
       "array(['NATALES', 'MAGALLANES', 'PUERTO NATALES', 'NATALE',\n",
       "       'PUNTA ARENAS', 'NTALES', 'CERRO CASTILLO', 'TORRES DEL PAINE',\n",
       "       'T.DEL PAINE', 'T. DEL PAINE'], dtype=object)"
      ]
     },
     "execution_count": 269,
     "metadata": {},
     "output_type": "execute_result"
    }
   ],
   "source": [
    "viaje[\"lugaractividadcomuna\"].unique()"
   ]
  },
  {
   "cell_type": "code",
   "execution_count": 270,
   "id": "27b495a2-b814-4c46-87dd-89774fb01f13",
   "metadata": {},
   "outputs": [],
   "source": [
    "mapa_lugaractividad = {\n",
    "    'NATALES' : 'Puerto natales', \n",
    "    'MAGALLANES': 'Punta Arenas', \n",
    "    'PUERTO NATALES': 'Puerto natales', \n",
    "    'NATALE': 'Puerto natales',\n",
    "    'PUNTA ARENAS': 'Puerto Arenas', \n",
    "    'NTALES': 'Puerto natales', \n",
    "    'CERRO CASTILLO': 'Cerro Castillo', \n",
    "    'TORRES DEL PAINE': 'Torres del Paine',\n",
    "    'T.DEL PAINE': 'Torres del Paine', \n",
    "    'T. DEL PAINE': 'Torres del Paine'\n",
    "}\n",
    "viaje[\"lugaractividadcomuna\"] = viaje[\"lugaractividadcomuna\"].replace(mapa_lugaractividad)"
   ]
  },
  {
   "cell_type": "code",
   "execution_count": 271,
   "id": "f4d09a78-5b78-48e1-b501-bbf1bca96e6b",
   "metadata": {},
   "outputs": [
    {
     "data": {
      "text/plain": [
       "array(['Puerto natales', 'Punta Arenas', 'Puerto Arenas',\n",
       "       'Cerro Castillo', 'Torres del Paine'], dtype=object)"
      ]
     },
     "execution_count": 271,
     "metadata": {},
     "output_type": "execute_result"
    }
   ],
   "source": [
    "viaje[\"lugaractividadcomuna\"].unique()"
   ]
  },
  {
   "cell_type": "code",
   "execution_count": 272,
   "id": "9a201699-cb6d-4ccf-b92e-f96162c1e7e1",
   "metadata": {},
   "outputs": [
    {
     "data": {
      "text/plain": [
       "array(['4.Borde Costero', '3.Centro', '5.Residencial Sur',\n",
       "       '1.Residencial Norte', '0.Zona Externa', '2.Residencial Central',\n",
       "       '6.Residencial Oriente', '7.Residencial Perimetral'], dtype=object)"
      ]
     },
     "execution_count": 272,
     "metadata": {},
     "output_type": "execute_result"
    }
   ],
   "source": [
    "viaje[\"sector_origenviaje\"].unique()"
   ]
  },
  {
   "cell_type": "code",
   "execution_count": 273,
   "id": "7eebc72b-2f73-4524-9493-acdd6f24083e",
   "metadata": {},
   "outputs": [
    {
     "data": {
      "text/plain": [
       "0        Borde Costero\n",
       "1               Centro\n",
       "2        Borde Costero\n",
       "3               Centro\n",
       "4        Borde Costero\n",
       "            ...       \n",
       "995    Residencial Sur\n",
       "996             Centro\n",
       "997    Residencial Sur\n",
       "998    Residencial Sur\n",
       "999             Centro\n",
       "Name: sector_origenviaje, Length: 1000, dtype: object"
      ]
     },
     "execution_count": 273,
     "metadata": {},
     "output_type": "execute_result"
    }
   ],
   "source": [
    "viaje[\"sector_origenviaje\"].str.replace(r'^\\d+\\.\\s*', '', regex=True)"
   ]
  },
  {
   "cell_type": "code",
   "execution_count": 274,
   "id": "80d94ec0-f26b-4ac8-9f27-911f6885acb5",
   "metadata": {},
   "outputs": [],
   "source": [
    "viaje = viaje.drop(columns=\"coord_destinoviaje\")"
   ]
  },
  {
   "cell_type": "code",
   "execution_count": 275,
   "id": "8c8357b4-2e82-4f4b-ab63-82e9e4c78415",
   "metadata": {},
   "outputs": [],
   "source": [
    "viaje[\"sector_destinoviaje\"] = viaje[\"sector_destinoviaje\"].str.replace(r'^\\d+\\.\\s*', '', regex=True)"
   ]
  },
  {
   "cell_type": "code",
   "execution_count": 276,
   "id": "990da4ec-3085-4e29-84dc-127c1c96149d",
   "metadata": {},
   "outputs": [
    {
     "data": {
      "text/plain": [
       "array(['Centro', 'Borde Costero', 'Residencial Sur', 'Residencial Norte',\n",
       "       'Zona Externa', 'Residencial Central', 'Residencial Oriente',\n",
       "       'Residencial Perimetral'], dtype=object)"
      ]
     },
     "execution_count": 276,
     "metadata": {},
     "output_type": "execute_result"
    }
   ],
   "source": [
    "viaje[\"sector_destinoviaje\"].unique()"
   ]
  },
  {
   "cell_type": "code",
   "execution_count": 277,
   "id": "d53c5b3d-68c9-4d66-b505-84c034a567f7",
   "metadata": {},
   "outputs": [
    {
     "data": {
      "text/plain": [
       "0       30-12-1899 9:50:00\n",
       "1      30-12-1899 13:00:00\n",
       "2      30-12-1899 14:50:00\n",
       "3      30-12-1899 19:30:00\n",
       "4      30-12-1899 11:00:00\n",
       "              ...         \n",
       "995     30-12-1899 7:40:00\n",
       "996     30-12-1899 8:00:00\n",
       "997     30-12-1899 8:55:00\n",
       "998    30-12-1899 12:45:00\n",
       "999    30-12-1899 13:05:00\n",
       "Name: horasalida, Length: 1000, dtype: object"
      ]
     },
     "execution_count": 277,
     "metadata": {},
     "output_type": "execute_result"
    }
   ],
   "source": [
    "viaje[\"horasalida\"]"
   ]
  },
  {
   "cell_type": "code",
   "execution_count": 278,
   "id": "914c9a5f-ee8c-4fb1-9b72-394bd1ec5577",
   "metadata": {},
   "outputs": [
    {
     "data": {
      "text/plain": [
       "array(['30-12-1899 10:02:00', '30-12-1899 13:15:00',\n",
       "       '30-12-1899 15:00:00', '30-12-1899 19:40:00',\n",
       "       '30-12-1899 11:15:00', '30-12-1899 12:30:00', '30-12-1899 7:55:00',\n",
       "       '30-12-1899 13:10:00', '30-12-1899 13:20:00',\n",
       "       '30-12-1899 14:15:00', '30-12-1899 17:20:00',\n",
       "       '30-12-1899 17:30:00', '30-12-1899 19:10:00',\n",
       "       '30-12-1899 19:20:00', '30-12-1899 20:20:00',\n",
       "       '30-12-1899 20:30:00', '30-12-1899 7:50:00', '30-12-1899 12:05:00',\n",
       "       '30-12-1899 7:45:00', '30-12-1899 8:05:00', '30-12-1899 8:50:00',\n",
       "       '30-12-1899 9:00:00', '30-12-1899 9:57:00', '30-12-1899 11:00:00',\n",
       "       '30-12-1899 12:45:00', '30-12-1899 14:10:00',\n",
       "       '30-12-1899 14:20:00', '30-12-1899 14:35:00',\n",
       "       '30-12-1899 14:45:00', '30-12-1899 15:55:00',\n",
       "       '30-12-1899 16:15:00', '30-12-1899 18:00:00',\n",
       "       '30-12-1899 18:10:00', '30-12-1899 13:05:00',\n",
       "       '30-12-1899 14:25:00', '30-12-1899 16:10:00', '30-12-1899 8:55:00',\n",
       "       '30-12-1899 19:05:00', '30-12-1899 13:55:00',\n",
       "       '30-12-1899 18:55:00', '30-12-1899 8:45:00', '30-12-1899 14:00:00',\n",
       "       '30-12-1899 18:15:00', '30-12-1899 8:15:00', '30-12-1899 17:15:00',\n",
       "       '30-12-1899 7:58:00', '30-12-1899 8:10:00', '30-12-1899 12:58:00',\n",
       "       '30-12-1899 10:20:00', '30-12-1899 18:40:00', '30-12-1899 8:00:00',\n",
       "       '30-12-1899 17:40:00', '30-12-1899 23:59:00',\n",
       "       '30-12-1899 17:35:00', '30-12-1899 14:05:00',\n",
       "       '30-12-1899 17:05:00', '30-12-1899 7:35:00', '30-12-1899 10:15:00',\n",
       "       '30-12-1899 10:45:00', '30-12-1899 16:30:00', '30-12-1899 9:05:00',\n",
       "       '30-12-1899 9:18:00', '30-12-1899 11:40:00', '30-12-1899 13:00:00',\n",
       "       '30-12-1899 14:40:00', '30-12-1899 19:15:00',\n",
       "       '30-12-1899 11:20:00', '30-12-1899 12:00:00',\n",
       "       '30-12-1899 10:25:00', '30-12-1899 11:10:00', '30-12-1899 9:40:00',\n",
       "       '30-12-1899 10:03:00', '30-12-1899 17:10:00', '30-12-1899 8:20:00',\n",
       "       '30-12-1899 8:35:00', '30-12-1899 16:20:00', '30-12-1899 14:38:00',\n",
       "       '30-12-1899 20:00:00', '30-12-1899 21:15:00',\n",
       "       '30-12-1899 22:15:00', '30-12-1899 10:55:00',\n",
       "       '30-12-1899 12:15:00', '30-12-1899 12:50:00',\n",
       "       '30-12-1899 17:07:00', '30-12-1899 19:07:00',\n",
       "       '30-12-1899 11:05:00', '30-12-1899 18:05:00',\n",
       "       '30-12-1899 15:10:00', '30-12-1899 15:50:00',\n",
       "       '30-12-1899 15:16:00', '30-12-1899 15:45:00',\n",
       "       '30-12-1899 10:00:00', '30-12-1899 13:12:00',\n",
       "       '30-12-1899 10:05:00', '30-12-1899 16:40:00',\n",
       "       '30-12-1899 16:55:00', '30-12-1899 20:05:00',\n",
       "       '30-12-1899 21:05:00', '30-12-1899 17:21:00',\n",
       "       '30-12-1899 10:40:00', '30-12-1899 15:27:00',\n",
       "       '30-12-1899 11:30:00', '30-12-1899 6:40:00', '30-12-1899 23:00:00',\n",
       "       '30-12-1899 12:20:00', '30-12-1899 19:00:00',\n",
       "       '30-12-1899 13:30:00', '30-12-1899 20:15:00',\n",
       "       '30-12-1899 10:30:00', '30-12-1899 12:40:00',\n",
       "       '30-12-1899 14:30:00', '30-12-1899 17:00:00',\n",
       "       '30-12-1899 12:10:00', '30-12-1899 8:56:00', '30-12-1899 17:45:00',\n",
       "       '30-12-1899 15:20:00', '30-12-1899 17:50:00', '30-12-1899 9:10:00',\n",
       "       '30-12-1899 13:25:00', '30-12-1899 14:55:00',\n",
       "       '30-12-1899 18:30:00', '30-12-1899 9:25:00', '30-12-1899 18:13:00',\n",
       "       '30-12-1899 8:42:00', '30-12-1899 21:45:00', '30-12-1899 16:07:00',\n",
       "       '30-12-1899 15:01:00', '30-12-1899 21:00:00',\n",
       "       '30-12-1899 21:10:00', '30-12-1899 14:58:00', '30-12-1899 9:45:00',\n",
       "       '30-12-1899 20:10:00', '30-12-1899 6:00:00', '30-12-1899 10:10:00',\n",
       "       '30-12-1899 14:28:00', '30-12-1899 17:38:00',\n",
       "       '30-12-1899 16:05:00', '30-12-1899 9:30:00', '30-12-1899 8:30:00',\n",
       "       '30-12-1899 15:25:00', '30-12-1899 9:50:00', '30-12-1899 9:20:00',\n",
       "       '30-12-1899 15:05:00', '30-12-1899 9:15:00', '30-12-1899 15:15:00',\n",
       "       '30-12-1899 14:50:00', '30-12-1899 7:40:00', '30-12-1899 17:55:00',\n",
       "       '30-12-1899 13:40:00', '30-12-1899 22:10:00',\n",
       "       '30-12-1899 19:03:00', '30-12-1899 23:05:00',\n",
       "       '30-12-1899 16:00:00', '30-12-1899 22:25:00',\n",
       "       '30-12-1899 16:45:00', '30-12-1899 7:10:00', '30-12-1899 15:40:00',\n",
       "       '30-12-1899 13:45:00', '30-12-1899 7:25:00', '30-12-1899 11:35:00',\n",
       "       '30-12-1899 15:35:00', '30-12-1899 23:50:00',\n",
       "       '30-12-1899 18:50:00', '30-12-1899 18:20:00',\n",
       "       '30-12-1899 19:30:00', '30-12-1899 12:35:00',\n",
       "       '30-12-1899 21:06:00', '30-12-1899 16:25:00',\n",
       "       '30-12-1899 18:25:00', '30-12-1899 8:01:00', '30-12-1899 4:10:00',\n",
       "       '30-12-1899 18:49:00', '30-12-1899 16:50:00',\n",
       "       '30-12-1899 15:07:00', '30-12-1899 7:30:00', '30-12-1899 11:50:00',\n",
       "       '30-12-1899 7:38:00', '30-12-1899 7:53:00', '30-12-1899 18:52:00',\n",
       "       '30-12-1899 7:48:00', '30-12-1899 7:42:00', '30-12-1899 7:07:00',\n",
       "       '30-12-1899 9:21:00', '30-12-1899 15:30:00', '30-12-1899 20:40:00',\n",
       "       '30-12-1899 22:50:00', '30-12-1899 7:31:00', '30-12-1899 15:31:00',\n",
       "       '30-12-1899 21:25:00', '30-12-1899 13:50:00',\n",
       "       '30-12-1899 18:45:00', '30-12-1899 13:08:00',\n",
       "       '30-12-1899 14:08:00', '30-12-1899 18:08:00',\n",
       "       '30-12-1899 16:58:00', '30-12-1899 21:08:00',\n",
       "       '30-12-1899 18:56:00', '30-12-1899 23:31:00',\n",
       "       '30-12-1899 11:06:00', '30-12-1899 8:02:00', '30-12-1899 12:39:00',\n",
       "       '30-12-1899 9:35:00', '30-12-1899 23:55:00', '30-12-1899 17:25:00',\n",
       "       '30-12-1899 7:47:00', '30-12-1899 13:07:00', '30-12-1899 14:17:00',\n",
       "       '30-12-1899 18:07:00', '30-12-1899 8:06:00', '30-12-1899 11:45:00',\n",
       "       '30-12-1899 8:25:00', '30-12-1899 23:40:00', '30-12-1899 8:31:00',\n",
       "       '30-12-1899 17:43:00', '30-12-1899 18:09:00',\n",
       "       '30-12-1899 18:35:00', '30-12-1899 19:25:00',\n",
       "       '30-12-1899 20:50:00', '30-12-1899 22:14:00',\n",
       "       '30-12-1899 16:04:00', '30-12-1899 10:35:00', '30-12-1899 8:40:00',\n",
       "       '30-12-1899 19:35:00', '30-12-1899 12:55:00',\n",
       "       '30-12-1899 21:20:00', '30-12-1899 21:30:00',\n",
       "       '30-12-1899 19:45:00', '30-12-1899 22:30:00'], dtype=object)"
      ]
     },
     "execution_count": 278,
     "metadata": {},
     "output_type": "execute_result"
    }
   ],
   "source": [
    "viaje[\"horallegada\"].unique()"
   ]
  },
  {
   "cell_type": "code",
   "execution_count": 279,
   "id": "ff91ec97-6a7e-407d-a1e9-74d36ecdb334",
   "metadata": {},
   "outputs": [
    {
     "data": {
      "text/plain": [
       "array(['30-12-1899 0:12:00', '30-12-1899 0:15:00', '30-12-1899 0:10:00',\n",
       "       '30-12-1899 0:08:00', '30-12-1899 0:05:00', '30-12-1899 0:40:00',\n",
       "       '30-12-1899 0:09:00', '30-12-1899 0:20:00', '30-12-1899 0:45:00',\n",
       "       '30-12-1899 0:07:00', '30-12-1899 0:30:00', '30-12-1899 0:13:00',\n",
       "       '30-12-1899 0:19:00', '30-12-1899 0:25:00', '30-12-1899 0:03:00',\n",
       "       '30-12-1899 0:14:00', '30-12-1899 0:17:00', '30-12-1899 0:16:00',\n",
       "       '30-12-1899 0:02:00', '30-12-1899 0:01:00', '30-12-1899 0:06:00',\n",
       "       '30-12-1899 0:35:00', '30-12-1899 3:30:00', '30-12-1899 2:05:00',\n",
       "       '30-12-1899 1:00:00', '30-12-1899 0:21:00', '30-12-1899 0:23:00',\n",
       "       '30-12-1899 0:18:00', '30-12-1899 4:57:00', '30-12-1899 1:27:00',\n",
       "       '30-12-1899 0:57:00', '30-12-1899 0:58:00', '30-12-1899 4:50:00',\n",
       "       '30-12-1899 2:10:00', '30-12-1899 0:04:00', '30-12-1899 4:00:00',\n",
       "       '30-12-1899 2:50:00', '30-12-1899 1:15:00', '30-12-1899 1:10:00',\n",
       "       '30-12-1899 0:50:00', '30-12-1899 1:25:00', '30-12-1899 3:25:00',\n",
       "       '30-12-1899 1:55:00', '30-12-1899 4:25:00', '30-12-1899 0:47:00',\n",
       "       '30-12-1899 1:30:00'], dtype=object)"
      ]
     },
     "execution_count": 279,
     "metadata": {},
     "output_type": "execute_result"
    }
   ],
   "source": [
    "viaje[\"tiempoviaje\"].unique()"
   ]
  },
  {
   "cell_type": "code",
   "execution_count": 280,
   "id": "bbad24c9-ddf7-4277-b6ab-e81245bf3b2f",
   "metadata": {},
   "outputs": [
    {
     "data": {
      "text/plain": [
       "0       30-12-1899 9:56:00\n",
       "1      30-12-1899 13:07:30\n",
       "2      30-12-1899 14:55:00\n",
       "3      30-12-1899 19:35:00\n",
       "4      30-12-1899 11:07:30\n",
       "              ...         \n",
       "995     30-12-1899 7:47:30\n",
       "996     30-12-1899 8:07:30\n",
       "997     30-12-1899 8:57:30\n",
       "998    30-12-1899 12:52:30\n",
       "999    30-12-1899 13:07:30\n",
       "Name: horamediaviaje, Length: 1000, dtype: object"
      ]
     },
     "execution_count": 280,
     "metadata": {},
     "output_type": "execute_result"
    }
   ],
   "source": [
    "viaje[\"horamediaviaje\"]"
   ]
  },
  {
   "cell_type": "markdown",
   "id": "00d0c632-9f04-4526-8744-90ae9ecaa0a6",
   "metadata": {
    "jp-MarkdownHeadingCollapsed": true
   },
   "source": [
    "#### 'Etapa\""
   ]
  },
  {
   "cell_type": "code",
   "execution_count": 281,
   "id": "737659cf-ad03-4894-bb91-9f4450fa803d",
   "metadata": {},
   "outputs": [
    {
     "data": {
      "text/plain": [
       "array([nan, '21', 'LINEA 21', 'MILODON', 'CALAFATE', '7', 'LINEA 5', '1',\n",
       "       '5', 'TAXI MILODON', 'YAGANES', 'LLAGANES', 'LINEA', 'PATAGONIA',\n",
       "       'PATGONIA', 'LINEA 7', 'PARADERO UNIMARC'], dtype=object)"
      ]
     },
     "execution_count": 281,
     "metadata": {},
     "output_type": "execute_result"
    }
   ],
   "source": [
    "etapa[\"lineatransportepublico\"].unique()"
   ]
  },
  {
   "cell_type": "code",
   "execution_count": 282,
   "id": "9a46eff0-88a9-4e71-91aa-d74ac79a9842",
   "metadata": {},
   "outputs": [],
   "source": [
    "mapa_linea = {\n",
    "    \"21\": \"Linea 21\",\n",
    "    \"LINEA 21\": \"Linea 21\",\n",
    "    \"7\": \"Linea 7\",\n",
    "    \"5\": \"Linea 5\",\n",
    "    \"1\": \"Linea 1\",\n",
    "    \"PATGONIA\": \"Patagonia\",\n",
    "    \"LINEA\": \"Otro\",\n",
    "    \"PARADERO UNIMARC\": \"Otro\",\n",
    "    \"MILODON\": \"Milodon\",\n",
    "    \"CALAFATE\": \"Calafate\",\n",
    "    \"TAXI MILODON\": \"Taxi milodon\",\n",
    "    \"LLAGANES\": \"Yaganes\",\n",
    "    \"YAGANES\": \"Yaganes\"\n",
    "}\n",
    "etapa[\"lineatransportepublico\"] = etapa[\"lineatransportepublico\"].map(mapa_linea)"
   ]
  },
  {
   "cell_type": "code",
   "execution_count": 283,
   "id": "9a658109-9b9f-4cf4-ba50-edf866ead6d9",
   "metadata": {},
   "outputs": [
    {
     "data": {
      "text/plain": [
       "array([nan, 'Linea 21', 'Milodon', 'Calafate', 'Linea 7', 'Linea 1',\n",
       "       'Linea 5', 'Taxi milodon', 'Yaganes', 'Otro', 'Patagonia'],\n",
       "      dtype=object)"
      ]
     },
     "execution_count": 283,
     "metadata": {},
     "output_type": "execute_result"
    }
   ],
   "source": [
    "etapa[\"lineatransportepublico\"].unique()"
   ]
  },
  {
   "cell_type": "code",
   "execution_count": 284,
   "id": "40b253e0-724f-43fe-9e96-51ccb178c274",
   "metadata": {},
   "outputs": [
    {
     "data": {
      "text/plain": [
       "array([nan, 'NATALES', '.'], dtype=object)"
      ]
     },
     "execution_count": 284,
     "metadata": {},
     "output_type": "execute_result"
    }
   ],
   "source": [
    "etapa[\"lugarbajovehiculocomuna\"].unique()"
   ]
  },
  {
   "cell_type": "code",
   "execution_count": 285,
   "id": "4cf657cf-559c-44f5-a8fa-48e276bbb060",
   "metadata": {},
   "outputs": [],
   "source": [
    "mapa_lugarbajo = {\n",
    "    \"NATALES\": \"Puerto Natales\",\n",
    "    \".\": \"Desconocido\"\n",
    "}\n",
    "etapa[\"lugarbajovehiculocomuna\"] = etapa[\"lugarbajovehiculocomuna\"].replace(mapa_lugarbajo)"
   ]
  },
  {
   "cell_type": "code",
   "execution_count": 286,
   "id": "10244ad1-e6fd-4390-a4f8-8b8e8870730f",
   "metadata": {},
   "outputs": [
    {
     "data": {
      "text/plain": [
       "lugarbajovehiculocomuna\n",
       "Puerto Natales    43\n",
       "Desconocido        1\n",
       "Name: count, dtype: int64"
      ]
     },
     "execution_count": 286,
     "metadata": {},
     "output_type": "execute_result"
    }
   ],
   "source": [
    "etapa[\"lugarbajovehiculocomuna\"].value_counts()"
   ]
  },
  {
   "cell_type": "code",
   "execution_count": 287,
   "id": "f69610a3-306e-4a32-b0e7-1c8a0761be82",
   "metadata": {},
   "outputs": [
    {
     "data": {
      "text/plain": [
       "array([nan, '2.Residencial Central', '7.Residencial Perimetral',\n",
       "       '5.Residencial Sur', '3.Centro', '1.Residencial Norte',\n",
       "       '6.Residencial Oriente'], dtype=object)"
      ]
     },
     "execution_count": 287,
     "metadata": {},
     "output_type": "execute_result"
    }
   ],
   "source": [
    "etapa[\"sector_lugarbajovehiculo\"].unique()"
   ]
  },
  {
   "cell_type": "code",
   "execution_count": 288,
   "id": "dbb42228-8ed6-460b-94ea-0ac4a565d204",
   "metadata": {},
   "outputs": [],
   "source": [
    "etapa[\"sector_lugarbajovehiculo\"] = etapa[\"sector_lugarbajovehiculo\"].str.replace(r'^\\d+\\.\\s*', '', regex=True)"
   ]
  },
  {
   "cell_type": "code",
   "execution_count": 289,
   "id": "4ba9e492-33b6-45b5-bd88-a7abdacfc180",
   "metadata": {},
   "outputs": [
    {
     "data": {
      "text/plain": [
       "array([nan, 'Residencial Central', 'Residencial Perimetral',\n",
       "       'Residencial Sur', 'Centro', 'Residencial Norte',\n",
       "       'Residencial Oriente'], dtype=object)"
      ]
     },
     "execution_count": 289,
     "metadata": {},
     "output_type": "execute_result"
    }
   ],
   "source": [
    "etapa[\"sector_lugarbajovehiculo\"].unique()"
   ]
  },
  {
   "cell_type": "markdown",
   "id": "0d663b4b-4894-4d2c-93bd-ac2a57b38f84",
   "metadata": {
    "jp-MarkdownHeadingCollapsed": true
   },
   "source": [
    "#### 'Vehiculo'"
   ]
  },
  {
   "cell_type": "code",
   "execution_count": 290,
   "id": "ce177a2a-eb55-447c-9ae2-c680a8b42749",
   "metadata": {},
   "outputs": [
    {
     "data": {
      "text/plain": [
       "array(['SUSUKI', 'SUBARU', 'UAZ', 'HYUNDAI', 'TOYOTA', 'CHEVROLET',\n",
       "       'HYUNDAY', 'MG', 'MAZDA', 'KIA', 'FORD', 'TATA', 'CHEVROLET SPARK',\n",
       "       'MERCEDES BENZ', 'JAC', 'CHERY', 'FIAT', 'PEUGEOT', 'AUDI',\n",
       "       'RENAULT', 'SUZUKI', 'NISSAN', 'RENAUT', 'VOLSVAGEN', 'JACK',\n",
       "       'SHANGAN', 'GREATWEALL', 'ZOTIER', 'SANGYONG', 'GREAT WEAL',\n",
       "       'DOGE', 'MITSUBICHI', 'HONDA', 'GREAT WALL', 'MITSUBISHI',\n",
       "       'RANAULT', 'HUYNDAI', 'CHERVROLET', 'MAHINDRA', 'CHEVROLER',\n",
       "       'CITROEN', 'WOLSWAGEN', 'FUTON', 'SAMSUNG', 'DODGE', 'CHANGAN',\n",
       "       'WOFLWAGEN', 'HUYDAI', 'GELLY', 'MAXUS', 'VOLKSWAVEN', 'HIUNDAY',\n",
       "       'GRET WEALL', 'ZOTIE', 'HUNDAI', 'GMC', 'MITSUBUCHI',\n",
       "       'MITSUBUSCHI', 'DAEWOO', 'IZUZU', 'JEEP', 'HUNDAY', 'WINGLE',\n",
       "       'CHEVTOLET', 'ZNARICH', 'TIGGO', 'HAVAL', 'PEUGOT', 'CHERRY',\n",
       "       'HAVALL', 'CHRVROLET', 'VOLKSWAWEN', 'GREATWALL', 'VOLSWAGEN',\n",
       "       'MITSUBISCHI', 'NISAN', 'MISTSUBISHI', 'SSANGYONG', 'GRAT WALL',\n",
       "       'SSANGYOUNG', 'DAHIATSU', 'DATSUN', 'SPARK'], dtype=object)"
      ]
     },
     "execution_count": 290,
     "metadata": {},
     "output_type": "execute_result"
    }
   ],
   "source": [
    "vehiculo[\"marcavehiculo\"].unique()"
   ]
  },
  {
   "cell_type": "code",
   "execution_count": 291,
   "id": "501201e2-10ba-4062-a2bb-6a578e2af783",
   "metadata": {},
   "outputs": [],
   "source": [
    "map_marca = {'SUSUKI': \"Suzuki\",\n",
    " 'SUBARU': \"Subaru\",\n",
    " 'UAZ': \"Uaz\",\n",
    " 'HYUNDAI': \"Hyundai\",\n",
    " 'TOYOTA': \"Toyota\",\n",
    " 'CHEVROLET': \"Chevrolet\",\n",
    " 'HYUNDAY': \"Hyundai\",\n",
    " 'MG': \"MG\",\n",
    " 'MAZDA': \"Mazda\",\n",
    " 'KIA': \"Kia\",\n",
    " 'FORD': \"Ford\",\n",
    " 'TATA': \"Tata\",\n",
    " 'CHEVROLET SPARK': \"Chevrolet\",\n",
    " 'MERCEDES BENZ': \"Mercedes Benz\",\n",
    " 'JAC': \"Jac\",\n",
    " 'CHERY': \"Chery\",\n",
    " 'FIAT': \"Fiat\",\n",
    " 'PEUGEOT': \"Peugeot\",\n",
    " 'AUDI': \"Audi\",\n",
    " 'RENAULT': \"Renault\",\n",
    " 'SUZUKI': \"Suzuki\",\n",
    " 'NISSAN': \"Nissan\",\n",
    " 'RENAUT': \"Renault\",\n",
    " 'VOLSVAGEN': \"Volkswagen\",\n",
    " 'JACK': \"Jac\",\n",
    " 'SHANGAN': \"Changan\",\n",
    " 'GREATWEALL': \"Great wall\",\n",
    " 'ZOTIER': \"Zotye\",\n",
    " 'SANGYONG': \"Ssangyong\",\n",
    " 'GREAT WEAL': \"Great wall\",\n",
    " 'DOGE': \"Dodge\",\n",
    " 'MITSUBICHI': \"Mitsubishi\",\n",
    " 'HONDA': \"Honda\",\n",
    " 'GREAT WALL': \"Great wall\",\n",
    " 'MITSUBISHI': \"Mitsubishi\",\n",
    " 'RANAULT': \"Renault\",\n",
    " 'HUYNDAI': \"Hyundai\",\n",
    " 'CHERVROLET': \"Chevrolet\",\n",
    " 'MAHINDRA': \"Mahindra\",\n",
    " 'CHEVROLER': \"Chevrolet\",\n",
    " 'CITROEN': \"Citroen\",\n",
    " 'WOLSWAGEN': \"Volkswagen\",\n",
    " 'FUTON': \"Foton\",\n",
    " 'SAMSUNG': \"Samsung\",\n",
    " 'DODGE': \"Dodge\",\n",
    " 'CHANGAN': \"Changan\",\n",
    " 'WOFLWAGEN': \"Volkswagen\",\n",
    " 'HUYDAI': \"Hyundai\",\n",
    " 'GELLY': \"Geely\",\n",
    " 'MAXUS': \"Maxus\",\n",
    " 'VOLKSWAVEN': \"Volkswagen\",\n",
    " 'HIUNDAY': \"Hyundai\",\n",
    " 'GRET WEALL': \"Great wall\",\n",
    " 'ZOTIE': \"Zotye\",\n",
    " 'HUNDAI': \"Hyundai\",\n",
    " 'GMC': \"Gmc\",\n",
    " 'MITSUBUCHI': \"Mitsubishi\",\n",
    " 'MITSUBUSCHI': \"Mitsubishi\",\n",
    " 'DAEWOO': \"Daewoo\",\n",
    " 'IZUZU': \"Izuzu\",\n",
    " 'JEEP': \"Jeep\",\n",
    " 'HUNDAY': \"Hyundai\",\n",
    " 'WINGLE': \"Wingle\",\n",
    " 'CHEVTOLET': \"Chevrolet\",\n",
    " 'ZNARICH': \"Zna Rich\",\n",
    " 'TIGGO': \"Tiggo\",\n",
    " 'HAVAL': \"Haval\",\n",
    " 'PEUGOT': \"Peugot\",\n",
    " 'CHERRY': \"Cherry\",\n",
    " 'HAVALL': \"Haval\",\n",
    " 'CHRVROLET': \"Chevrolet\",\n",
    " 'VOLKSWAWEN': \"Volkswagen\",\n",
    " 'GREATWALL': \"Great wall\",\n",
    " 'VOLSWAGEN': \"Volkswagen\",\n",
    " 'MITSUBISCHI': \"Mitsubishi\",\n",
    " 'NISAN': \"Nisan\",\n",
    " 'MISTSUBISHI': \"Mitsubishi\",\n",
    " 'SSANGYONG': \"Ssangyong\",\n",
    " 'GRAT WALL': \"Great wall\",\n",
    " 'SSANGYOUNG': \"Ssangyong\",\n",
    " 'DAHIATSU': \"Dahiatsu\",\n",
    " 'DATSUN': \"Datsub\",\n",
    " 'SPARK': \"Chevrolet\"}"
   ]
  },
  {
   "cell_type": "code",
   "execution_count": 292,
   "id": "6b42f57f-7d10-4624-8927-5328ae861b35",
   "metadata": {},
   "outputs": [],
   "source": [
    "vehiculo[\"marcavehiculo\"] = vehiculo[\"marcavehiculo\"].replace(map_marca)"
   ]
  },
  {
   "cell_type": "code",
   "execution_count": 293,
   "id": "85973247-b696-40e6-859d-71182f53b76a",
   "metadata": {},
   "outputs": [
    {
     "data": {
      "text/plain": [
       "marcavehiculo\n",
       "Chevrolet        67\n",
       "Hyundai          44\n",
       "Mazda            34\n",
       "Suzuki           25\n",
       "Toyota           24\n",
       "Nissan           19\n",
       "Ford             13\n",
       "Mitsubishi       13\n",
       "Renault          13\n",
       "Kia              13\n",
       "Great wall       12\n",
       "Jac               9\n",
       "Volkswagen        6\n",
       "Fiat              5\n",
       "Ssangyong         5\n",
       "Changan           5\n",
       "Dodge             4\n",
       "Peugeot           4\n",
       "MG                4\n",
       "Subaru            3\n",
       "Jeep              3\n",
       "Chery             3\n",
       "Haval             3\n",
       "Geely             3\n",
       "Mercedes Benz     2\n",
       "Honda             2\n",
       "Zotye             2\n",
       "Uaz               1\n",
       "Tata              1\n",
       "Audi              1\n",
       "Foton             1\n",
       "Citroen           1\n",
       "Mahindra          1\n",
       "Maxus             1\n",
       "Gmc               1\n",
       "Daewoo            1\n",
       "Izuzu             1\n",
       "Samsung           1\n",
       "Wingle            1\n",
       "Zna Rich          1\n",
       "Tiggo             1\n",
       "Peugot            1\n",
       "Cherry            1\n",
       "Nisan             1\n",
       "Dahiatsu          1\n",
       "Datsub            1\n",
       "Name: count, dtype: int64"
      ]
     },
     "execution_count": 293,
     "metadata": {},
     "output_type": "execute_result"
    }
   ],
   "source": [
    "vehiculo[\"marcavehiculo\"].value_counts()"
   ]
  },
  {
   "cell_type": "code",
   "execution_count": 294,
   "id": "e14e5af3-48e5-4393-9c89-27492f2ced93",
   "metadata": {},
   "outputs": [],
   "source": [
    "vehiculo = vehiculo.drop(columns=\"modelovehiculo\")"
   ]
  },
  {
   "cell_type": "code",
   "execution_count": null,
   "id": "4d0b7467-74ac-485a-9863-86d754155525",
   "metadata": {},
   "outputs": [],
   "source": []
  },
  {
   "cell_type": "markdown",
   "id": "d33d4113-7102-4719-b5ba-5de5eecc02fd",
   "metadata": {
    "jp-MarkdownHeadingCollapsed": true
   },
   "source": [
    "#### 'Localizacion'"
   ]
  },
  {
   "cell_type": "code",
   "execution_count": 295,
   "id": "ed52ca60-dc48-472d-b65c-f4f9778514a2",
   "metadata": {},
   "outputs": [
    {
     "data": {
      "text/plain": [
       "array(['4.Borde Costero', '3.Centro', '1.Residencial Norte',\n",
       "       '2.Residencial Central', '6.Residencial Oriente',\n",
       "       '5.Residencial Sur', '7.Residencial Perimetral Sur'], dtype=object)"
      ]
     },
     "execution_count": 295,
     "metadata": {},
     "output_type": "execute_result"
    }
   ],
   "source": [
    "localizacion[\"macrozona\"].unique()"
   ]
  },
  {
   "cell_type": "code",
   "execution_count": 296,
   "id": "32ea3ca9-af17-4e0c-aa56-e440b7dc35eb",
   "metadata": {},
   "outputs": [],
   "source": [
    "localizacion[\"macrozona\"] = localizacion[\"macrozona\"].str.replace(r'^\\d+\\.\\s*', '', regex=True)"
   ]
  },
  {
   "cell_type": "code",
   "execution_count": 297,
   "id": "f42cc04f-51b1-41ea-8ba0-15a6ec907154",
   "metadata": {},
   "outputs": [
    {
     "data": {
      "text/plain": [
       "array(['Borde Costero', 'Centro', 'Residencial Norte',\n",
       "       'Residencial Central', 'Residencial Oriente', 'Residencial Sur',\n",
       "       'Residencial Perimetral Sur'], dtype=object)"
      ]
     },
     "execution_count": 297,
     "metadata": {},
     "output_type": "execute_result"
    }
   ],
   "source": [
    "localizacion[\"macrozona\"].unique()"
   ]
  },
  {
   "cell_type": "markdown",
   "id": "a71de6e1-07f0-491f-b8f5-3d3e2d966959",
   "metadata": {},
   "source": [
    "### Null"
   ]
  },
  {
   "cell_type": "code",
   "execution_count": 298,
   "id": "0f70158f-4c43-435f-83e1-ed2e0064b112",
   "metadata": {},
   "outputs": [
    {
     "data": {
      "text/plain": [
       "dividendo                   508\n",
       "arriendo                    423\n",
       "tipoviviendaanterior        479\n",
       "comunaviviendaanterior      479\n",
       "comunaviviendaanterior_e    492\n",
       "capredtipo                  459\n",
       "capredsuficiencia           459\n",
       "numerovehiculos             228\n",
       "numerobicicletas            395\n",
       "dtype: int64"
      ]
     },
     "execution_count": 298,
     "metadata": {},
     "output_type": "execute_result"
    }
   ],
   "source": [
    "hogar.isna().sum()[hogar.isna().sum() > 0]"
   ]
  },
  {
   "cell_type": "code",
   "execution_count": 299,
   "id": "a8b52340-3ff8-443c-b88d-76e37bb47aa2",
   "metadata": {},
   "outputs": [],
   "source": [
    "def forma_pago_vivienda(row):\n",
    "    if pd.notna(row['arriendo']):\n",
    "        return 'arriendo'\n",
    "    elif pd.notna(row['dividendo']):\n",
    "        return 'dividendo'\n",
    "    else:\n",
    "        return 'sin dato' \n",
    "\n",
    "hogar['forma_pago_vivienda'] = hogar.apply(forma_pago_vivienda, axis=1)"
   ]
  },
  {
   "cell_type": "code",
   "execution_count": 300,
   "id": "2e1ecf89-11a5-496f-b5e3-6190cd1998ca",
   "metadata": {},
   "outputs": [
    {
     "data": {
      "text/plain": [
       "array(['sin dato', 'arriendo', 'dividendo'], dtype=object)"
      ]
     },
     "execution_count": 300,
     "metadata": {},
     "output_type": "execute_result"
    }
   ],
   "source": [
    "hogar['forma_pago_vivienda'].unique()"
   ]
  },
  {
   "cell_type": "code",
   "execution_count": null,
   "id": "dcbbecdc-7ab0-4cb7-8c00-9e85245ad2b3",
   "metadata": {},
   "outputs": [],
   "source": []
  },
  {
   "cell_type": "code",
   "execution_count": 301,
   "id": "9de075e2-7561-441b-8c23-e015dfc17952",
   "metadata": {},
   "outputs": [],
   "source": [
    "hogar[\"tipoviviendaanterior\"] = hogar[\"tipoviviendaanterior\"].fillna('Desconocido')"
   ]
  },
  {
   "cell_type": "code",
   "execution_count": 302,
   "id": "136faf05-76c2-41ab-9edf-b89ba0e72dd0",
   "metadata": {},
   "outputs": [],
   "source": [
    "hogar[\"tipoviviendaanterior\"] = hogar[\"comunaviviendaanterior\"].fillna('Desconocido')"
   ]
  },
  {
   "cell_type": "code",
   "execution_count": 303,
   "id": "2b9d56db-6f0c-41ab-93d6-9c80fd475aed",
   "metadata": {},
   "outputs": [],
   "source": [
    "hogar[\"comunaviviendaanterior_e\"] = hogar[\"comunaviviendaanterior_e\"].fillna('Desconocido')"
   ]
  },
  {
   "cell_type": "code",
   "execution_count": 304,
   "id": "176bcf04-594a-4ffa-a5c9-0b3a0740abe8",
   "metadata": {},
   "outputs": [],
   "source": [
    "hogar[\"comunaviviendaanterior\"] = hogar[\"comunaviviendaanterior\"].fillna('Desconocido')"
   ]
  },
  {
   "cell_type": "code",
   "execution_count": 305,
   "id": "143c0c0a-fc01-41fe-8bc8-8c588197d01c",
   "metadata": {},
   "outputs": [],
   "source": [
    "def rellenar_capacidad(row):\n",
    "    if pd.isnull(row['capredtipo']):\n",
    "        if row['integrantecapred'] == 'No':\n",
    "            return 'No aplica'\n",
    "        elif row['integrantecapred'] == 'Si':\n",
    "            return \"Desconocido\"\n",
    "    else:\n",
    "        return row ['capredtipo']\n",
    "\n",
    "hogar['capredtipo'] = hogar.apply(rellenar_capacidad, axis=1)"
   ]
  },
  {
   "cell_type": "code",
   "execution_count": 306,
   "id": "4dc5b6b8-869a-4fcc-bdb6-22f57d0e056e",
   "metadata": {},
   "outputs": [
    {
     "data": {
      "text/plain": [
       "array(['Fisica', 'No aplica', 'Sensorial (auditiva, visual)',\n",
       "       'Intelectual'], dtype=object)"
      ]
     },
     "execution_count": 306,
     "metadata": {},
     "output_type": "execute_result"
    }
   ],
   "source": [
    "hogar[\"capredtipo\"].unique()"
   ]
  },
  {
   "cell_type": "code",
   "execution_count": 307,
   "id": "60f86c97-1da2-4a97-9d11-fa92ebd2d3f3",
   "metadata": {},
   "outputs": [],
   "source": [
    "def rellenar_capacidad(row):\n",
    "    if pd.isnull(row['capredsuficiencia']):\n",
    "        if row['integrantecapred'] == 'No':\n",
    "            return 'No aplica'\n",
    "        elif row['integrantecapred'] == 'Si':\n",
    "            return \"Desconocido\"\n",
    "    else:\n",
    "        return row ['capredsuficiencia']\n",
    "\n",
    "hogar['capredsuficiencia'] = hogar.apply(rellenar_capacidad, axis=1)"
   ]
  },
  {
   "cell_type": "code",
   "execution_count": 308,
   "id": "8a7e088b-1206-4261-95f6-1d8844297f58",
   "metadata": {},
   "outputs": [
    {
     "data": {
      "text/plain": [
       "array(['No', 'No aplica', 'Si'], dtype=object)"
      ]
     },
     "execution_count": 308,
     "metadata": {},
     "output_type": "execute_result"
    }
   ],
   "source": [
    "hogar['capredsuficiencia'].unique()"
   ]
  },
  {
   "cell_type": "code",
   "execution_count": 309,
   "id": "a3400238-7e05-4589-88b8-6b6cb0412ed0",
   "metadata": {},
   "outputs": [],
   "source": [
    "def rellenar_vehiculo(row):\n",
    "    if pd.isnull(row['numerovehiculos']):\n",
    "        if row['disponibilidadvehiculo'] == 'No':\n",
    "            return 'No aplica'\n",
    "        elif row['disponibilidadvehiculo'] == 'Si':\n",
    "            return \"Desconocido\"\n",
    "    else:\n",
    "        return row ['numerovehiculos']\n",
    "\n",
    "hogar['numerovehiculos'] = hogar.apply(rellenar_vehiculo, axis=1)"
   ]
  },
  {
   "cell_type": "code",
   "execution_count": 310,
   "id": "fe67f341-bf41-4eb9-a358-4ef44641e74b",
   "metadata": {},
   "outputs": [
    {
     "data": {
      "text/plain": [
       "array([1, 3, 2, 'No aplica'], dtype=object)"
      ]
     },
     "execution_count": 310,
     "metadata": {},
     "output_type": "execute_result"
    }
   ],
   "source": [
    "hogar['numerovehiculos'].unique()"
   ]
  },
  {
   "cell_type": "code",
   "execution_count": 311,
   "id": "abeabb23-6f6d-4e05-bffc-18121e70419e",
   "metadata": {},
   "outputs": [],
   "source": [
    "def rellenar_bicicleta(row):\n",
    "    if pd.isnull(row['numerobicicletas']):\n",
    "        if row['disponibilidadbicicleta'] == 'No':\n",
    "            return 'No aplica'\n",
    "        elif row['disponibilidadbicicleta'] == 'Si':\n",
    "            return \"Desconocido\"\n",
    "    else:\n",
    "        return row ['numerobicicletas']\n",
    "\n",
    "hogar['numerobicicletas'] = hogar.apply(rellenar_bicicleta, axis=1)"
   ]
  },
  {
   "cell_type": "code",
   "execution_count": 312,
   "id": "9bf825c4-fd95-4373-881d-8d62fc8123fa",
   "metadata": {},
   "outputs": [
    {
     "data": {
      "text/plain": [
       "array(['No aplica', 1, 3, 2, 4, 5], dtype=object)"
      ]
     },
     "execution_count": 312,
     "metadata": {},
     "output_type": "execute_result"
    }
   ],
   "source": [
    "hogar['numerobicicletas'].unique()"
   ]
  },
  {
   "cell_type": "code",
   "execution_count": 313,
   "id": "0f95f8d9-0eec-4780-97c0-90e542b5ee7b",
   "metadata": {},
   "outputs": [
    {
     "data": {
      "text/plain": [
       "tenenciatarjetaadultomayor    716\n",
       "escolaridadtitulo             747\n",
       "actividadotro_e               951\n",
       "ocupacionprincipal            511\n",
       "actividadeconomica            511\n",
       "jornadatrabajo                511\n",
       "dondeestudia                  830\n",
       "lugartrabajocomuna            511\n",
       "lugarestudiocomuna            830\n",
       "lugardiaregistroviaje         674\n",
       "motivonoviaje                 674\n",
       "motivonoviaje_e               970\n",
       "lugarcomienzodia              326\n",
       "horasalidahora                326\n",
       "horasalidaminuto              326\n",
       "numeroviajes                  326\n",
       "numeroetapas                  326\n",
       "saludcomunaesp                978\n",
       "montoingresopersonal          960\n",
       "tramoingresopersonal          313\n",
       "tramoedad                       1\n",
       "ingresopersonal               130\n",
       "dtype: int64"
      ]
     },
     "execution_count": 313,
     "metadata": {},
     "output_type": "execute_result"
    }
   ],
   "source": [
    "persona.isna().sum()[persona.isna().sum() > 0]"
   ]
  },
  {
   "cell_type": "code",
   "execution_count": 314,
   "id": "2604b656-20ce-4628-91a2-1db532a44dda",
   "metadata": {},
   "outputs": [
    {
     "data": {
      "text/plain": [
       "array(['No', nan, 'Si'], dtype=object)"
      ]
     },
     "execution_count": 314,
     "metadata": {},
     "output_type": "execute_result"
    }
   ],
   "source": [
    "persona['tenenciatarjetaadultomayor'].unique()"
   ]
  },
  {
   "cell_type": "code",
   "execution_count": 315,
   "id": "95e9e4e0-7ecf-41dd-b4d7-c37a1fb0701d",
   "metadata": {},
   "outputs": [],
   "source": [
    "def rellena_tenencia(row):\n",
    "    tramo = row['tramoedad']\n",
    "    tarjeta = row['tenenciatarjetaadultomayor']\n",
    "\n",
    "    if pd.isna(tarjeta):\n",
    "        if tramo == 'Mas de 65 años':\n",
    "            return 'No posee'\n",
    "        elif pd.isna(tramo):\n",
    "            return 'Desconocido'\n",
    "        else:\n",
    "            return 'No aplica'\n",
    "    else: \n",
    "        return tarjeta\n",
    "persona['tenenciatarjetaadultomayor'] = persona.apply(rellena_tenencia, axis=1)"
   ]
  },
  {
   "cell_type": "code",
   "execution_count": 316,
   "id": "db8bed84-c3c7-4a44-a08b-58a360dcf7ca",
   "metadata": {},
   "outputs": [],
   "source": [
    "persona['escolaridadtitulo'] = persona['escolaridadtitulo'].fillna('Desconocido')"
   ]
  },
  {
   "cell_type": "code",
   "execution_count": 317,
   "id": "513eee89-d103-47fa-baff-770e1d35d49e",
   "metadata": {},
   "outputs": [],
   "source": [
    "persona['actividadotro_e'] = persona['actividadotro_e'].fillna('No aplica')"
   ]
  },
  {
   "cell_type": "code",
   "execution_count": 318,
   "id": "00e4eaf8-0271-41cc-b846-f0cc23f1133f",
   "metadata": {},
   "outputs": [],
   "source": [
    "persona['ocupacionprincipal'] = persona['ocupacionprincipal'].fillna('Desconocido')"
   ]
  },
  {
   "cell_type": "code",
   "execution_count": 319,
   "id": "706c4a34-2c62-4594-b7e4-a799554f99e8",
   "metadata": {},
   "outputs": [],
   "source": [
    "persona['actividadeconomica'] = persona['actividadeconomica'].fillna('Desconocido')"
   ]
  },
  {
   "cell_type": "code",
   "execution_count": 320,
   "id": "cfd4b544-59a4-4800-b783-e277effed128",
   "metadata": {},
   "outputs": [],
   "source": [
    "persona['lugardiaregistroviaje'] = persona['lugardiaregistroviaje'].fillna('Desconocido')"
   ]
  },
  {
   "cell_type": "code",
   "execution_count": 321,
   "id": "c62d97c7-f164-44f4-915f-a9d525902ba9",
   "metadata": {},
   "outputs": [],
   "source": [
    "persona['lugarestudiocomuna'] = persona['lugarestudiocomuna'].fillna('Desconocido')"
   ]
  },
  {
   "cell_type": "code",
   "execution_count": 322,
   "id": "d42b4d65-d382-4f94-a5b0-1903ce24017d",
   "metadata": {},
   "outputs": [],
   "source": [
    "persona['lugartrabajocomuna'] = persona['lugartrabajocomuna'].fillna('Desconocido')"
   ]
  },
  {
   "cell_type": "code",
   "execution_count": 323,
   "id": "d8cc14e4-df7f-4fe5-9f72-f89bc4f054f2",
   "metadata": {},
   "outputs": [],
   "source": [
    "persona['lugarcomienzodia'] = persona['lugarcomienzodia'].fillna('Desconocido')"
   ]
  },
  {
   "cell_type": "code",
   "execution_count": 324,
   "id": "78ef0e00-a1cd-4322-bbde-4c69cedb513c",
   "metadata": {},
   "outputs": [],
   "source": [
    "persona['horasalidahora'] = persona['horasalidahora'].fillna('Desconocido')"
   ]
  },
  {
   "cell_type": "code",
   "execution_count": 325,
   "id": "105dda07-73bf-425b-b668-fc90d5b18f72",
   "metadata": {},
   "outputs": [],
   "source": [
    "persona['horasalidaminuto'] = persona['horasalidaminuto'].fillna('Desconocido')"
   ]
  },
  {
   "cell_type": "code",
   "execution_count": 326,
   "id": "d24830f2-3745-4406-8c56-44105421977c",
   "metadata": {},
   "outputs": [],
   "source": [
    "persona['montoingresopersonal'] = persona['montoingresopersonal'].fillna('Desconocido')"
   ]
  },
  {
   "cell_type": "code",
   "execution_count": 327,
   "id": "bcbd1e59-db62-429c-9c95-84e57547990c",
   "metadata": {},
   "outputs": [],
   "source": [
    "persona['ingresopersonal'] = persona['ingresopersonal'].fillna('Desconocido')"
   ]
  },
  {
   "cell_type": "code",
   "execution_count": 328,
   "id": "b1267869-d4c5-4398-b292-f9ba7c87191f",
   "metadata": {},
   "outputs": [],
   "source": [
    "persona['tramoedad'] = persona['tramoedad'].fillna('Desconocido')"
   ]
  },
  {
   "cell_type": "code",
   "execution_count": 329,
   "id": "a7bb6837-46dd-4fbf-8972-865c4172e2bb",
   "metadata": {},
   "outputs": [],
   "source": [
    "persona['saludcomunaesp'] = persona['saludcomunaesp'].fillna('Desconocido')"
   ]
  },
  {
   "cell_type": "code",
   "execution_count": 330,
   "id": "b68ef446-7515-40d4-9742-cf384b73012d",
   "metadata": {},
   "outputs": [],
   "source": [
    "def rellenar_trabaja(row):\n",
    "    if pd.isnull(row['jornadatrabajo']):\n",
    "        if row['actividadtrabaja'] == 'No':\n",
    "            return 'No aplica'\n",
    "        elif row['actividadtrabaja'] == 'Si':\n",
    "            return \"Desconocido\"\n",
    "    else:\n",
    "        return row ['jornadatrabajo']\n",
    "\n",
    "persona['jornadatrabajo'] = persona.apply(rellenar_trabaja, axis=1)"
   ]
  },
  {
   "cell_type": "code",
   "execution_count": 331,
   "id": "c02e09d6-509b-4e3e-bef8-ffb51df98882",
   "metadata": {},
   "outputs": [
    {
     "data": {
      "text/plain": [
       "array(['No aplica', 'Jornada completa (40 hrs o mas semanales)',\n",
       "       'Jornada parcial (menos de 40hrs semanales)', 'Ocasional'],\n",
       "      dtype=object)"
      ]
     },
     "execution_count": 331,
     "metadata": {},
     "output_type": "execute_result"
    }
   ],
   "source": [
    "persona['jornadatrabajo'].unique()"
   ]
  },
  {
   "cell_type": "code",
   "execution_count": 332,
   "id": "b58533a8-5931-4b00-9459-c5fa74f0607c",
   "metadata": {},
   "outputs": [],
   "source": [
    "def rellenar_estudia(row):\n",
    "    if pd.isnull(row['dondeestudia']):\n",
    "        if row['actividadestudia'] == 'No':\n",
    "            return 'No aplica'\n",
    "        elif row['actividadestudia'] == 'Si':\n",
    "            return \"Desconocido\"\n",
    "    else:\n",
    "        return row ['dondeestudia']\n",
    "\n",
    "persona['dondeestudia'] = persona.apply(rellenar_estudia, axis=1)"
   ]
  },
  {
   "cell_type": "code",
   "execution_count": 333,
   "id": "a121f8f9-04e1-4a1f-8527-eda2f71d1442",
   "metadata": {},
   "outputs": [
    {
     "data": {
      "text/plain": [
       "array(['No aplica', 'Escuela, liceo, colegio', 'Prekinder o kinder',\n",
       "       'Universidad', 'Jardin infantil', 'Centro de formacion tecnica',\n",
       "       'Instituto tecnico profesional', 'Otro', 'Solo preuniversitario'],\n",
       "      dtype=object)"
      ]
     },
     "execution_count": 333,
     "metadata": {},
     "output_type": "execute_result"
    }
   ],
   "source": [
    "persona['dondeestudia'].unique()"
   ]
  },
  {
   "cell_type": "code",
   "execution_count": 334,
   "id": "ea4457f4-6e0c-4793-a264-5edf0bb965e9",
   "metadata": {},
   "outputs": [],
   "source": [
    "def rellenar_motivonoviaje(row):\n",
    "    if pd.isnull(row['motivonoviaje']):\n",
    "        if row['realizoviaje'] == 'Si':\n",
    "            return 'No aplica'\n",
    "        elif row['realizoviaje'] == 'No':\n",
    "            return \"Desconocido\"\n",
    "    else:\n",
    "        return row ['motivonoviaje']\n",
    "\n",
    "persona['motivonoviaje'] = persona.apply(rellenar_motivonoviaje, axis=1)"
   ]
  },
  {
   "cell_type": "code",
   "execution_count": 335,
   "id": "848d958a-771c-4075-abd0-19dab20a878a",
   "metadata": {},
   "outputs": [
    {
     "data": {
      "text/plain": [
       "array(['Por enfermedad', 'No aplica', 'Por trabajo domestico',\n",
       "       'Por descanso', 'Por trabajo', 'Por otro motivo', 'Por estudio'],\n",
       "      dtype=object)"
      ]
     },
     "execution_count": 335,
     "metadata": {},
     "output_type": "execute_result"
    }
   ],
   "source": [
    "persona['motivonoviaje'].unique()"
   ]
  },
  {
   "cell_type": "code",
   "execution_count": 336,
   "id": "f2d577ae-2b5a-4c00-81ea-e7a5d31190fc",
   "metadata": {},
   "outputs": [],
   "source": [
    "persona['motivonoviaje_e'] = persona['motivonoviaje_e'].fillna('No aplica')"
   ]
  },
  {
   "cell_type": "code",
   "execution_count": 337,
   "id": "64bb81b6-4da0-43fc-b164-ad9782b5f368",
   "metadata": {},
   "outputs": [],
   "source": [
    "def clasificar_tramo_condicional(row):\n",
    "    # Si ya tiene un valor en tramoingresopersonal, lo dejamos\n",
    "    if pd.notna(row['tramoingresopersonal']):\n",
    "        return row['tramoingresopersonal']\n",
    "    \n",
    "    monto = row['montoingresopersonal']\n",
    "\n",
    "    if pd.isna(monto) or monto in ['desconocido', 'No responde']:\n",
    "        return 'No responde'\n",
    "    \n",
    "    try:\n",
    "        monto = float(monto)\n",
    "        if monto < 245001:\n",
    "            return 'Menos de $245.000'\n",
    "        elif 245001 <= monto <= 395000:\n",
    "            return 'Entre $245.001 y $395.000'\n",
    "        elif 395001 <= monto <= 560000:\n",
    "            return 'Entre $395.001 y $560.000'\n",
    "        elif 560001 <= monto <= 703000:\n",
    "            return 'Entre $560.001 y $703.000'\n",
    "        elif 703001 <= monto <= 821000:\n",
    "            return 'Entre $703.001 y $821.000'\n",
    "        elif 821001 <= monto <= 1035000:\n",
    "            return 'Entre $821.001 y 1.035.000'\n",
    "        elif 1035001 <= monto <= 1275000:\n",
    "            return 'Entre $1.035.001 y $1.275.000'\n",
    "        elif 1275001 <= monto <= 1726000:\n",
    "            return 'Entre $1.275.001 y $1.726.000'\n",
    "        elif 1726001 <= monto <= 2330000:\n",
    "            return 'Entre $1.726.001 y $2.330.000'\n",
    "        else:\n",
    "            return 'Mas de $2.330.000'\n",
    "    except:\n",
    "        return 'No responde'\n",
    "\n",
    "# Aplicar la función solo en los NaN\n",
    "persona['tramoingresopersonal'] = persona.apply(clasificar_tramo_condicional, axis=1)\n"
   ]
  },
  {
   "cell_type": "code",
   "execution_count": 338,
   "id": "d981a42a-7c98-4b2f-8670-9e6b8f3fab99",
   "metadata": {},
   "outputs": [
    {
     "data": {
      "text/plain": [
       "propositovc         525\n",
       "actividadempresa    792\n",
       "tipoasiento         462\n",
       "dtype: int64"
      ]
     },
     "execution_count": 338,
     "metadata": {},
     "output_type": "execute_result"
    }
   ],
   "source": [
    "viaje.isna().sum()[viaje.isna().sum() > 0]"
   ]
  },
  {
   "cell_type": "code",
   "execution_count": 339,
   "id": "83a1db9a-7aee-484e-8699-95dbdb99f63d",
   "metadata": {},
   "outputs": [],
   "source": [
    "viaje['tipoasiento'] = viaje['tipoasiento'].fillna('Desconocido')"
   ]
  },
  {
   "cell_type": "code",
   "execution_count": 340,
   "id": "e62a7072-6178-4557-b7c6-d98a6f4a8811",
   "metadata": {},
   "outputs": [],
   "source": [
    "viaje['propositovc'] = viaje['propositovc'].fillna('No aplica')"
   ]
  },
  {
   "cell_type": "code",
   "execution_count": null,
   "id": "8b276565-2ef9-492a-9876-bc745a83aeae",
   "metadata": {},
   "outputs": [],
   "source": []
  },
  {
   "cell_type": "code",
   "execution_count": 341,
   "id": "d4345a1b-d366-4939-9594-79851bb6c422",
   "metadata": {},
   "outputs": [
    {
     "data": {
      "text/plain": [
       "actividadtrabaja\n",
       "No    511\n",
       "Si    489\n",
       "Name: count, dtype: int64"
      ]
     },
     "execution_count": 341,
     "metadata": {},
     "output_type": "execute_result"
    }
   ],
   "source": [
    "persona['actividadtrabaja'].value_counts(dropna = False)"
   ]
  },
  {
   "cell_type": "code",
   "execution_count": 342,
   "id": "081b845f-bdef-4d51-a15b-2e51b3b92c95",
   "metadata": {},
   "outputs": [
    {
     "data": {
      "text/plain": [
       "cuadrascaminadasantes       246\n",
       "minutoscaminadosantes       246\n",
       "tipoasiento                 462\n",
       "ordenvehiculoviaje          462\n",
       "situacionbicicleta          957\n",
       "usohabitualbicicleta        957\n",
       "usociclovia                 957\n",
       "motivonousociclovia         957\n",
       "tiempoespera                851\n",
       "vehiculosnouso              851\n",
       "numerovehiculonouso         976\n",
       "lineatransportepublico      861\n",
       "pagotarifaviaje             848\n",
       "montotarifaviaje            857\n",
       "lugarbajovehiculo           848\n",
       "lugarbajovehiculocomuna     956\n",
       "zona_lugarbajovehiculo      956\n",
       "sector_lugarbajovehiculo    956\n",
       "dondeestacionovehiculo      462\n",
       "lugarestacionovehiculo      575\n",
       "montopagoestacionamiento    575\n",
       "lugarestacionobicicleta     957\n",
       "dtype: int64"
      ]
     },
     "execution_count": 342,
     "metadata": {},
     "output_type": "execute_result"
    }
   ],
   "source": [
    "etapa.isna().sum()[etapa.isna().sum() > 0]"
   ]
  },
  {
   "cell_type": "code",
   "execution_count": 343,
   "id": "d41d29ce-0cb7-4315-ac0e-e7b91d6593b1",
   "metadata": {},
   "outputs": [
    {
     "data": {
      "text/plain": [
       "ordenvehiculoviaje\n",
       "1.0     404\n",
       "2.0      89\n",
       "99.0     41\n",
       "3.0       4\n",
       "Name: count, dtype: int64"
      ]
     },
     "execution_count": 343,
     "metadata": {},
     "output_type": "execute_result"
    }
   ],
   "source": [
    "etapa['ordenvehiculoviaje'].value_counts()"
   ]
  },
  {
   "cell_type": "code",
   "execution_count": 344,
   "id": "8696d104-6974-441e-a1d8-2fc79b94d69d",
   "metadata": {},
   "outputs": [],
   "source": [
    "etapa.loc[\n",
    "    (etapa['usohabitualbicicleta'].isna()) &\n",
    "    (etapa['modoetapa'].str.contains('bicicleta', case=False, na=False)),\n",
    "    'usohabitualbicicleta'\n",
    "] = 'Sí'"
   ]
  },
  {
   "cell_type": "code",
   "execution_count": 345,
   "id": "a3970648-7d4f-4ae2-93af-d0bd82259657",
   "metadata": {},
   "outputs": [],
   "source": [
    "etapa['usohabitualbicicleta'] = etapa['usohabitualbicicleta'].fillna('Desconocido')"
   ]
  },
  {
   "cell_type": "code",
   "execution_count": 346,
   "id": "7493cded-4ab7-4593-b7d8-39cb6f034aa2",
   "metadata": {},
   "outputs": [],
   "source": [
    "etapa['usociclovia'] = etapa['usociclovia'].fillna('Desconocido')"
   ]
  },
  {
   "cell_type": "code",
   "execution_count": 347,
   "id": "6d388334-4b0c-46f9-9a52-e99ad62943d2",
   "metadata": {},
   "outputs": [],
   "source": [
    "etapa['motivonousociclovia'] = etapa['motivonousociclovia'].fillna('Desconocido')"
   ]
  },
  {
   "cell_type": "code",
   "execution_count": 348,
   "id": "acd69136-8b69-46b1-9365-659c2bdc298e",
   "metadata": {},
   "outputs": [],
   "source": [
    "etapa['cuadrascaminadasantes'] = etapa['cuadrascaminadasantes'].fillna('Desconocido')"
   ]
  },
  {
   "cell_type": "code",
   "execution_count": 349,
   "id": "1bae0f25-4a95-41a5-a206-52957c290ad4",
   "metadata": {},
   "outputs": [],
   "source": [
    "etapa['minutoscaminadosantes'] = etapa['minutoscaminadosantes'].fillna('Desconocido')"
   ]
  },
  {
   "cell_type": "code",
   "execution_count": 350,
   "id": "ce754f5a-710f-401e-b473-b813c4580471",
   "metadata": {},
   "outputs": [],
   "source": [
    "etapa['tipoasiento'] = etapa['tipoasiento'].fillna('Desconocido')"
   ]
  },
  {
   "cell_type": "code",
   "execution_count": 351,
   "id": "40f56fa9-d51b-4c4b-9cd9-65a952ff050e",
   "metadata": {},
   "outputs": [],
   "source": [
    "etapa['tiempoespera'] = etapa['tiempoespera'].fillna('Desconocido')"
   ]
  },
  {
   "cell_type": "code",
   "execution_count": 352,
   "id": "d8ac9cae-afb2-4277-a3bf-8717676da181",
   "metadata": {},
   "outputs": [],
   "source": [
    "etapa['lineatransportepublico'] = etapa['lineatransportepublico'].fillna('Desconocido')"
   ]
  },
  {
   "cell_type": "code",
   "execution_count": 353,
   "id": "f740e99e-614a-4e93-bf21-236bb0067a8a",
   "metadata": {},
   "outputs": [],
   "source": [
    "etapa['lineatransportepublico'] = etapa['lineatransportepublico'].fillna('Desconocido')"
   ]
  },
  {
   "cell_type": "code",
   "execution_count": 354,
   "id": "a9e0bcc2-eb35-46e0-ae42-1b40c14ea3aa",
   "metadata": {},
   "outputs": [],
   "source": [
    "etapa['montotarifaviaje'] = etapa['montotarifaviaje'].fillna('Desconocido')"
   ]
  },
  {
   "cell_type": "code",
   "execution_count": 355,
   "id": "dda97b55-29a8-45bc-848e-b374bf4fa983",
   "metadata": {},
   "outputs": [],
   "source": [
    "etapa['lugarbajovehiculo'] = etapa['lugarbajovehiculo'].fillna('Desconocido')"
   ]
  },
  {
   "cell_type": "code",
   "execution_count": 356,
   "id": "6a21a177-08e0-4ad5-8915-87ba959230cd",
   "metadata": {},
   "outputs": [],
   "source": [
    "etapa['lugarbajovehiculocomuna'] = etapa['lugarbajovehiculocomuna'].fillna('Desconocido')"
   ]
  },
  {
   "cell_type": "code",
   "execution_count": 357,
   "id": "d73ee1dc-a0f1-4ebd-bef7-01fa0f263f80",
   "metadata": {},
   "outputs": [],
   "source": [
    "etapa['zona_lugarbajovehiculo'] = etapa['zona_lugarbajovehiculo'].fillna('Desconocido')"
   ]
  },
  {
   "cell_type": "code",
   "execution_count": 358,
   "id": "d4ecf68c-9bb6-4d1c-ae54-bd38a6f079ee",
   "metadata": {},
   "outputs": [],
   "source": [
    "etapa['sector_lugarbajovehiculo'] = etapa['sector_lugarbajovehiculo'].fillna('Desconocido')"
   ]
  },
  {
   "cell_type": "code",
   "execution_count": 359,
   "id": "a46c1351-8eb6-4e14-8cca-2e5ce239a9cf",
   "metadata": {},
   "outputs": [],
   "source": [
    "etapa['montopagoestacionamiento'] = etapa['montopagoestacionamiento'].fillna('Desconocido')"
   ]
  },
  {
   "cell_type": "code",
   "execution_count": 360,
   "id": "60ce40d2-1ce6-4f31-b9a0-168565c063ba",
   "metadata": {},
   "outputs": [],
   "source": [
    "etapa['situacionbicicleta'] = etapa['situacionbicicleta'].fillna('No aplica')"
   ]
  },
  {
   "cell_type": "code",
   "execution_count": 361,
   "id": "7279c00c-0f79-4906-81e6-79a2c3ad7cde",
   "metadata": {},
   "outputs": [],
   "source": [
    "etapa['numerovehiculonouso'] = etapa['numerovehiculonouso'].fillna('Desconocido')"
   ]
  },
  {
   "cell_type": "code",
   "execution_count": 362,
   "id": "0ce6bd11-7fc8-4253-b64c-dfccb8f3ef6e",
   "metadata": {},
   "outputs": [],
   "source": [
    "etapa['pagotarifaviaje'] = etapa['pagotarifaviaje'].fillna('Desconocido')"
   ]
  },
  {
   "cell_type": "code",
   "execution_count": 363,
   "id": "4dea3cef-0189-48e5-99af-5f6f4c72ded8",
   "metadata": {},
   "outputs": [],
   "source": [
    "etapa['dondeestacionovehiculo'] = etapa['dondeestacionovehiculo'].fillna('Desconocido')"
   ]
  },
  {
   "cell_type": "code",
   "execution_count": 364,
   "id": "576024a2-aa45-406c-acff-6b56b5e4e5b7",
   "metadata": {},
   "outputs": [],
   "source": [
    "etapa['lugarestacionovehiculo'] = etapa['lugarestacionovehiculo'].fillna('Desconocido')"
   ]
  },
  {
   "cell_type": "code",
   "execution_count": 365,
   "id": "ff583087-fe02-40d2-abe0-b23c719f6712",
   "metadata": {},
   "outputs": [],
   "source": [
    "etapa['lugarestacionobicicleta'] = etapa['lugarestacionobicicleta'].fillna('Desconocido')"
   ]
  },
  {
   "cell_type": "code",
   "execution_count": 366,
   "id": "a61d1b59-d149-4423-88c5-d0d8ae4b16bd",
   "metadata": {},
   "outputs": [],
   "source": [
    "etapa['vehiculosnouso'] = etapa['vehiculosnouso'].fillna('Desconocido')"
   ]
  },
  {
   "cell_type": "code",
   "execution_count": 367,
   "id": "01984119-da5e-47aa-b0b5-91e61d77d347",
   "metadata": {},
   "outputs": [],
   "source": [
    "def rellenar_ordenvehiculo(row):\n",
    "    if pd.isnull(row['ordenvehiculoviaje']):\n",
    "        if row['modoetapa'] != 1:\n",
    "            return 'No aplica'\n",
    "        elif row['modoetapa'] == 1:\n",
    "            return \"Desconocido\"\n",
    "    else:\n",
    "        return row['ordenvehiculoviaje']\n",
    "\n",
    "etapa['ordenvehiculoviaje'] = etapa.apply(rellenar_ordenvehiculo, axis=1)"
   ]
  },
  {
   "cell_type": "code",
   "execution_count": 368,
   "id": "07f44c60-3d87-4b05-98ec-23ebfe74fbfa",
   "metadata": {},
   "outputs": [
    {
     "data": {
      "text/plain": [
       "ordenvehiculoviaje\n",
       "No aplica    462\n",
       "1.0          404\n",
       "2.0           89\n",
       "99.0          41\n",
       "3.0            4\n",
       "Name: count, dtype: int64"
      ]
     },
     "execution_count": 368,
     "metadata": {},
     "output_type": "execute_result"
    }
   ],
   "source": [
    "etapa['ordenvehiculoviaje'].value_counts()"
   ]
  },
  {
   "cell_type": "code",
   "execution_count": null,
   "id": "d9b6538b-a1c5-4388-9e4d-0dedef844b5d",
   "metadata": {},
   "outputs": [],
   "source": []
  },
  {
   "cell_type": "markdown",
   "id": "3b8a5380-24ca-442b-8e10-ef152a2f98bc",
   "metadata": {},
   "source": [
    "### Guardado Dataset limpios"
   ]
  },
  {
   "cell_type": "code",
   "execution_count": 369,
   "id": "14e7d562-1a52-4b74-900b-89ca2771b333",
   "metadata": {},
   "outputs": [],
   "source": [
    "hogar.to_csv(\"hogar_limpio.csv\", index=False)\n",
    "viaje.to_csv(\"viajes_limpio.csv\", index=False)\n",
    "bicicleta.to_csv(\"bicicleta_limpio.csv\", index=False)\n",
    "vehiculo.to_csv(\"vehiculo_limpio.csv\", index=False)\n",
    "persona.to_csv(\"persona_limpio.csv\", index=False)\n",
    "etapa.to_csv(\"etapa_limpio.csv\", index=False)\n",
    "localizacion.to_csv(\"localizacion_limpio.csv\", index=False)"
   ]
  },
  {
   "cell_type": "code",
   "execution_count": null,
   "id": "9b94b019-431f-4f99-ad71-eab129392aa2",
   "metadata": {},
   "outputs": [],
   "source": []
  },
  {
   "cell_type": "code",
   "execution_count": null,
   "id": "4c72fd70-2ddc-493a-a495-8a4c6bde8616",
   "metadata": {},
   "outputs": [],
   "source": []
  }
 ],
 "metadata": {
  "kernelspec": {
   "display_name": "Python 3 (ipykernel)",
   "language": "python",
   "name": "python3"
  },
  "language_info": {
   "codemirror_mode": {
    "name": "ipython",
    "version": 3
   },
   "file_extension": ".py",
   "mimetype": "text/x-python",
   "name": "python",
   "nbconvert_exporter": "python",
   "pygments_lexer": "ipython3",
   "version": "3.13.2"
  }
 },
 "nbformat": 4,
 "nbformat_minor": 5
}
